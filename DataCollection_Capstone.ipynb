{
 "cells": [
  {
   "cell_type": "markdown",
   "id": "3f0c05bb",
   "metadata": {},
   "source": [
    "Open Netflix titles\n",
    "\n",
    "(https://www.kaggle.com/datasets/ashirwadsangwan/imdb-dataset; Netflix charges for downloads now)"
   ]
  },
  {
   "cell_type": "code",
   "execution_count": 1,
   "id": "95f91e72",
   "metadata": {},
   "outputs": [],
   "source": [
    "import pandas as pd\n",
    "from datetime import datetime"
   ]
  },
  {
   "cell_type": "code",
   "execution_count": 72,
   "id": "7f2c0ab4",
   "metadata": {},
   "outputs": [
    {
     "name": "stderr",
     "output_type": "stream",
     "text": [
      "/var/folders/cp/7qmpmnt105b1wpvjj8wd7r140000gp/T/ipykernel_2506/3084644136.py:1: DtypeWarning: Columns (4) have mixed types. Specify dtype option on import or set low_memory=False.\n",
      "  titlesFromNetflix = pd.read_csv('title.basics.tsv', sep='\\t')\n"
     ]
    }
   ],
   "source": [
    "titlesFromNetflix = pd.read_csv('title.basics.tsv', sep='\\t')"
   ]
  },
  {
   "cell_type": "code",
   "execution_count": 3,
   "id": "4526ac27",
   "metadata": {},
   "outputs": [],
   "source": [
    "from pathlib import Path\n",
    "\n",
    "import numpy as np\n",
    "import requests\n",
    "\n",
    "import ydata_profiling\n",
    "from ydata_profiling.utils.cache import cache_file"
   ]
  },
  {
   "cell_type": "code",
   "execution_count": 4,
   "id": "404e79ad",
   "metadata": {},
   "outputs": [
    {
     "name": "stdout",
     "output_type": "stream",
     "text": [
      "<class 'pandas.core.frame.DataFrame'>\n",
      "RangeIndex: 10388629 entries, 0 to 10388628\n",
      "Data columns (total 9 columns):\n",
      " #   Column          Dtype \n",
      "---  ------          ----- \n",
      " 0   tconst          object\n",
      " 1   titleType       object\n",
      " 2   primaryTitle    object\n",
      " 3   originalTitle   object\n",
      " 4   isAdult         object\n",
      " 5   startYear       object\n",
      " 6   endYear         object\n",
      " 7   runtimeMinutes  object\n",
      " 8   genres          object\n",
      "dtypes: object(9)\n",
      "memory usage: 713.3+ MB\n"
     ]
    }
   ],
   "source": [
    "titlesFromNetflix.info()"
   ]
  },
  {
   "cell_type": "code",
   "execution_count": 5,
   "id": "1045fbd3",
   "metadata": {},
   "outputs": [
    {
     "name": "stdout",
     "output_type": "stream",
     "text": [
      "      tconst titleType            primaryTitle           originalTitle  \\\n",
      "0  tt0000001     short              Carmencita              Carmencita   \n",
      "1  tt0000002     short  Le clown et ses chiens  Le clown et ses chiens   \n",
      "2  tt0000003     short          Pauvre Pierrot          Pauvre Pierrot   \n",
      "3  tt0000004     short             Un bon bock             Un bon bock   \n",
      "4  tt0000005     short        Blacksmith Scene        Blacksmith Scene   \n",
      "\n",
      "  isAdult startYear endYear runtimeMinutes                    genres  \n",
      "0       0      1894      \\N              1         Documentary,Short  \n",
      "1       0      1892      \\N              5           Animation,Short  \n",
      "2       0      1892      \\N              4  Animation,Comedy,Romance  \n",
      "3       0      1892      \\N             12           Animation,Short  \n",
      "4       0      1893      \\N              1              Comedy,Short  \n",
      "(10388629, 9)\n"
     ]
    }
   ],
   "source": [
    "print(titlesFromNetflix.head())\n",
    "print(titlesFromNetflix.shape)"
   ]
  },
  {
   "cell_type": "markdown",
   "id": "54dadfd6",
   "metadata": {},
   "source": [
    "## Next\n",
    "Convert startYear to date. Don't need endYear because only looking at movies"
   ]
  },
  {
   "cell_type": "code",
   "execution_count": 6,
   "id": "1f600ad8",
   "metadata": {},
   "outputs": [],
   "source": [
    "titlesFromNetflix[\"startYear\"] = pd.to_datetime(titlesFromNetflix[\"startYear\"], format='%Y', errors=\"coerce\").dt.year\n",
    "#df['your column'] = df['your column'].astype(int, errors='ignore')\n",
    "titlesFromNetflix[\"startYear\"] = titlesFromNetflix[\"startYear\"].astype(int, errors=\"ignore\")"
   ]
  },
  {
   "cell_type": "code",
   "execution_count": 7,
   "id": "fd9a8623",
   "metadata": {},
   "outputs": [
    {
     "name": "stdout",
     "output_type": "stream",
     "text": [
      "      tconst titleType            primaryTitle           originalTitle  \\\n",
      "0  tt0000001     short              Carmencita              Carmencita   \n",
      "1  tt0000002     short  Le clown et ses chiens  Le clown et ses chiens   \n",
      "2  tt0000003     short          Pauvre Pierrot          Pauvre Pierrot   \n",
      "3  tt0000004     short             Un bon bock             Un bon bock   \n",
      "4  tt0000005     short        Blacksmith Scene        Blacksmith Scene   \n",
      "\n",
      "  isAdult  startYear endYear runtimeMinutes                    genres  \n",
      "0       0     1894.0      \\N              1         Documentary,Short  \n",
      "1       0     1892.0      \\N              5           Animation,Short  \n",
      "2       0     1892.0      \\N              4  Animation,Comedy,Romance  \n",
      "3       0     1892.0      \\N             12           Animation,Short  \n",
      "4       0     1893.0      \\N              1              Comedy,Short  \n"
     ]
    }
   ],
   "source": [
    "print(titlesFromNetflix.head())"
   ]
  },
  {
   "cell_type": "code",
   "execution_count": 8,
   "id": "98b9a869",
   "metadata": {},
   "outputs": [
    {
     "data": {
      "text/plain": [
       "tconst             object\n",
       "titleType          object\n",
       "primaryTitle       object\n",
       "originalTitle      object\n",
       "isAdult            object\n",
       "startYear         float64\n",
       "endYear            object\n",
       "runtimeMinutes     object\n",
       "genres             object\n",
       "dtype: object"
      ]
     },
     "execution_count": 8,
     "metadata": {},
     "output_type": "execute_result"
    }
   ],
   "source": [
    "titlesFromNetflix.dtypes"
   ]
  },
  {
   "cell_type": "code",
   "execution_count": 9,
   "id": "e682e147",
   "metadata": {},
   "outputs": [
    {
     "data": {
      "text/html": [
       "<div>\n",
       "<style scoped>\n",
       "    .dataframe tbody tr th:only-of-type {\n",
       "        vertical-align: middle;\n",
       "    }\n",
       "\n",
       "    .dataframe tbody tr th {\n",
       "        vertical-align: top;\n",
       "    }\n",
       "\n",
       "    .dataframe thead th {\n",
       "        text-align: right;\n",
       "    }\n",
       "</style>\n",
       "<table border=\"1\" class=\"dataframe\">\n",
       "  <thead>\n",
       "    <tr style=\"text-align: right;\">\n",
       "      <th></th>\n",
       "      <th>tconst</th>\n",
       "      <th>titleType</th>\n",
       "      <th>primaryTitle</th>\n",
       "      <th>originalTitle</th>\n",
       "      <th>isAdult</th>\n",
       "      <th>startYear</th>\n",
       "      <th>endYear</th>\n",
       "      <th>runtimeMinutes</th>\n",
       "      <th>genres</th>\n",
       "    </tr>\n",
       "  </thead>\n",
       "  <tbody>\n",
       "    <tr>\n",
       "      <th>0</th>\n",
       "      <td>tt0000001</td>\n",
       "      <td>short</td>\n",
       "      <td>Carmencita</td>\n",
       "      <td>Carmencita</td>\n",
       "      <td>0</td>\n",
       "      <td>1894.0</td>\n",
       "      <td>\\N</td>\n",
       "      <td>1</td>\n",
       "      <td>Documentary,Short</td>\n",
       "    </tr>\n",
       "    <tr>\n",
       "      <th>1</th>\n",
       "      <td>tt0000002</td>\n",
       "      <td>short</td>\n",
       "      <td>Le clown et ses chiens</td>\n",
       "      <td>Le clown et ses chiens</td>\n",
       "      <td>0</td>\n",
       "      <td>1892.0</td>\n",
       "      <td>\\N</td>\n",
       "      <td>5</td>\n",
       "      <td>Animation,Short</td>\n",
       "    </tr>\n",
       "    <tr>\n",
       "      <th>2</th>\n",
       "      <td>tt0000003</td>\n",
       "      <td>short</td>\n",
       "      <td>Pauvre Pierrot</td>\n",
       "      <td>Pauvre Pierrot</td>\n",
       "      <td>0</td>\n",
       "      <td>1892.0</td>\n",
       "      <td>\\N</td>\n",
       "      <td>4</td>\n",
       "      <td>Animation,Comedy,Romance</td>\n",
       "    </tr>\n",
       "    <tr>\n",
       "      <th>3</th>\n",
       "      <td>tt0000004</td>\n",
       "      <td>short</td>\n",
       "      <td>Un bon bock</td>\n",
       "      <td>Un bon bock</td>\n",
       "      <td>0</td>\n",
       "      <td>1892.0</td>\n",
       "      <td>\\N</td>\n",
       "      <td>12</td>\n",
       "      <td>Animation,Short</td>\n",
       "    </tr>\n",
       "    <tr>\n",
       "      <th>4</th>\n",
       "      <td>tt0000005</td>\n",
       "      <td>short</td>\n",
       "      <td>Blacksmith Scene</td>\n",
       "      <td>Blacksmith Scene</td>\n",
       "      <td>0</td>\n",
       "      <td>1893.0</td>\n",
       "      <td>\\N</td>\n",
       "      <td>1</td>\n",
       "      <td>Comedy,Short</td>\n",
       "    </tr>\n",
       "    <tr>\n",
       "      <th>...</th>\n",
       "      <td>...</td>\n",
       "      <td>...</td>\n",
       "      <td>...</td>\n",
       "      <td>...</td>\n",
       "      <td>...</td>\n",
       "      <td>...</td>\n",
       "      <td>...</td>\n",
       "      <td>...</td>\n",
       "      <td>...</td>\n",
       "    </tr>\n",
       "    <tr>\n",
       "      <th>10388624</th>\n",
       "      <td>tt9916848</td>\n",
       "      <td>tvEpisode</td>\n",
       "      <td>Episode #3.17</td>\n",
       "      <td>Episode #3.17</td>\n",
       "      <td>0</td>\n",
       "      <td>2009.0</td>\n",
       "      <td>\\N</td>\n",
       "      <td>\\N</td>\n",
       "      <td>Action,Drama,Family</td>\n",
       "    </tr>\n",
       "    <tr>\n",
       "      <th>10388625</th>\n",
       "      <td>tt9916850</td>\n",
       "      <td>tvEpisode</td>\n",
       "      <td>Episode #3.19</td>\n",
       "      <td>Episode #3.19</td>\n",
       "      <td>0</td>\n",
       "      <td>2010.0</td>\n",
       "      <td>\\N</td>\n",
       "      <td>\\N</td>\n",
       "      <td>Action,Drama,Family</td>\n",
       "    </tr>\n",
       "    <tr>\n",
       "      <th>10388626</th>\n",
       "      <td>tt9916852</td>\n",
       "      <td>tvEpisode</td>\n",
       "      <td>Episode #3.20</td>\n",
       "      <td>Episode #3.20</td>\n",
       "      <td>0</td>\n",
       "      <td>2010.0</td>\n",
       "      <td>\\N</td>\n",
       "      <td>\\N</td>\n",
       "      <td>Action,Drama,Family</td>\n",
       "    </tr>\n",
       "    <tr>\n",
       "      <th>10388627</th>\n",
       "      <td>tt9916856</td>\n",
       "      <td>short</td>\n",
       "      <td>The Wind</td>\n",
       "      <td>The Wind</td>\n",
       "      <td>0</td>\n",
       "      <td>2015.0</td>\n",
       "      <td>\\N</td>\n",
       "      <td>27</td>\n",
       "      <td>Short</td>\n",
       "    </tr>\n",
       "    <tr>\n",
       "      <th>10388628</th>\n",
       "      <td>tt9916880</td>\n",
       "      <td>tvEpisode</td>\n",
       "      <td>Horrid Henry Knows It All</td>\n",
       "      <td>Horrid Henry Knows It All</td>\n",
       "      <td>0</td>\n",
       "      <td>2014.0</td>\n",
       "      <td>\\N</td>\n",
       "      <td>10</td>\n",
       "      <td>Adventure,Animation,Comedy</td>\n",
       "    </tr>\n",
       "  </tbody>\n",
       "</table>\n",
       "<p>9000658 rows × 9 columns</p>\n",
       "</div>"
      ],
      "text/plain": [
       "             tconst  titleType               primaryTitle  \\\n",
       "0         tt0000001      short                 Carmencita   \n",
       "1         tt0000002      short     Le clown et ses chiens   \n",
       "2         tt0000003      short             Pauvre Pierrot   \n",
       "3         tt0000004      short                Un bon bock   \n",
       "4         tt0000005      short           Blacksmith Scene   \n",
       "...             ...        ...                        ...   \n",
       "10388624  tt9916848  tvEpisode              Episode #3.17   \n",
       "10388625  tt9916850  tvEpisode              Episode #3.19   \n",
       "10388626  tt9916852  tvEpisode              Episode #3.20   \n",
       "10388627  tt9916856      short                   The Wind   \n",
       "10388628  tt9916880  tvEpisode  Horrid Henry Knows It All   \n",
       "\n",
       "                      originalTitle isAdult  startYear endYear runtimeMinutes  \\\n",
       "0                        Carmencita       0     1894.0      \\N              1   \n",
       "1            Le clown et ses chiens       0     1892.0      \\N              5   \n",
       "2                    Pauvre Pierrot       0     1892.0      \\N              4   \n",
       "3                       Un bon bock       0     1892.0      \\N             12   \n",
       "4                  Blacksmith Scene       0     1893.0      \\N              1   \n",
       "...                             ...     ...        ...     ...            ...   \n",
       "10388624              Episode #3.17       0     2009.0      \\N             \\N   \n",
       "10388625              Episode #3.19       0     2010.0      \\N             \\N   \n",
       "10388626              Episode #3.20       0     2010.0      \\N             \\N   \n",
       "10388627                   The Wind       0     2015.0      \\N             27   \n",
       "10388628  Horrid Henry Knows It All       0     2014.0      \\N             10   \n",
       "\n",
       "                              genres  \n",
       "0                  Documentary,Short  \n",
       "1                    Animation,Short  \n",
       "2           Animation,Comedy,Romance  \n",
       "3                    Animation,Short  \n",
       "4                       Comedy,Short  \n",
       "...                              ...  \n",
       "10388624         Action,Drama,Family  \n",
       "10388625         Action,Drama,Family  \n",
       "10388626         Action,Drama,Family  \n",
       "10388627                       Short  \n",
       "10388628  Adventure,Animation,Comedy  \n",
       "\n",
       "[9000658 rows x 9 columns]"
      ]
     },
     "execution_count": 9,
     "metadata": {},
     "output_type": "execute_result"
    }
   ],
   "source": [
    "titlesFromNetflix.dropna(subset=['startYear'])"
   ]
  },
  {
   "cell_type": "markdown",
   "id": "f3950480",
   "metadata": {},
   "source": [
    "## Next\n",
    "Drop unnecessary columns"
   ]
  },
  {
   "cell_type": "code",
   "execution_count": 10,
   "id": "88688de3",
   "metadata": {},
   "outputs": [],
   "source": [
    "titlesFromNetflix = titlesFromNetflix.drop(['originalTitle', 'isAdult', 'endYear', 'runtimeMinutes'], axis=1)"
   ]
  },
  {
   "cell_type": "code",
   "execution_count": 11,
   "id": "36288100",
   "metadata": {},
   "outputs": [
    {
     "data": {
      "text/html": [
       "<div>\n",
       "<style scoped>\n",
       "    .dataframe tbody tr th:only-of-type {\n",
       "        vertical-align: middle;\n",
       "    }\n",
       "\n",
       "    .dataframe tbody tr th {\n",
       "        vertical-align: top;\n",
       "    }\n",
       "\n",
       "    .dataframe thead th {\n",
       "        text-align: right;\n",
       "    }\n",
       "</style>\n",
       "<table border=\"1\" class=\"dataframe\">\n",
       "  <thead>\n",
       "    <tr style=\"text-align: right;\">\n",
       "      <th></th>\n",
       "      <th>tconst</th>\n",
       "      <th>titleType</th>\n",
       "      <th>primaryTitle</th>\n",
       "      <th>startYear</th>\n",
       "      <th>genres</th>\n",
       "    </tr>\n",
       "  </thead>\n",
       "  <tbody>\n",
       "    <tr>\n",
       "      <th>0</th>\n",
       "      <td>tt0000001</td>\n",
       "      <td>short</td>\n",
       "      <td>Carmencita</td>\n",
       "      <td>1894.0</td>\n",
       "      <td>Documentary,Short</td>\n",
       "    </tr>\n",
       "    <tr>\n",
       "      <th>1</th>\n",
       "      <td>tt0000002</td>\n",
       "      <td>short</td>\n",
       "      <td>Le clown et ses chiens</td>\n",
       "      <td>1892.0</td>\n",
       "      <td>Animation,Short</td>\n",
       "    </tr>\n",
       "    <tr>\n",
       "      <th>2</th>\n",
       "      <td>tt0000003</td>\n",
       "      <td>short</td>\n",
       "      <td>Pauvre Pierrot</td>\n",
       "      <td>1892.0</td>\n",
       "      <td>Animation,Comedy,Romance</td>\n",
       "    </tr>\n",
       "    <tr>\n",
       "      <th>3</th>\n",
       "      <td>tt0000004</td>\n",
       "      <td>short</td>\n",
       "      <td>Un bon bock</td>\n",
       "      <td>1892.0</td>\n",
       "      <td>Animation,Short</td>\n",
       "    </tr>\n",
       "    <tr>\n",
       "      <th>4</th>\n",
       "      <td>tt0000005</td>\n",
       "      <td>short</td>\n",
       "      <td>Blacksmith Scene</td>\n",
       "      <td>1893.0</td>\n",
       "      <td>Comedy,Short</td>\n",
       "    </tr>\n",
       "  </tbody>\n",
       "</table>\n",
       "</div>"
      ],
      "text/plain": [
       "      tconst titleType            primaryTitle  startYear  \\\n",
       "0  tt0000001     short              Carmencita     1894.0   \n",
       "1  tt0000002     short  Le clown et ses chiens     1892.0   \n",
       "2  tt0000003     short          Pauvre Pierrot     1892.0   \n",
       "3  tt0000004     short             Un bon bock     1892.0   \n",
       "4  tt0000005     short        Blacksmith Scene     1893.0   \n",
       "\n",
       "                     genres  \n",
       "0         Documentary,Short  \n",
       "1           Animation,Short  \n",
       "2  Animation,Comedy,Romance  \n",
       "3           Animation,Short  \n",
       "4              Comedy,Short  "
      ]
     },
     "execution_count": 11,
     "metadata": {},
     "output_type": "execute_result"
    }
   ],
   "source": [
    "titlesFromNetflix.head()"
   ]
  },
  {
   "cell_type": "markdown",
   "id": "d8ec7d58",
   "metadata": {},
   "source": [
    "## Next\n",
    "Drop movies from before 1990"
   ]
  },
  {
   "cell_type": "code",
   "execution_count": 12,
   "id": "1e18f63b",
   "metadata": {},
   "outputs": [],
   "source": [
    "titlesFromNetflix = titlesFromNetflix.drop(titlesFromNetflix[titlesFromNetflix['startYear'] < 1990].index)"
   ]
  },
  {
   "cell_type": "code",
   "execution_count": 13,
   "id": "7ccd6f08",
   "metadata": {},
   "outputs": [
    {
     "data": {
      "text/html": [
       "<div>\n",
       "<style scoped>\n",
       "    .dataframe tbody tr th:only-of-type {\n",
       "        vertical-align: middle;\n",
       "    }\n",
       "\n",
       "    .dataframe tbody tr th {\n",
       "        vertical-align: top;\n",
       "    }\n",
       "\n",
       "    .dataframe thead th {\n",
       "        text-align: right;\n",
       "    }\n",
       "</style>\n",
       "<table border=\"1\" class=\"dataframe\">\n",
       "  <thead>\n",
       "    <tr style=\"text-align: right;\">\n",
       "      <th></th>\n",
       "      <th>tconst</th>\n",
       "      <th>titleType</th>\n",
       "      <th>primaryTitle</th>\n",
       "      <th>startYear</th>\n",
       "      <th>genres</th>\n",
       "    </tr>\n",
       "  </thead>\n",
       "  <tbody>\n",
       "    <tr>\n",
       "      <th>619</th>\n",
       "      <td>tt0000624</td>\n",
       "      <td>short</td>\n",
       "      <td>The Ugly Duckling</td>\n",
       "      <td>NaN</td>\n",
       "      <td>Short</td>\n",
       "    </tr>\n",
       "    <tr>\n",
       "      <th>919</th>\n",
       "      <td>tt0000929</td>\n",
       "      <td>short</td>\n",
       "      <td>Klebolin klebt alles</td>\n",
       "      <td>1990.0</td>\n",
       "      <td>Comedy,Short</td>\n",
       "    </tr>\n",
       "    <tr>\n",
       "      <th>965</th>\n",
       "      <td>tt0000977</td>\n",
       "      <td>short</td>\n",
       "      <td>Mutterliebe</td>\n",
       "      <td>1990.0</td>\n",
       "      <td>Short</td>\n",
       "    </tr>\n",
       "    <tr>\n",
       "      <th>11635</th>\n",
       "      <td>tt0011801</td>\n",
       "      <td>movie</td>\n",
       "      <td>Tötet nicht mehr</td>\n",
       "      <td>2019.0</td>\n",
       "      <td>Action,Crime</td>\n",
       "    </tr>\n",
       "    <tr>\n",
       "      <th>13080</th>\n",
       "      <td>tt0013274</td>\n",
       "      <td>movie</td>\n",
       "      <td>Istoriya grazhdanskoy voyny</td>\n",
       "      <td>2021.0</td>\n",
       "      <td>Documentary</td>\n",
       "    </tr>\n",
       "  </tbody>\n",
       "</table>\n",
       "</div>"
      ],
      "text/plain": [
       "          tconst titleType                 primaryTitle  startYear  \\\n",
       "619    tt0000624     short            The Ugly Duckling        NaN   \n",
       "919    tt0000929     short         Klebolin klebt alles     1990.0   \n",
       "965    tt0000977     short                  Mutterliebe     1990.0   \n",
       "11635  tt0011801     movie             Tötet nicht mehr     2019.0   \n",
       "13080  tt0013274     movie  Istoriya grazhdanskoy voyny     2021.0   \n",
       "\n",
       "             genres  \n",
       "619           Short  \n",
       "919    Comedy,Short  \n",
       "965           Short  \n",
       "11635  Action,Crime  \n",
       "13080   Documentary  "
      ]
     },
     "execution_count": 13,
     "metadata": {},
     "output_type": "execute_result"
    }
   ],
   "source": [
    "titlesFromNetflix.head()"
   ]
  },
  {
   "cell_type": "code",
   "execution_count": 14,
   "id": "930c339d",
   "metadata": {},
   "outputs": [],
   "source": [
    "titlesFromNetflix_dropped = titlesFromNetflix.drop(titlesFromNetflix[(titlesFromNetflix['startYear'].isna()) | (titlesFromNetflix['titleType'] == 'short')].index)"
   ]
  },
  {
   "cell_type": "code",
   "execution_count": 15,
   "id": "33e7d7fd",
   "metadata": {},
   "outputs": [
    {
     "data": {
      "text/html": [
       "<div>\n",
       "<style scoped>\n",
       "    .dataframe tbody tr th:only-of-type {\n",
       "        vertical-align: middle;\n",
       "    }\n",
       "\n",
       "    .dataframe tbody tr th {\n",
       "        vertical-align: top;\n",
       "    }\n",
       "\n",
       "    .dataframe thead th {\n",
       "        text-align: right;\n",
       "    }\n",
       "</style>\n",
       "<table border=\"1\" class=\"dataframe\">\n",
       "  <thead>\n",
       "    <tr style=\"text-align: right;\">\n",
       "      <th></th>\n",
       "      <th>tconst</th>\n",
       "      <th>titleType</th>\n",
       "      <th>primaryTitle</th>\n",
       "      <th>startYear</th>\n",
       "      <th>genres</th>\n",
       "    </tr>\n",
       "  </thead>\n",
       "  <tbody>\n",
       "    <tr>\n",
       "      <th>11635</th>\n",
       "      <td>tt0011801</td>\n",
       "      <td>movie</td>\n",
       "      <td>Tötet nicht mehr</td>\n",
       "      <td>2019.0</td>\n",
       "      <td>Action,Crime</td>\n",
       "    </tr>\n",
       "    <tr>\n",
       "      <th>13080</th>\n",
       "      <td>tt0013274</td>\n",
       "      <td>movie</td>\n",
       "      <td>Istoriya grazhdanskoy voyny</td>\n",
       "      <td>2021.0</td>\n",
       "      <td>Documentary</td>\n",
       "    </tr>\n",
       "    <tr>\n",
       "      <th>15175</th>\n",
       "      <td>tt0015414</td>\n",
       "      <td>movie</td>\n",
       "      <td>La tierra de los toros</td>\n",
       "      <td>2000.0</td>\n",
       "      <td>\\N</td>\n",
       "    </tr>\n",
       "    <tr>\n",
       "      <th>15483</th>\n",
       "      <td>tt0015724</td>\n",
       "      <td>movie</td>\n",
       "      <td>Dama de noche</td>\n",
       "      <td>1993.0</td>\n",
       "      <td>Drama,Mystery,Romance</td>\n",
       "    </tr>\n",
       "    <tr>\n",
       "      <th>34799</th>\n",
       "      <td>tt0035423</td>\n",
       "      <td>movie</td>\n",
       "      <td>Kate &amp; Leopold</td>\n",
       "      <td>2001.0</td>\n",
       "      <td>Comedy,Fantasy,Romance</td>\n",
       "    </tr>\n",
       "  </tbody>\n",
       "</table>\n",
       "</div>"
      ],
      "text/plain": [
       "          tconst titleType                 primaryTitle  startYear  \\\n",
       "11635  tt0011801     movie             Tötet nicht mehr     2019.0   \n",
       "13080  tt0013274     movie  Istoriya grazhdanskoy voyny     2021.0   \n",
       "15175  tt0015414     movie       La tierra de los toros     2000.0   \n",
       "15483  tt0015724     movie                Dama de noche     1993.0   \n",
       "34799  tt0035423     movie               Kate & Leopold     2001.0   \n",
       "\n",
       "                       genres  \n",
       "11635            Action,Crime  \n",
       "13080             Documentary  \n",
       "15175                      \\N  \n",
       "15483   Drama,Mystery,Romance  \n",
       "34799  Comedy,Fantasy,Romance  "
      ]
     },
     "execution_count": 15,
     "metadata": {},
     "output_type": "execute_result"
    }
   ],
   "source": [
    "titlesFromNetflix_dropped.head()"
   ]
  },
  {
   "cell_type": "code",
   "execution_count": 16,
   "id": "498881ad",
   "metadata": {},
   "outputs": [
    {
     "data": {
      "text/html": [
       "<div>\n",
       "<style scoped>\n",
       "    .dataframe tbody tr th:only-of-type {\n",
       "        vertical-align: middle;\n",
       "    }\n",
       "\n",
       "    .dataframe tbody tr th {\n",
       "        vertical-align: top;\n",
       "    }\n",
       "\n",
       "    .dataframe thead th {\n",
       "        text-align: right;\n",
       "    }\n",
       "</style>\n",
       "<table border=\"1\" class=\"dataframe\">\n",
       "  <thead>\n",
       "    <tr style=\"text-align: right;\">\n",
       "      <th></th>\n",
       "      <th>tconst</th>\n",
       "      <th>titleType</th>\n",
       "      <th>primaryTitle</th>\n",
       "      <th>startYear</th>\n",
       "      <th>genres</th>\n",
       "    </tr>\n",
       "  </thead>\n",
       "  <tbody>\n",
       "    <tr>\n",
       "      <th>10388623</th>\n",
       "      <td>tt9916846</td>\n",
       "      <td>tvEpisode</td>\n",
       "      <td>Episode #3.18</td>\n",
       "      <td>2009.0</td>\n",
       "      <td>Action,Drama,Family</td>\n",
       "    </tr>\n",
       "    <tr>\n",
       "      <th>10388624</th>\n",
       "      <td>tt9916848</td>\n",
       "      <td>tvEpisode</td>\n",
       "      <td>Episode #3.17</td>\n",
       "      <td>2009.0</td>\n",
       "      <td>Action,Drama,Family</td>\n",
       "    </tr>\n",
       "    <tr>\n",
       "      <th>10388625</th>\n",
       "      <td>tt9916850</td>\n",
       "      <td>tvEpisode</td>\n",
       "      <td>Episode #3.19</td>\n",
       "      <td>2010.0</td>\n",
       "      <td>Action,Drama,Family</td>\n",
       "    </tr>\n",
       "    <tr>\n",
       "      <th>10388626</th>\n",
       "      <td>tt9916852</td>\n",
       "      <td>tvEpisode</td>\n",
       "      <td>Episode #3.20</td>\n",
       "      <td>2010.0</td>\n",
       "      <td>Action,Drama,Family</td>\n",
       "    </tr>\n",
       "    <tr>\n",
       "      <th>10388628</th>\n",
       "      <td>tt9916880</td>\n",
       "      <td>tvEpisode</td>\n",
       "      <td>Horrid Henry Knows It All</td>\n",
       "      <td>2014.0</td>\n",
       "      <td>Adventure,Animation,Comedy</td>\n",
       "    </tr>\n",
       "  </tbody>\n",
       "</table>\n",
       "</div>"
      ],
      "text/plain": [
       "             tconst  titleType               primaryTitle  startYear  \\\n",
       "10388623  tt9916846  tvEpisode              Episode #3.18     2009.0   \n",
       "10388624  tt9916848  tvEpisode              Episode #3.17     2009.0   \n",
       "10388625  tt9916850  tvEpisode              Episode #3.19     2010.0   \n",
       "10388626  tt9916852  tvEpisode              Episode #3.20     2010.0   \n",
       "10388628  tt9916880  tvEpisode  Horrid Henry Knows It All     2014.0   \n",
       "\n",
       "                              genres  \n",
       "10388623         Action,Drama,Family  \n",
       "10388624         Action,Drama,Family  \n",
       "10388625         Action,Drama,Family  \n",
       "10388626         Action,Drama,Family  \n",
       "10388628  Adventure,Animation,Comedy  "
      ]
     },
     "execution_count": 16,
     "metadata": {},
     "output_type": "execute_result"
    }
   ],
   "source": [
    "titlesFromNetflix_dropped.tail()"
   ]
  },
  {
   "cell_type": "code",
   "execution_count": 17,
   "id": "37a7ee62",
   "metadata": {},
   "outputs": [],
   "source": [
    "titlesFromNetflix_dropped = titlesFromNetflix_dropped.drop(titlesFromNetflix_dropped[(titlesFromNetflix_dropped['genres'].isna()) | (titlesFromNetflix_dropped['titleType'] == 'tvEpisode')].index)"
   ]
  },
  {
   "cell_type": "code",
   "execution_count": 18,
   "id": "89f75167",
   "metadata": {},
   "outputs": [
    {
     "data": {
      "text/html": [
       "<div>\n",
       "<style scoped>\n",
       "    .dataframe tbody tr th:only-of-type {\n",
       "        vertical-align: middle;\n",
       "    }\n",
       "\n",
       "    .dataframe tbody tr th {\n",
       "        vertical-align: top;\n",
       "    }\n",
       "\n",
       "    .dataframe thead th {\n",
       "        text-align: right;\n",
       "    }\n",
       "</style>\n",
       "<table border=\"1\" class=\"dataframe\">\n",
       "  <thead>\n",
       "    <tr style=\"text-align: right;\">\n",
       "      <th></th>\n",
       "      <th>tconst</th>\n",
       "      <th>titleType</th>\n",
       "      <th>primaryTitle</th>\n",
       "      <th>startYear</th>\n",
       "      <th>genres</th>\n",
       "    </tr>\n",
       "  </thead>\n",
       "  <tbody>\n",
       "    <tr>\n",
       "      <th>10388547</th>\n",
       "      <td>tt9916680</td>\n",
       "      <td>movie</td>\n",
       "      <td>De la ilusión al desconcierto: cine colombiano...</td>\n",
       "      <td>2007.0</td>\n",
       "      <td>Documentary</td>\n",
       "    </tr>\n",
       "    <tr>\n",
       "      <th>10388552</th>\n",
       "      <td>tt9916692</td>\n",
       "      <td>tvMovie</td>\n",
       "      <td>Teatroteka: Czlowiek bez twarzy</td>\n",
       "      <td>2015.0</td>\n",
       "      <td>Drama</td>\n",
       "    </tr>\n",
       "    <tr>\n",
       "      <th>10388559</th>\n",
       "      <td>tt9916706</td>\n",
       "      <td>movie</td>\n",
       "      <td>Dankyavar Danka</td>\n",
       "      <td>2013.0</td>\n",
       "      <td>Comedy</td>\n",
       "    </tr>\n",
       "    <tr>\n",
       "      <th>10388569</th>\n",
       "      <td>tt9916730</td>\n",
       "      <td>movie</td>\n",
       "      <td>6 Gunn</td>\n",
       "      <td>2017.0</td>\n",
       "      <td>Drama</td>\n",
       "    </tr>\n",
       "    <tr>\n",
       "      <th>10388579</th>\n",
       "      <td>tt9916754</td>\n",
       "      <td>movie</td>\n",
       "      <td>Chico Albuquerque - Revelações</td>\n",
       "      <td>2013.0</td>\n",
       "      <td>Documentary</td>\n",
       "    </tr>\n",
       "  </tbody>\n",
       "</table>\n",
       "</div>"
      ],
      "text/plain": [
       "             tconst titleType  \\\n",
       "10388547  tt9916680     movie   \n",
       "10388552  tt9916692   tvMovie   \n",
       "10388559  tt9916706     movie   \n",
       "10388569  tt9916730     movie   \n",
       "10388579  tt9916754     movie   \n",
       "\n",
       "                                               primaryTitle  startYear  \\\n",
       "10388547  De la ilusión al desconcierto: cine colombiano...     2007.0   \n",
       "10388552                    Teatroteka: Czlowiek bez twarzy     2015.0   \n",
       "10388559                                    Dankyavar Danka     2013.0   \n",
       "10388569                                             6 Gunn     2017.0   \n",
       "10388579                     Chico Albuquerque - Revelações     2013.0   \n",
       "\n",
       "               genres  \n",
       "10388547  Documentary  \n",
       "10388552        Drama  \n",
       "10388559       Comedy  \n",
       "10388569        Drama  \n",
       "10388579  Documentary  "
      ]
     },
     "execution_count": 18,
     "metadata": {},
     "output_type": "execute_result"
    }
   ],
   "source": [
    "titlesFromNetflix_dropped.tail()"
   ]
  },
  {
   "cell_type": "markdown",
   "id": "bd02261f",
   "metadata": {},
   "source": [
    "## Next \n",
    "Find out what kinds of items are in the database besides movies"
   ]
  },
  {
   "cell_type": "code",
   "execution_count": 19,
   "id": "b5b996ff",
   "metadata": {},
   "outputs": [
    {
     "data": {
      "text/plain": [
       "array(['movie', 'video', 'tvMovie', 'tvSeries', 'tvMiniSeries', 'tvShort',\n",
       "       'tvSpecial', 'videoGame', 'tvPilot'], dtype=object)"
      ]
     },
     "execution_count": 19,
     "metadata": {},
     "output_type": "execute_result"
    }
   ],
   "source": [
    "titlesFromNetflix_dropped['titleType'].unique()"
   ]
  },
  {
   "cell_type": "markdown",
   "id": "cae67616",
   "metadata": {},
   "source": [
    "Drop everything that isn't a movie"
   ]
  },
  {
   "cell_type": "code",
   "execution_count": 20,
   "id": "8ddfecb4",
   "metadata": {},
   "outputs": [],
   "source": [
    "titlesFromNetflix_dropped = titlesFromNetflix_dropped.drop(titlesFromNetflix_dropped[titlesFromNetflix_dropped['titleType'] != 'movie'].index)"
   ]
  },
  {
   "cell_type": "code",
   "execution_count": 21,
   "id": "bd067433",
   "metadata": {},
   "outputs": [
    {
     "data": {
      "text/plain": [
       "array(['movie'], dtype=object)"
      ]
     },
     "execution_count": 21,
     "metadata": {},
     "output_type": "execute_result"
    }
   ],
   "source": [
    "titlesFromNetflix_dropped['titleType'].unique()"
   ]
  },
  {
   "cell_type": "code",
   "execution_count": 22,
   "id": "1e426df5",
   "metadata": {},
   "outputs": [
    {
     "data": {
      "text/html": [
       "<div>\n",
       "<style scoped>\n",
       "    .dataframe tbody tr th:only-of-type {\n",
       "        vertical-align: middle;\n",
       "    }\n",
       "\n",
       "    .dataframe tbody tr th {\n",
       "        vertical-align: top;\n",
       "    }\n",
       "\n",
       "    .dataframe thead th {\n",
       "        text-align: right;\n",
       "    }\n",
       "</style>\n",
       "<table border=\"1\" class=\"dataframe\">\n",
       "  <thead>\n",
       "    <tr style=\"text-align: right;\">\n",
       "      <th></th>\n",
       "      <th>tconst</th>\n",
       "      <th>titleType</th>\n",
       "      <th>primaryTitle</th>\n",
       "      <th>startYear</th>\n",
       "      <th>genres</th>\n",
       "    </tr>\n",
       "  </thead>\n",
       "  <tbody>\n",
       "    <tr>\n",
       "      <th>10388520</th>\n",
       "      <td>tt9916622</td>\n",
       "      <td>movie</td>\n",
       "      <td>Rodolpho Teóphilo - O Legado de um Pioneiro</td>\n",
       "      <td>2015.0</td>\n",
       "      <td>Documentary</td>\n",
       "    </tr>\n",
       "    <tr>\n",
       "      <th>10388547</th>\n",
       "      <td>tt9916680</td>\n",
       "      <td>movie</td>\n",
       "      <td>De la ilusión al desconcierto: cine colombiano...</td>\n",
       "      <td>2007.0</td>\n",
       "      <td>Documentary</td>\n",
       "    </tr>\n",
       "    <tr>\n",
       "      <th>10388559</th>\n",
       "      <td>tt9916706</td>\n",
       "      <td>movie</td>\n",
       "      <td>Dankyavar Danka</td>\n",
       "      <td>2013.0</td>\n",
       "      <td>Comedy</td>\n",
       "    </tr>\n",
       "    <tr>\n",
       "      <th>10388569</th>\n",
       "      <td>tt9916730</td>\n",
       "      <td>movie</td>\n",
       "      <td>6 Gunn</td>\n",
       "      <td>2017.0</td>\n",
       "      <td>Drama</td>\n",
       "    </tr>\n",
       "    <tr>\n",
       "      <th>10388579</th>\n",
       "      <td>tt9916754</td>\n",
       "      <td>movie</td>\n",
       "      <td>Chico Albuquerque - Revelações</td>\n",
       "      <td>2013.0</td>\n",
       "      <td>Documentary</td>\n",
       "    </tr>\n",
       "  </tbody>\n",
       "</table>\n",
       "</div>"
      ],
      "text/plain": [
       "             tconst titleType  \\\n",
       "10388520  tt9916622     movie   \n",
       "10388547  tt9916680     movie   \n",
       "10388559  tt9916706     movie   \n",
       "10388569  tt9916730     movie   \n",
       "10388579  tt9916754     movie   \n",
       "\n",
       "                                               primaryTitle  startYear  \\\n",
       "10388520        Rodolpho Teóphilo - O Legado de um Pioneiro     2015.0   \n",
       "10388547  De la ilusión al desconcierto: cine colombiano...     2007.0   \n",
       "10388559                                    Dankyavar Danka     2013.0   \n",
       "10388569                                             6 Gunn     2017.0   \n",
       "10388579                     Chico Albuquerque - Revelações     2013.0   \n",
       "\n",
       "               genres  \n",
       "10388520  Documentary  \n",
       "10388547  Documentary  \n",
       "10388559       Comedy  \n",
       "10388569        Drama  \n",
       "10388579  Documentary  "
      ]
     },
     "execution_count": 22,
     "metadata": {},
     "output_type": "execute_result"
    }
   ],
   "source": [
    "titlesFromNetflix_dropped.tail()"
   ]
  },
  {
   "cell_type": "code",
   "execution_count": 23,
   "id": "ad9fa870",
   "metadata": {},
   "outputs": [
    {
     "data": {
      "text/plain": [
       "1269"
      ]
     },
     "execution_count": 23,
     "metadata": {},
     "output_type": "execute_result"
    }
   ],
   "source": [
    "genres = titlesFromNetflix_dropped['genres'].unique()\n",
    "len(genres)"
   ]
  },
  {
   "cell_type": "markdown",
   "id": "3b35dc37",
   "metadata": {},
   "source": [
    "## Next \n",
    "Too many genres to sort here. However, drop documentaries"
   ]
  },
  {
   "cell_type": "code",
   "execution_count": 24,
   "id": "02cf8be9",
   "metadata": {},
   "outputs": [],
   "source": [
    "titlesFromNetflix_dropped = titlesFromNetflix_dropped.drop(titlesFromNetflix_dropped[titlesFromNetflix_dropped['genres'] == 'Documentary'].index)"
   ]
  },
  {
   "cell_type": "code",
   "execution_count": 25,
   "id": "6dd483b0",
   "metadata": {},
   "outputs": [
    {
     "data": {
      "text/plain": [
       "(283457, 5)"
      ]
     },
     "execution_count": 25,
     "metadata": {},
     "output_type": "execute_result"
    }
   ],
   "source": [
    "titlesFromNetflix_dropped.shape"
   ]
  },
  {
   "cell_type": "code",
   "execution_count": 26,
   "id": "f2986fa9",
   "metadata": {},
   "outputs": [
    {
     "data": {
      "text/plain": [
       "2031.0"
      ]
     },
     "execution_count": 26,
     "metadata": {},
     "output_type": "execute_result"
    }
   ],
   "source": [
    "titlesFromNetflix_dropped['startYear'].max()"
   ]
  },
  {
   "cell_type": "markdown",
   "id": "f0f44c76",
   "metadata": {},
   "source": [
    "## Next\n",
    "Drop movies that haven't been made yet"
   ]
  },
  {
   "cell_type": "code",
   "execution_count": 27,
   "id": "6b8c7db2",
   "metadata": {},
   "outputs": [],
   "source": [
    "titlesFromNetflix_dropped = titlesFromNetflix_dropped.drop(titlesFromNetflix_dropped[titlesFromNetflix_dropped['startYear'] > 2023].index)"
   ]
  },
  {
   "cell_type": "code",
   "execution_count": 28,
   "id": "98899769",
   "metadata": {},
   "outputs": [
    {
     "data": {
      "text/plain": [
       "(280864, 5)"
      ]
     },
     "execution_count": 28,
     "metadata": {},
     "output_type": "execute_result"
    }
   ],
   "source": [
    "titlesFromNetflix_dropped.shape"
   ]
  },
  {
   "cell_type": "code",
   "execution_count": 29,
   "id": "9a853044",
   "metadata": {},
   "outputs": [
    {
     "data": {
      "text/plain": [
       "2023.0"
      ]
     },
     "execution_count": 29,
     "metadata": {},
     "output_type": "execute_result"
    }
   ],
   "source": [
    "titlesFromNetflix_dropped['startYear'].max()"
   ]
  },
  {
   "cell_type": "code",
   "execution_count": 30,
   "id": "c092f350",
   "metadata": {},
   "outputs": [
    {
     "data": {
      "text/plain": [
       "1990.0"
      ]
     },
     "execution_count": 30,
     "metadata": {},
     "output_type": "execute_result"
    }
   ],
   "source": [
    "titlesFromNetflix_dropped['startYear'].min()"
   ]
  },
  {
   "cell_type": "markdown",
   "id": "6811d719",
   "metadata": {},
   "source": [
    "## Next\n",
    "Import the language the movies are in. Only want American movies"
   ]
  },
  {
   "cell_type": "code",
   "execution_count": 31,
   "id": "b3cf50c6",
   "metadata": {},
   "outputs": [
    {
     "name": "stderr",
     "output_type": "stream",
     "text": [
      "/var/folders/cp/7qmpmnt105b1wpvjj8wd7r140000gp/T/ipykernel_2506/136537177.py:1: DtypeWarning: Columns (7) have mixed types. Specify dtype option on import or set low_memory=False.\n",
      "  countriesFromNetflix = pd.read_csv('title.akas.tsv', sep='\\t')\n"
     ]
    }
   ],
   "source": [
    "countriesFromNetflix = pd.read_csv('title.akas.tsv', sep='\\t')"
   ]
  },
  {
   "cell_type": "code",
   "execution_count": 32,
   "id": "b43db8f8",
   "metadata": {},
   "outputs": [
    {
     "name": "stdout",
     "output_type": "stream",
     "text": [
      "<class 'pandas.core.frame.DataFrame'>\n",
      "RangeIndex: 38098714 entries, 0 to 38098713\n",
      "Data columns (total 8 columns):\n",
      " #   Column           Dtype \n",
      "---  ------           ----- \n",
      " 0   titleId          object\n",
      " 1   ordering         int64 \n",
      " 2   title            object\n",
      " 3   region           object\n",
      " 4   language         object\n",
      " 5   types            object\n",
      " 6   attributes       object\n",
      " 7   isOriginalTitle  object\n",
      "dtypes: int64(1), object(7)\n",
      "memory usage: 2.3+ GB\n"
     ]
    }
   ],
   "source": [
    "countriesFromNetflix.info()"
   ]
  },
  {
   "cell_type": "code",
   "execution_count": 33,
   "id": "be6b048a",
   "metadata": {},
   "outputs": [
    {
     "data": {
      "text/html": [
       "<div>\n",
       "<style scoped>\n",
       "    .dataframe tbody tr th:only-of-type {\n",
       "        vertical-align: middle;\n",
       "    }\n",
       "\n",
       "    .dataframe tbody tr th {\n",
       "        vertical-align: top;\n",
       "    }\n",
       "\n",
       "    .dataframe thead th {\n",
       "        text-align: right;\n",
       "    }\n",
       "</style>\n",
       "<table border=\"1\" class=\"dataframe\">\n",
       "  <thead>\n",
       "    <tr style=\"text-align: right;\">\n",
       "      <th></th>\n",
       "      <th>titleId</th>\n",
       "      <th>ordering</th>\n",
       "      <th>title</th>\n",
       "      <th>region</th>\n",
       "      <th>language</th>\n",
       "      <th>types</th>\n",
       "      <th>attributes</th>\n",
       "      <th>isOriginalTitle</th>\n",
       "    </tr>\n",
       "  </thead>\n",
       "  <tbody>\n",
       "    <tr>\n",
       "      <th>0</th>\n",
       "      <td>tt0000001</td>\n",
       "      <td>1</td>\n",
       "      <td>Карменсіта</td>\n",
       "      <td>UA</td>\n",
       "      <td>\\N</td>\n",
       "      <td>imdbDisplay</td>\n",
       "      <td>\\N</td>\n",
       "      <td>0</td>\n",
       "    </tr>\n",
       "    <tr>\n",
       "      <th>1</th>\n",
       "      <td>tt0000001</td>\n",
       "      <td>2</td>\n",
       "      <td>Carmencita</td>\n",
       "      <td>DE</td>\n",
       "      <td>\\N</td>\n",
       "      <td>\\N</td>\n",
       "      <td>literal title</td>\n",
       "      <td>0</td>\n",
       "    </tr>\n",
       "    <tr>\n",
       "      <th>2</th>\n",
       "      <td>tt0000001</td>\n",
       "      <td>3</td>\n",
       "      <td>Carmencita - spanyol tánc</td>\n",
       "      <td>HU</td>\n",
       "      <td>\\N</td>\n",
       "      <td>imdbDisplay</td>\n",
       "      <td>\\N</td>\n",
       "      <td>0</td>\n",
       "    </tr>\n",
       "    <tr>\n",
       "      <th>3</th>\n",
       "      <td>tt0000001</td>\n",
       "      <td>4</td>\n",
       "      <td>Καρμενσίτα</td>\n",
       "      <td>GR</td>\n",
       "      <td>\\N</td>\n",
       "      <td>imdbDisplay</td>\n",
       "      <td>\\N</td>\n",
       "      <td>0</td>\n",
       "    </tr>\n",
       "    <tr>\n",
       "      <th>4</th>\n",
       "      <td>tt0000001</td>\n",
       "      <td>5</td>\n",
       "      <td>Карменсита</td>\n",
       "      <td>RU</td>\n",
       "      <td>\\N</td>\n",
       "      <td>imdbDisplay</td>\n",
       "      <td>\\N</td>\n",
       "      <td>0</td>\n",
       "    </tr>\n",
       "  </tbody>\n",
       "</table>\n",
       "</div>"
      ],
      "text/plain": [
       "     titleId  ordering                      title region language  \\\n",
       "0  tt0000001         1                 Карменсіта     UA       \\N   \n",
       "1  tt0000001         2                 Carmencita     DE       \\N   \n",
       "2  tt0000001         3  Carmencita - spanyol tánc     HU       \\N   \n",
       "3  tt0000001         4                 Καρμενσίτα     GR       \\N   \n",
       "4  tt0000001         5                 Карменсита     RU       \\N   \n",
       "\n",
       "         types     attributes isOriginalTitle  \n",
       "0  imdbDisplay             \\N               0  \n",
       "1           \\N  literal title               0  \n",
       "2  imdbDisplay             \\N               0  \n",
       "3  imdbDisplay             \\N               0  \n",
       "4  imdbDisplay             \\N               0  "
      ]
     },
     "execution_count": 33,
     "metadata": {},
     "output_type": "execute_result"
    }
   ],
   "source": [
    "countriesFromNetflix.head()"
   ]
  },
  {
   "cell_type": "markdown",
   "id": "2eded39d",
   "metadata": {},
   "source": [
    "## Next\n",
    "Maybe let's use region rather than language to get us started"
   ]
  },
  {
   "cell_type": "code",
   "execution_count": 41,
   "id": "a5a2099b",
   "metadata": {},
   "outputs": [],
   "source": [
    "countries =countriesFromNetflix['region'].unique()\n"
   ]
  },
  {
   "cell_type": "code",
   "execution_count": 44,
   "id": "1af50e24",
   "metadata": {},
   "outputs": [
    {
     "name": "stdout",
     "output_type": "stream",
     "text": [
      "class:  ndarray\n",
      "shape:  (249,)\n",
      "strides:  (8,)\n",
      "itemsize:  8\n",
      "aligned:  True\n",
      "contiguous:  True\n",
      "fortran:  True\n",
      "data pointer: 0x7fed49080a00\n",
      "byteorder:  little\n",
      "byteswap:  False\n",
      "type: object\n"
     ]
    }
   ],
   "source": [
    "np.info(countries)"
   ]
  },
  {
   "cell_type": "code",
   "execution_count": 45,
   "id": "dde7a828",
   "metadata": {},
   "outputs": [
    {
     "ename": "TypeError",
     "evalue": "'<' not supported between instances of 'str' and 'float'",
     "output_type": "error",
     "traceback": [
      "\u001b[0;31m---------------------------------------------------------------------------\u001b[0m",
      "\u001b[0;31mTypeError\u001b[0m                                 Traceback (most recent call last)",
      "Cell \u001b[0;32mIn[45], line 1\u001b[0m\n\u001b[0;32m----> 1\u001b[0m np\u001b[38;5;241m.\u001b[39msort(countries)\n",
      "File \u001b[0;32m<__array_function__ internals>:200\u001b[0m, in \u001b[0;36msort\u001b[0;34m(*args, **kwargs)\u001b[0m\n",
      "File \u001b[0;32m/Applications/anaconda3/lib/python3.11/site-packages/numpy/core/fromnumeric.py:1030\u001b[0m, in \u001b[0;36msort\u001b[0;34m(a, axis, kind, order)\u001b[0m\n\u001b[1;32m   1028\u001b[0m \u001b[38;5;28;01melse\u001b[39;00m:\n\u001b[1;32m   1029\u001b[0m     a \u001b[38;5;241m=\u001b[39m asanyarray(a)\u001b[38;5;241m.\u001b[39mcopy(order\u001b[38;5;241m=\u001b[39m\u001b[38;5;124m\"\u001b[39m\u001b[38;5;124mK\u001b[39m\u001b[38;5;124m\"\u001b[39m)\n\u001b[0;32m-> 1030\u001b[0m a\u001b[38;5;241m.\u001b[39msort(axis\u001b[38;5;241m=\u001b[39maxis, kind\u001b[38;5;241m=\u001b[39mkind, order\u001b[38;5;241m=\u001b[39morder)\n\u001b[1;32m   1031\u001b[0m \u001b[38;5;28;01mreturn\u001b[39;00m a\n",
      "\u001b[0;31mTypeError\u001b[0m: '<' not supported between instances of 'str' and 'float'"
     ]
    }
   ],
   "source": [
    "np.sort(countries)"
   ]
  },
  {
   "cell_type": "code",
   "execution_count": 46,
   "id": "a167561f",
   "metadata": {},
   "outputs": [],
   "source": [
    "countries_str=countries.astype(str)"
   ]
  },
  {
   "cell_type": "code",
   "execution_count": 47,
   "id": "5b5dd27b",
   "metadata": {},
   "outputs": [
    {
     "name": "stdout",
     "output_type": "stream",
     "text": [
      "class:  ndarray\n",
      "shape:  (249,)\n",
      "strides:  (16,)\n",
      "itemsize:  16\n",
      "aligned:  True\n",
      "contiguous:  True\n",
      "fortran:  True\n",
      "data pointer: 0x7fedad1b0200\n",
      "byteorder:  little\n",
      "byteswap:  False\n",
      "type: <U4\n"
     ]
    }
   ],
   "source": [
    "np.info(countries_str)"
   ]
  },
  {
   "cell_type": "code",
   "execution_count": 48,
   "id": "a665c2a2",
   "metadata": {},
   "outputs": [
    {
     "data": {
      "text/plain": [
       "array(['AD', 'AE', 'AF', 'AG', 'AI', 'AL', 'AM', 'AN', 'AO', 'AQ', 'AR',\n",
       "       'AS', 'AT', 'AU', 'AW', 'AZ', 'BA', 'BB', 'BD', 'BE', 'BF', 'BG',\n",
       "       'BH', 'BI', 'BJ', 'BM', 'BN', 'BO', 'BR', 'BS', 'BT', 'BUMM', 'BW',\n",
       "       'BY', 'BZ', 'CA', 'CC', 'CD', 'CF', 'CG', 'CH', 'CI', 'CK', 'CL',\n",
       "       'CM', 'CN', 'CO', 'CR', 'CSHH', 'CSXX', 'CU', 'CV', 'CW', 'CY',\n",
       "       'CZ', 'DDDE', 'DE', 'DJ', 'DK', 'DM', 'DO', 'DZ', 'EC', 'EE', 'EG',\n",
       "       'EH', 'ER', 'ES', 'ET', 'FI', 'FJ', 'FM', 'FO', 'FR', 'GA', 'GB',\n",
       "       'GD', 'GE', 'GF', 'GH', 'GI', 'GL', 'GM', 'GN', 'GP', 'GQ', 'GR',\n",
       "       'GT', 'GU', 'GW', 'GY', 'HK', 'HN', 'HR', 'HT', 'HU', 'ID', 'IE',\n",
       "       'IL', 'IM', 'IN', 'IQ', 'IR', 'IS', 'IT', 'JE', 'JM', 'JO', 'JP',\n",
       "       'KE', 'KG', 'KH', 'KI', 'KM', 'KN', 'KP', 'KR', 'KW', 'KY', 'KZ',\n",
       "       'LA', 'LB', 'LC', 'LI', 'LK', 'LR', 'LS', 'LT', 'LU', 'LV', 'LY',\n",
       "       'MA', 'MC', 'MD', 'ME', 'MG', 'MH', 'MK', 'ML', 'MM', 'MN', 'MO',\n",
       "       'MP', 'MQ', 'MR', 'MS', 'MT', 'MU', 'MV', 'MW', 'MX', 'MY', 'MZ',\n",
       "       'NC', 'NE', 'NG', 'NI', 'NL', 'NO', 'NP', 'NR', 'NU', 'NZ', 'OM',\n",
       "       'PA', 'PE', 'PF', 'PG', 'PH', 'PK', 'PL', 'PR', 'PS', 'PT', 'PW',\n",
       "       'PY', 'QA', 'RE', 'RO', 'RS', 'RU', 'RW', 'SA', 'SB', 'SC', 'SD',\n",
       "       'SE', 'SG', 'SH', 'SI', 'SK', 'SL', 'SM', 'SN', 'SO', 'SR', 'ST',\n",
       "       'SUHH', 'SV', 'SY', 'SZ', 'TC', 'TD', 'TG', 'TH', 'TJ', 'TL', 'TM',\n",
       "       'TN', 'TO', 'TR', 'TT', 'TV', 'TW', 'TZ', 'UA', 'UG', 'US', 'UY',\n",
       "       'UZ', 'VA', 'VC', 'VDVN', 'VE', 'VG', 'VI', 'VN', 'VU', 'WS',\n",
       "       'XAS', 'XAU', 'XEU', 'XKO', 'XKV', 'XNA', 'XPI', 'XSA', 'XSI',\n",
       "       'XWG', 'XWW', 'XYU', 'YE', 'YUCS', 'ZA', 'ZM', 'ZRCD', 'ZW', '\\\\N',\n",
       "       'nan'], dtype='<U4')"
      ]
     },
     "execution_count": 48,
     "metadata": {},
     "output_type": "execute_result"
    }
   ],
   "source": [
    "np.sort(countries_str)"
   ]
  },
  {
   "cell_type": "markdown",
   "id": "5eeb4559",
   "metadata": {},
   "source": [
    "## First\n",
    "Before dropping non-American movies, merge the movies and the region"
   ]
  },
  {
   "cell_type": "code",
   "execution_count": 50,
   "id": "ad43fead",
   "metadata": {},
   "outputs": [],
   "source": [
    "filmsCountries = pd.merge(titlesFromNetflix_dropped,countriesFromNetflix,how = 'left',left_on='tconst', right_on='titleId')"
   ]
  },
  {
   "cell_type": "code",
   "execution_count": 51,
   "id": "3eadf5f1",
   "metadata": {},
   "outputs": [
    {
     "name": "stdout",
     "output_type": "stream",
     "text": [
      "<class 'pandas.core.frame.DataFrame'>\n",
      "RangeIndex: 1522035 entries, 0 to 1522034\n",
      "Data columns (total 13 columns):\n",
      " #   Column           Non-Null Count    Dtype  \n",
      "---  ------           --------------    -----  \n",
      " 0   tconst           1522035 non-null  object \n",
      " 1   titleType        1522035 non-null  object \n",
      " 2   primaryTitle     1522031 non-null  object \n",
      " 3   startYear        1522035 non-null  float64\n",
      " 4   genres           1522035 non-null  object \n",
      " 5   titleId          1516845 non-null  object \n",
      " 6   ordering         1516845 non-null  float64\n",
      " 7   title            1516841 non-null  object \n",
      " 8   region           1516823 non-null  object \n",
      " 9   language         1516845 non-null  object \n",
      " 10  types            1516845 non-null  object \n",
      " 11  attributes       1516845 non-null  object \n",
      " 12  isOriginalTitle  1516845 non-null  object \n",
      "dtypes: float64(2), object(11)\n",
      "memory usage: 151.0+ MB\n"
     ]
    }
   ],
   "source": [
    "filmsCountries.info()"
   ]
  },
  {
   "cell_type": "markdown",
   "id": "0dd9ebec",
   "metadata": {},
   "source": [
    "## Next\n",
    "Drop some unnecessary columns"
   ]
  },
  {
   "cell_type": "code",
   "execution_count": 52,
   "id": "500f7715",
   "metadata": {},
   "outputs": [],
   "source": [
    "filmsCountries = filmsCountries.drop(['ordering', 'types', 'attributes', 'isOriginalTitle'], axis=1)"
   ]
  },
  {
   "cell_type": "code",
   "execution_count": 53,
   "id": "cc197c5d",
   "metadata": {},
   "outputs": [
    {
     "name": "stdout",
     "output_type": "stream",
     "text": [
      "<class 'pandas.core.frame.DataFrame'>\n",
      "RangeIndex: 1522035 entries, 0 to 1522034\n",
      "Data columns (total 9 columns):\n",
      " #   Column        Non-Null Count    Dtype  \n",
      "---  ------        --------------    -----  \n",
      " 0   tconst        1522035 non-null  object \n",
      " 1   titleType     1522035 non-null  object \n",
      " 2   primaryTitle  1522031 non-null  object \n",
      " 3   startYear     1522035 non-null  float64\n",
      " 4   genres        1522035 non-null  object \n",
      " 5   titleId       1516845 non-null  object \n",
      " 6   title         1516841 non-null  object \n",
      " 7   region        1516823 non-null  object \n",
      " 8   language      1516845 non-null  object \n",
      "dtypes: float64(1), object(8)\n",
      "memory usage: 104.5+ MB\n"
     ]
    }
   ],
   "source": [
    "filmsCountries.info()"
   ]
  },
  {
   "cell_type": "code",
   "execution_count": 56,
   "id": "bd309a4f",
   "metadata": {},
   "outputs": [
    {
     "data": {
      "text/plain": [
       "5190"
      ]
     },
     "execution_count": 56,
     "metadata": {},
     "output_type": "execute_result"
    }
   ],
   "source": [
    "1522035-1516845"
   ]
  },
  {
   "cell_type": "markdown",
   "id": "ab63022a",
   "metadata": {},
   "source": [
    "## Note\n",
    "Working with language first, then move to region. Find the code for English"
   ]
  },
  {
   "cell_type": "code",
   "execution_count": 54,
   "id": "8d73ca0a",
   "metadata": {},
   "outputs": [
    {
     "data": {
      "text/plain": [
       "array(['\\\\N', 'en', 'bg', 'ja', 'fr', 'tr', 'ca', 'hr', 'cmn', 'yue',\n",
       "       'hi', 'ru', 'ar', 'eu', 'ta', 'qbp', nan, 'de', 'ml', 'he', 'sk',\n",
       "       'cs', 'uk', 'fa', 'nl', 'sv', 'qbn', 'sr', 'es', 'pt', 'lt', 'bn',\n",
       "       'mr', 'af', 'ur', 'gu', 'te', 'kn', 'kk', 'mi', 'la', 'qal', 'cy',\n",
       "       'gd', 'ga', 'tg', 'tl', 'th', 'ky', 'id', 'fi', 'az', 'el', 'wo',\n",
       "       'hy', 'gl', 'bs', 'ms', 'sl', 'it', 'uz', 'no', 'ro', 'is', 'et',\n",
       "       'hu', 'sq', 'xh', 'vi', 'gsw', 'sd', 'qbo', 'zh', 'mk', 'lv', 'yi',\n",
       "       'ka', 'be', 'tk', 'da', 'lb', 'ko', 'ku', 'zu', 'su', 'pl', 'pa',\n",
       "       'jv', 'fro', 'haw', 'mn', 'lo', 'ps', 'my', 'am', 'qac', 'ne',\n",
       "       'iu', 'st', 'tn'], dtype=object)"
      ]
     },
     "execution_count": 54,
     "metadata": {},
     "output_type": "execute_result"
    }
   ],
   "source": [
    "filmsCountries['language'].unique()"
   ]
  },
  {
   "cell_type": "code",
   "execution_count": 55,
   "id": "5c626abe",
   "metadata": {},
   "outputs": [
    {
     "data": {
      "text/plain": [
       "690405"
      ]
     },
     "execution_count": 55,
     "metadata": {},
     "output_type": "execute_result"
    }
   ],
   "source": [
    "(filmsCountries['primaryTitle'] != filmsCountries['title']).sum()"
   ]
  },
  {
   "cell_type": "code",
   "execution_count": 57,
   "id": "6fa2c45e",
   "metadata": {},
   "outputs": [],
   "source": [
    "filmsCountries = filmsCountries.drop(filmsCountries[(filmsCountries['language'].isna())].index)"
   ]
  },
  {
   "cell_type": "code",
   "execution_count": 58,
   "id": "0c1ff02b",
   "metadata": {},
   "outputs": [
    {
     "name": "stdout",
     "output_type": "stream",
     "text": [
      "<class 'pandas.core.frame.DataFrame'>\n",
      "Index: 1516845 entries, 0 to 1522034\n",
      "Data columns (total 9 columns):\n",
      " #   Column        Non-Null Count    Dtype  \n",
      "---  ------        --------------    -----  \n",
      " 0   tconst        1516845 non-null  object \n",
      " 1   titleType     1516845 non-null  object \n",
      " 2   primaryTitle  1516841 non-null  object \n",
      " 3   startYear     1516845 non-null  float64\n",
      " 4   genres        1516845 non-null  object \n",
      " 5   titleId       1516845 non-null  object \n",
      " 6   title         1516841 non-null  object \n",
      " 7   region        1516823 non-null  object \n",
      " 8   language      1516845 non-null  object \n",
      "dtypes: float64(1), object(8)\n",
      "memory usage: 115.7+ MB\n"
     ]
    }
   ],
   "source": [
    "filmsCountries.info()"
   ]
  },
  {
   "cell_type": "code",
   "execution_count": 60,
   "id": "7f0118cd",
   "metadata": {},
   "outputs": [],
   "source": [
    "filmsCountries = filmsCountries.drop(filmsCountries[filmsCountries['language'] != 'en'].index)"
   ]
  },
  {
   "cell_type": "code",
   "execution_count": 61,
   "id": "a9890af4",
   "metadata": {},
   "outputs": [
    {
     "name": "stdout",
     "output_type": "stream",
     "text": [
      "<class 'pandas.core.frame.DataFrame'>\n",
      "Index: 190684 entries, 6 to 1522026\n",
      "Data columns (total 9 columns):\n",
      " #   Column        Non-Null Count   Dtype  \n",
      "---  ------        --------------   -----  \n",
      " 0   tconst        190684 non-null  object \n",
      " 1   titleType     190684 non-null  object \n",
      " 2   primaryTitle  190684 non-null  object \n",
      " 3   startYear     190684 non-null  float64\n",
      " 4   genres        190684 non-null  object \n",
      " 5   titleId       190684 non-null  object \n",
      " 6   title         190684 non-null  object \n",
      " 7   region        190684 non-null  object \n",
      " 8   language      190684 non-null  object \n",
      "dtypes: float64(1), object(8)\n",
      "memory usage: 14.5+ MB\n"
     ]
    }
   ],
   "source": [
    "filmsCountries.info()"
   ]
  },
  {
   "cell_type": "markdown",
   "id": "d59f04db",
   "metadata": {},
   "source": [
    "## Next\n",
    "Drop by region"
   ]
  },
  {
   "cell_type": "code",
   "execution_count": 62,
   "id": "10566e65",
   "metadata": {},
   "outputs": [
    {
     "data": {
      "text/plain": [
       "array(['XWW', 'ZA', 'ID', 'PH', 'EG', 'CA', 'SG', 'HK', 'IN', 'IL', 'TH',\n",
       "       'XAS', 'JP', 'BE', 'XEU', 'NZ', 'BD', 'CH', 'MY', 'IE', 'GB', 'US',\n",
       "       'JM', 'NG', 'PK', 'DE', 'FR', 'CN', 'AU', 'GR', 'BR', 'IR', 'RU',\n",
       "       'IT', 'MX', 'TW', 'ES', 'YE', 'NO', 'DDDE', 'KR', 'UA', 'RO', 'TR',\n",
       "       'SE', 'AT', 'BZ', 'XNA', 'ET', 'LT', 'PT', 'CZ', 'DK'],\n",
       "      dtype=object)"
      ]
     },
     "execution_count": 62,
     "metadata": {},
     "output_type": "execute_result"
    }
   ],
   "source": [
    "filmsCountries['region'].unique()"
   ]
  },
  {
   "cell_type": "code",
   "execution_count": 63,
   "id": "0e946851",
   "metadata": {},
   "outputs": [],
   "source": [
    "filmsCountries = filmsCountries.drop(filmsCountries[filmsCountries['region'] != 'US'].index)"
   ]
  },
  {
   "cell_type": "code",
   "execution_count": 64,
   "id": "96b6927e",
   "metadata": {},
   "outputs": [
    {
     "name": "stdout",
     "output_type": "stream",
     "text": [
      "<class 'pandas.core.frame.DataFrame'>\n",
      "Index: 980 entries, 7306 to 1521396\n",
      "Data columns (total 9 columns):\n",
      " #   Column        Non-Null Count  Dtype  \n",
      "---  ------        --------------  -----  \n",
      " 0   tconst        980 non-null    object \n",
      " 1   titleType     980 non-null    object \n",
      " 2   primaryTitle  980 non-null    object \n",
      " 3   startYear     980 non-null    float64\n",
      " 4   genres        980 non-null    object \n",
      " 5   titleId       980 non-null    object \n",
      " 6   title         980 non-null    object \n",
      " 7   region        980 non-null    object \n",
      " 8   language      980 non-null    object \n",
      "dtypes: float64(1), object(8)\n",
      "memory usage: 76.6+ KB\n"
     ]
    }
   ],
   "source": [
    "filmsCountries.info()"
   ]
  },
  {
   "cell_type": "code",
   "execution_count": 65,
   "id": "4fa95a22",
   "metadata": {},
   "outputs": [
    {
     "data": {
      "text/html": [
       "<div>\n",
       "<style scoped>\n",
       "    .dataframe tbody tr th:only-of-type {\n",
       "        vertical-align: middle;\n",
       "    }\n",
       "\n",
       "    .dataframe tbody tr th {\n",
       "        vertical-align: top;\n",
       "    }\n",
       "\n",
       "    .dataframe thead th {\n",
       "        text-align: right;\n",
       "    }\n",
       "</style>\n",
       "<table border=\"1\" class=\"dataframe\">\n",
       "  <thead>\n",
       "    <tr style=\"text-align: right;\">\n",
       "      <th></th>\n",
       "      <th>tconst</th>\n",
       "      <th>titleType</th>\n",
       "      <th>primaryTitle</th>\n",
       "      <th>startYear</th>\n",
       "      <th>genres</th>\n",
       "      <th>titleId</th>\n",
       "      <th>title</th>\n",
       "      <th>region</th>\n",
       "      <th>language</th>\n",
       "    </tr>\n",
       "  </thead>\n",
       "  <tbody>\n",
       "    <tr>\n",
       "      <th>7306</th>\n",
       "      <td>tt0099704</td>\n",
       "      <td>movie</td>\n",
       "      <td>Grim Prairie Tales</td>\n",
       "      <td>1990.0</td>\n",
       "      <td>Horror,Western</td>\n",
       "      <td>tt0099704</td>\n",
       "      <td>Grim Prairie Tales</td>\n",
       "      <td>US</td>\n",
       "      <td>en</td>\n",
       "    </tr>\n",
       "    <tr>\n",
       "      <th>8382</th>\n",
       "      <td>tt0099817</td>\n",
       "      <td>movie</td>\n",
       "      <td>Dark Angel</td>\n",
       "      <td>1990.0</td>\n",
       "      <td>Action,Crime,Horror</td>\n",
       "      <td>tt0099817</td>\n",
       "      <td>Dark Angel</td>\n",
       "      <td>US</td>\n",
       "      <td>en</td>\n",
       "    </tr>\n",
       "    <tr>\n",
       "      <th>14688</th>\n",
       "      <td>tt0100789</td>\n",
       "      <td>movie</td>\n",
       "      <td>Crackdown</td>\n",
       "      <td>1991.0</td>\n",
       "      <td>Action,Crime,Drama</td>\n",
       "      <td>tt0100789</td>\n",
       "      <td>Crackdown</td>\n",
       "      <td>US</td>\n",
       "      <td>en</td>\n",
       "    </tr>\n",
       "    <tr>\n",
       "      <th>16887</th>\n",
       "      <td>tt0101329</td>\n",
       "      <td>movie</td>\n",
       "      <td>An American Tail: Fievel Goes West</td>\n",
       "      <td>1991.0</td>\n",
       "      <td>Adventure,Animation,Family</td>\n",
       "      <td>tt0101329</td>\n",
       "      <td>An American Tail: Fievel Goes West</td>\n",
       "      <td>US</td>\n",
       "      <td>en</td>\n",
       "    </tr>\n",
       "    <tr>\n",
       "      <th>22761</th>\n",
       "      <td>tt0102091</td>\n",
       "      <td>movie</td>\n",
       "      <td>And the Wind Returneth</td>\n",
       "      <td>1992.0</td>\n",
       "      <td>Biography,Drama</td>\n",
       "      <td>tt0102091</td>\n",
       "      <td>And the Wind Returneth</td>\n",
       "      <td>US</td>\n",
       "      <td>en</td>\n",
       "    </tr>\n",
       "  </tbody>\n",
       "</table>\n",
       "</div>"
      ],
      "text/plain": [
       "          tconst titleType                        primaryTitle  startYear  \\\n",
       "7306   tt0099704     movie                  Grim Prairie Tales     1990.0   \n",
       "8382   tt0099817     movie                          Dark Angel     1990.0   \n",
       "14688  tt0100789     movie                           Crackdown     1991.0   \n",
       "16887  tt0101329     movie  An American Tail: Fievel Goes West     1991.0   \n",
       "22761  tt0102091     movie              And the Wind Returneth     1992.0   \n",
       "\n",
       "                           genres    titleId  \\\n",
       "7306               Horror,Western  tt0099704   \n",
       "8382          Action,Crime,Horror  tt0099817   \n",
       "14688          Action,Crime,Drama  tt0100789   \n",
       "16887  Adventure,Animation,Family  tt0101329   \n",
       "22761             Biography,Drama  tt0102091   \n",
       "\n",
       "                                    title region language  \n",
       "7306                   Grim Prairie Tales     US       en  \n",
       "8382                           Dark Angel     US       en  \n",
       "14688                           Crackdown     US       en  \n",
       "16887  An American Tail: Fievel Goes West     US       en  \n",
       "22761              And the Wind Returneth     US       en  "
      ]
     },
     "execution_count": 65,
     "metadata": {},
     "output_type": "execute_result"
    }
   ],
   "source": [
    "filmsCountries.head()"
   ]
  },
  {
   "cell_type": "code",
   "execution_count": 66,
   "id": "8e5502a6",
   "metadata": {},
   "outputs": [
    {
     "data": {
      "text/plain": [
       "116"
      ]
     },
     "execution_count": 66,
     "metadata": {},
     "output_type": "execute_result"
    }
   ],
   "source": [
    "(filmsCountries['primaryTitle'] != filmsCountries['title']).sum()"
   ]
  },
  {
   "cell_type": "markdown",
   "id": "7660a1d8",
   "metadata": {},
   "source": [
    "## Next\n",
    "Import ratings"
   ]
  },
  {
   "cell_type": "code",
   "execution_count": 68,
   "id": "c3be9bc5",
   "metadata": {},
   "outputs": [],
   "source": [
    "ratingsFromNetflix = pd.read_csv('title.ratings.tsv', sep='\\t')"
   ]
  },
  {
   "cell_type": "code",
   "execution_count": 69,
   "id": "00301dcd",
   "metadata": {},
   "outputs": [
    {
     "name": "stdout",
     "output_type": "stream",
     "text": [
      "<class 'pandas.core.frame.DataFrame'>\n",
      "RangeIndex: 1378285 entries, 0 to 1378284\n",
      "Data columns (total 3 columns):\n",
      " #   Column         Non-Null Count    Dtype  \n",
      "---  ------         --------------    -----  \n",
      " 0   tconst         1378285 non-null  object \n",
      " 1   averageRating  1378285 non-null  float64\n",
      " 2   numVotes       1378285 non-null  int64  \n",
      "dtypes: float64(1), int64(1), object(1)\n",
      "memory usage: 31.5+ MB\n"
     ]
    }
   ],
   "source": [
    "ratingsFromNetflix.info()"
   ]
  },
  {
   "cell_type": "code",
   "execution_count": 70,
   "id": "c51c9229",
   "metadata": {},
   "outputs": [],
   "source": [
    "filmsCountriesRatings = pd.merge(filmsCountries,ratingsFromNetflix,how = 'left',on='tconst')"
   ]
  },
  {
   "cell_type": "code",
   "execution_count": 71,
   "id": "5a9bc2ca",
   "metadata": {},
   "outputs": [
    {
     "name": "stdout",
     "output_type": "stream",
     "text": [
      "<class 'pandas.core.frame.DataFrame'>\n",
      "RangeIndex: 980 entries, 0 to 979\n",
      "Data columns (total 11 columns):\n",
      " #   Column         Non-Null Count  Dtype  \n",
      "---  ------         --------------  -----  \n",
      " 0   tconst         980 non-null    object \n",
      " 1   titleType      980 non-null    object \n",
      " 2   primaryTitle   980 non-null    object \n",
      " 3   startYear      980 non-null    float64\n",
      " 4   genres         980 non-null    object \n",
      " 5   titleId        980 non-null    object \n",
      " 6   title          980 non-null    object \n",
      " 7   region         980 non-null    object \n",
      " 8   language       980 non-null    object \n",
      " 9   averageRating  936 non-null    float64\n",
      " 10  numVotes       936 non-null    float64\n",
      "dtypes: float64(3), object(8)\n",
      "memory usage: 84.3+ KB\n"
     ]
    }
   ],
   "source": [
    "filmsCountriesRatings.info()"
   ]
  },
  {
   "cell_type": "code",
   "execution_count": 73,
   "id": "078ed764",
   "metadata": {},
   "outputs": [
    {
     "data": {
      "text/html": [
       "<div>\n",
       "<style scoped>\n",
       "    .dataframe tbody tr th:only-of-type {\n",
       "        vertical-align: middle;\n",
       "    }\n",
       "\n",
       "    .dataframe tbody tr th {\n",
       "        vertical-align: top;\n",
       "    }\n",
       "\n",
       "    .dataframe thead th {\n",
       "        text-align: right;\n",
       "    }\n",
       "</style>\n",
       "<table border=\"1\" class=\"dataframe\">\n",
       "  <thead>\n",
       "    <tr style=\"text-align: right;\">\n",
       "      <th></th>\n",
       "      <th>tconst</th>\n",
       "      <th>titleType</th>\n",
       "      <th>primaryTitle</th>\n",
       "      <th>startYear</th>\n",
       "      <th>genres</th>\n",
       "      <th>titleId</th>\n",
       "      <th>title</th>\n",
       "      <th>region</th>\n",
       "      <th>language</th>\n",
       "      <th>averageRating</th>\n",
       "      <th>numVotes</th>\n",
       "    </tr>\n",
       "  </thead>\n",
       "  <tbody>\n",
       "    <tr>\n",
       "      <th>0</th>\n",
       "      <td>tt0099704</td>\n",
       "      <td>movie</td>\n",
       "      <td>Grim Prairie Tales</td>\n",
       "      <td>1990.0</td>\n",
       "      <td>Horror,Western</td>\n",
       "      <td>tt0099704</td>\n",
       "      <td>Grim Prairie Tales</td>\n",
       "      <td>US</td>\n",
       "      <td>en</td>\n",
       "      <td>5.4</td>\n",
       "      <td>1091.0</td>\n",
       "    </tr>\n",
       "    <tr>\n",
       "      <th>1</th>\n",
       "      <td>tt0099817</td>\n",
       "      <td>movie</td>\n",
       "      <td>Dark Angel</td>\n",
       "      <td>1990.0</td>\n",
       "      <td>Action,Crime,Horror</td>\n",
       "      <td>tt0099817</td>\n",
       "      <td>Dark Angel</td>\n",
       "      <td>US</td>\n",
       "      <td>en</td>\n",
       "      <td>6.1</td>\n",
       "      <td>13423.0</td>\n",
       "    </tr>\n",
       "    <tr>\n",
       "      <th>2</th>\n",
       "      <td>tt0100789</td>\n",
       "      <td>movie</td>\n",
       "      <td>Crackdown</td>\n",
       "      <td>1991.0</td>\n",
       "      <td>Action,Crime,Drama</td>\n",
       "      <td>tt0100789</td>\n",
       "      <td>Crackdown</td>\n",
       "      <td>US</td>\n",
       "      <td>en</td>\n",
       "      <td>6.0</td>\n",
       "      <td>69.0</td>\n",
       "    </tr>\n",
       "    <tr>\n",
       "      <th>3</th>\n",
       "      <td>tt0101329</td>\n",
       "      <td>movie</td>\n",
       "      <td>An American Tail: Fievel Goes West</td>\n",
       "      <td>1991.0</td>\n",
       "      <td>Adventure,Animation,Family</td>\n",
       "      <td>tt0101329</td>\n",
       "      <td>An American Tail: Fievel Goes West</td>\n",
       "      <td>US</td>\n",
       "      <td>en</td>\n",
       "      <td>6.5</td>\n",
       "      <td>27844.0</td>\n",
       "    </tr>\n",
       "    <tr>\n",
       "      <th>4</th>\n",
       "      <td>tt0102091</td>\n",
       "      <td>movie</td>\n",
       "      <td>And the Wind Returneth</td>\n",
       "      <td>1992.0</td>\n",
       "      <td>Biography,Drama</td>\n",
       "      <td>tt0102091</td>\n",
       "      <td>And the Wind Returneth</td>\n",
       "      <td>US</td>\n",
       "      <td>en</td>\n",
       "      <td>6.6</td>\n",
       "      <td>43.0</td>\n",
       "    </tr>\n",
       "  </tbody>\n",
       "</table>\n",
       "</div>"
      ],
      "text/plain": [
       "      tconst titleType                        primaryTitle  startYear  \\\n",
       "0  tt0099704     movie                  Grim Prairie Tales     1990.0   \n",
       "1  tt0099817     movie                          Dark Angel     1990.0   \n",
       "2  tt0100789     movie                           Crackdown     1991.0   \n",
       "3  tt0101329     movie  An American Tail: Fievel Goes West     1991.0   \n",
       "4  tt0102091     movie              And the Wind Returneth     1992.0   \n",
       "\n",
       "                       genres    titleId                               title  \\\n",
       "0              Horror,Western  tt0099704                  Grim Prairie Tales   \n",
       "1         Action,Crime,Horror  tt0099817                          Dark Angel   \n",
       "2          Action,Crime,Drama  tt0100789                           Crackdown   \n",
       "3  Adventure,Animation,Family  tt0101329  An American Tail: Fievel Goes West   \n",
       "4             Biography,Drama  tt0102091              And the Wind Returneth   \n",
       "\n",
       "  region language  averageRating  numVotes  \n",
       "0     US       en            5.4    1091.0  \n",
       "1     US       en            6.1   13423.0  \n",
       "2     US       en            6.0      69.0  \n",
       "3     US       en            6.5   27844.0  \n",
       "4     US       en            6.6      43.0  "
      ]
     },
     "execution_count": 73,
     "metadata": {},
     "output_type": "execute_result"
    }
   ],
   "source": [
    "filmsCountriesRatings.head()"
   ]
  },
  {
   "cell_type": "markdown",
   "id": "aaa04d8d",
   "metadata": {},
   "source": [
    "## Next\n",
    "Drop some unnecessary columns"
   ]
  },
  {
   "cell_type": "code",
   "execution_count": 74,
   "id": "1e29870f",
   "metadata": {},
   "outputs": [],
   "source": [
    "filmsCountriesRatings = filmsCountriesRatings.drop(['titleId', 'region', 'language'], axis=1)"
   ]
  },
  {
   "cell_type": "code",
   "execution_count": 75,
   "id": "ff18aae9",
   "metadata": {},
   "outputs": [
    {
     "name": "stdout",
     "output_type": "stream",
     "text": [
      "<class 'pandas.core.frame.DataFrame'>\n",
      "RangeIndex: 980 entries, 0 to 979\n",
      "Data columns (total 8 columns):\n",
      " #   Column         Non-Null Count  Dtype  \n",
      "---  ------         --------------  -----  \n",
      " 0   tconst         980 non-null    object \n",
      " 1   titleType      980 non-null    object \n",
      " 2   primaryTitle   980 non-null    object \n",
      " 3   startYear      980 non-null    float64\n",
      " 4   genres         980 non-null    object \n",
      " 5   title          980 non-null    object \n",
      " 6   averageRating  936 non-null    float64\n",
      " 7   numVotes       936 non-null    float64\n",
      "dtypes: float64(3), object(5)\n",
      "memory usage: 61.4+ KB\n"
     ]
    }
   ],
   "source": [
    "filmsCountriesRatings.info()"
   ]
  },
  {
   "cell_type": "code",
   "execution_count": 77,
   "id": "9a833539",
   "metadata": {},
   "outputs": [],
   "source": [
    "filmsCountriesRatings = filmsCountriesRatings.dropna(subset=['averageRating'])"
   ]
  },
  {
   "cell_type": "code",
   "execution_count": 78,
   "id": "6d87080b",
   "metadata": {},
   "outputs": [
    {
     "name": "stdout",
     "output_type": "stream",
     "text": [
      "<class 'pandas.core.frame.DataFrame'>\n",
      "Index: 936 entries, 0 to 979\n",
      "Data columns (total 8 columns):\n",
      " #   Column         Non-Null Count  Dtype  \n",
      "---  ------         --------------  -----  \n",
      " 0   tconst         936 non-null    object \n",
      " 1   titleType      936 non-null    object \n",
      " 2   primaryTitle   936 non-null    object \n",
      " 3   startYear      936 non-null    float64\n",
      " 4   genres         936 non-null    object \n",
      " 5   title          936 non-null    object \n",
      " 6   averageRating  936 non-null    float64\n",
      " 7   numVotes       936 non-null    float64\n",
      "dtypes: float64(3), object(5)\n",
      "memory usage: 65.8+ KB\n"
     ]
    }
   ],
   "source": [
    "filmsCountriesRatings.info()"
   ]
  },
  {
   "cell_type": "markdown",
   "id": "5edb7589",
   "metadata": {},
   "source": [
    "### Left with\n",
    "936 possible movies"
   ]
  },
  {
   "cell_type": "code",
   "execution_count": null,
   "id": "4dc187e7",
   "metadata": {},
   "outputs": [],
   "source": []
  }
 ],
 "metadata": {
  "kernelspec": {
   "display_name": "Python 3 (ipykernel)",
   "language": "python",
   "name": "python3"
  },
  "language_info": {
   "codemirror_mode": {
    "name": "ipython",
    "version": 3
   },
   "file_extension": ".py",
   "mimetype": "text/x-python",
   "name": "python",
   "nbconvert_exporter": "python",
   "pygments_lexer": "ipython3",
   "version": "3.11.5"
  }
 },
 "nbformat": 4,
 "nbformat_minor": 5
}
