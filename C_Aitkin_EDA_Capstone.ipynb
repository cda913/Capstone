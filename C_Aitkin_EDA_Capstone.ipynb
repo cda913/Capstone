{
 "cells": [
  {
   "cell_type": "markdown",
   "id": "8660105c",
   "metadata": {},
   "source": [
    "# Summary so far\n",
    "Our television network is looking to have a model that we can run new scripts through, to determine if the movie will do well, by rating the script. We have all the test scripts downloaded and turned into bags-of-words. We also have a list of movie names with ratings. We need to match the ratings to the scripts, clean up the resulting dataframe, and explore our data."
   ]
  },
  {
   "cell_type": "markdown",
   "id": "bdb9da0e",
   "metadata": {},
   "source": [
    "Import the ratings"
   ]
  },
  {
   "cell_type": "code",
   "execution_count": 3,
   "id": "470c7188",
   "metadata": {},
   "outputs": [],
   "source": [
    "import pandas as pd\n",
    "\n",
    "ratings_df = pd.read_csv('filmsCountriesRatings.tsv', sep='\\t')"
   ]
  },
  {
   "cell_type": "code",
   "execution_count": 4,
   "id": "37f75d96",
   "metadata": {},
   "outputs": [
    {
     "data": {
      "text/html": [
       "<div>\n",
       "<style scoped>\n",
       "    .dataframe tbody tr th:only-of-type {\n",
       "        vertical-align: middle;\n",
       "    }\n",
       "\n",
       "    .dataframe tbody tr th {\n",
       "        vertical-align: top;\n",
       "    }\n",
       "\n",
       "    .dataframe thead th {\n",
       "        text-align: right;\n",
       "    }\n",
       "</style>\n",
       "<table border=\"1\" class=\"dataframe\">\n",
       "  <thead>\n",
       "    <tr style=\"text-align: right;\">\n",
       "      <th></th>\n",
       "      <th>tconst</th>\n",
       "      <th>titleType</th>\n",
       "      <th>primaryTitle</th>\n",
       "      <th>startYear</th>\n",
       "      <th>genres</th>\n",
       "      <th>title</th>\n",
       "      <th>averageRating</th>\n",
       "      <th>numVotes</th>\n",
       "    </tr>\n",
       "  </thead>\n",
       "  <tbody>\n",
       "    <tr>\n",
       "      <th>0</th>\n",
       "      <td>tt0005809</td>\n",
       "      <td>movie</td>\n",
       "      <td>The Governor</td>\n",
       "      <td>1915.0</td>\n",
       "      <td>Drama</td>\n",
       "      <td>The Governor</td>\n",
       "      <td>6.7</td>\n",
       "      <td>324.0</td>\n",
       "    </tr>\n",
       "    <tr>\n",
       "      <th>1</th>\n",
       "      <td>tt0008305</td>\n",
       "      <td>movie</td>\n",
       "      <td>Les Misérables</td>\n",
       "      <td>1917.0</td>\n",
       "      <td>Drama</td>\n",
       "      <td>Les Misérables</td>\n",
       "      <td>6.7</td>\n",
       "      <td>36.0</td>\n",
       "    </tr>\n",
       "    <tr>\n",
       "      <th>2</th>\n",
       "      <td>tt0009968</td>\n",
       "      <td>movie</td>\n",
       "      <td>Broken Blossoms</td>\n",
       "      <td>1919.0</td>\n",
       "      <td>Drama,Romance</td>\n",
       "      <td>Broken Blossoms</td>\n",
       "      <td>7.2</td>\n",
       "      <td>10903.0</td>\n",
       "    </tr>\n",
       "    <tr>\n",
       "      <th>3</th>\n",
       "      <td>tt0018455</td>\n",
       "      <td>movie</td>\n",
       "      <td>Sunrise</td>\n",
       "      <td>1927.0</td>\n",
       "      <td>Drama,Romance</td>\n",
       "      <td>Sunrise</td>\n",
       "      <td>8.1</td>\n",
       "      <td>53184.0</td>\n",
       "    </tr>\n",
       "    <tr>\n",
       "      <th>4</th>\n",
       "      <td>tt0020697</td>\n",
       "      <td>movie</td>\n",
       "      <td>The Blue Angel</td>\n",
       "      <td>1930.0</td>\n",
       "      <td>Drama,Music</td>\n",
       "      <td>The Blue Angel</td>\n",
       "      <td>7.7</td>\n",
       "      <td>16068.0</td>\n",
       "    </tr>\n",
       "  </tbody>\n",
       "</table>\n",
       "</div>"
      ],
      "text/plain": [
       "      tconst titleType     primaryTitle  startYear         genres  \\\n",
       "0  tt0005809     movie     The Governor     1915.0          Drama   \n",
       "1  tt0008305     movie   Les Misérables     1917.0          Drama   \n",
       "2  tt0009968     movie  Broken Blossoms     1919.0  Drama,Romance   \n",
       "3  tt0018455     movie          Sunrise     1927.0  Drama,Romance   \n",
       "4  tt0020697     movie   The Blue Angel     1930.0    Drama,Music   \n",
       "\n",
       "             title  averageRating  numVotes  \n",
       "0     The Governor            6.7     324.0  \n",
       "1   Les Misérables            6.7      36.0  \n",
       "2  Broken Blossoms            7.2   10903.0  \n",
       "3          Sunrise            8.1   53184.0  \n",
       "4   The Blue Angel            7.7   16068.0  "
      ]
     },
     "execution_count": 4,
     "metadata": {},
     "output_type": "execute_result"
    }
   ],
   "source": [
    "ratings_df.head()"
   ]
  },
  {
   "cell_type": "code",
   "execution_count": 5,
   "id": "8b8761f5",
   "metadata": {},
   "outputs": [
    {
     "data": {
      "text/plain": [
       "(1154, 8)"
      ]
     },
     "execution_count": 5,
     "metadata": {},
     "output_type": "execute_result"
    }
   ],
   "source": [
    "ratings_df.shape"
   ]
  },
  {
   "cell_type": "markdown",
   "id": "4db85e39",
   "metadata": {},
   "source": [
    "Rename a column so it doesn't get confused with one of the bag-of-words' columns' titles"
   ]
  },
  {
   "cell_type": "code",
   "execution_count": 6,
   "id": "0f29fadd",
   "metadata": {},
   "outputs": [],
   "source": [
    "ratings_df2 = ratings_df.rename(columns={'title': 'movie_title'})"
   ]
  },
  {
   "cell_type": "code",
   "execution_count": 7,
   "id": "82b45500",
   "metadata": {},
   "outputs": [
    {
     "data": {
      "text/html": [
       "<div>\n",
       "<style scoped>\n",
       "    .dataframe tbody tr th:only-of-type {\n",
       "        vertical-align: middle;\n",
       "    }\n",
       "\n",
       "    .dataframe tbody tr th {\n",
       "        vertical-align: top;\n",
       "    }\n",
       "\n",
       "    .dataframe thead th {\n",
       "        text-align: right;\n",
       "    }\n",
       "</style>\n",
       "<table border=\"1\" class=\"dataframe\">\n",
       "  <thead>\n",
       "    <tr style=\"text-align: right;\">\n",
       "      <th></th>\n",
       "      <th>tconst</th>\n",
       "      <th>titleType</th>\n",
       "      <th>primaryTitle</th>\n",
       "      <th>startYear</th>\n",
       "      <th>genres</th>\n",
       "      <th>movie_title</th>\n",
       "      <th>averageRating</th>\n",
       "      <th>numVotes</th>\n",
       "    </tr>\n",
       "  </thead>\n",
       "  <tbody>\n",
       "    <tr>\n",
       "      <th>0</th>\n",
       "      <td>tt0005809</td>\n",
       "      <td>movie</td>\n",
       "      <td>The Governor</td>\n",
       "      <td>1915.0</td>\n",
       "      <td>Drama</td>\n",
       "      <td>The Governor</td>\n",
       "      <td>6.7</td>\n",
       "      <td>324.0</td>\n",
       "    </tr>\n",
       "    <tr>\n",
       "      <th>1</th>\n",
       "      <td>tt0008305</td>\n",
       "      <td>movie</td>\n",
       "      <td>Les Misérables</td>\n",
       "      <td>1917.0</td>\n",
       "      <td>Drama</td>\n",
       "      <td>Les Misérables</td>\n",
       "      <td>6.7</td>\n",
       "      <td>36.0</td>\n",
       "    </tr>\n",
       "    <tr>\n",
       "      <th>2</th>\n",
       "      <td>tt0009968</td>\n",
       "      <td>movie</td>\n",
       "      <td>Broken Blossoms</td>\n",
       "      <td>1919.0</td>\n",
       "      <td>Drama,Romance</td>\n",
       "      <td>Broken Blossoms</td>\n",
       "      <td>7.2</td>\n",
       "      <td>10903.0</td>\n",
       "    </tr>\n",
       "    <tr>\n",
       "      <th>3</th>\n",
       "      <td>tt0018455</td>\n",
       "      <td>movie</td>\n",
       "      <td>Sunrise</td>\n",
       "      <td>1927.0</td>\n",
       "      <td>Drama,Romance</td>\n",
       "      <td>Sunrise</td>\n",
       "      <td>8.1</td>\n",
       "      <td>53184.0</td>\n",
       "    </tr>\n",
       "    <tr>\n",
       "      <th>4</th>\n",
       "      <td>tt0020697</td>\n",
       "      <td>movie</td>\n",
       "      <td>The Blue Angel</td>\n",
       "      <td>1930.0</td>\n",
       "      <td>Drama,Music</td>\n",
       "      <td>The Blue Angel</td>\n",
       "      <td>7.7</td>\n",
       "      <td>16068.0</td>\n",
       "    </tr>\n",
       "  </tbody>\n",
       "</table>\n",
       "</div>"
      ],
      "text/plain": [
       "      tconst titleType     primaryTitle  startYear         genres  \\\n",
       "0  tt0005809     movie     The Governor     1915.0          Drama   \n",
       "1  tt0008305     movie   Les Misérables     1917.0          Drama   \n",
       "2  tt0009968     movie  Broken Blossoms     1919.0  Drama,Romance   \n",
       "3  tt0018455     movie          Sunrise     1927.0  Drama,Romance   \n",
       "4  tt0020697     movie   The Blue Angel     1930.0    Drama,Music   \n",
       "\n",
       "       movie_title  averageRating  numVotes  \n",
       "0     The Governor            6.7     324.0  \n",
       "1   Les Misérables            6.7      36.0  \n",
       "2  Broken Blossoms            7.2   10903.0  \n",
       "3          Sunrise            8.1   53184.0  \n",
       "4   The Blue Angel            7.7   16068.0  "
      ]
     },
     "execution_count": 7,
     "metadata": {},
     "output_type": "execute_result"
    }
   ],
   "source": [
    "ratings_df2.head()"
   ]
  },
  {
   "cell_type": "markdown",
   "id": "15506c5e",
   "metadata": {},
   "source": [
    "Read in the bag of words from the scripts"
   ]
  },
  {
   "cell_type": "code",
   "execution_count": 8,
   "id": "b1bcae89",
   "metadata": {},
   "outputs": [],
   "source": [
    "scripts_df = pd.read_csv('scripts/bagOfWordsAndMovieTitle.csv')"
   ]
  },
  {
   "cell_type": "code",
   "execution_count": 9,
   "id": "9d113401",
   "metadata": {},
   "outputs": [
    {
     "data": {
      "text/html": [
       "<div>\n",
       "<style scoped>\n",
       "    .dataframe tbody tr th:only-of-type {\n",
       "        vertical-align: middle;\n",
       "    }\n",
       "\n",
       "    .dataframe tbody tr th {\n",
       "        vertical-align: top;\n",
       "    }\n",
       "\n",
       "    .dataframe thead th {\n",
       "        text-align: right;\n",
       "    }\n",
       "</style>\n",
       "<table border=\"1\" class=\"dataframe\">\n",
       "  <thead>\n",
       "    <tr style=\"text-align: right;\">\n",
       "      <th></th>\n",
       "      <th>Unnamed: 0</th>\n",
       "      <th>00</th>\n",
       "      <th>000</th>\n",
       "      <th>10</th>\n",
       "      <th>100</th>\n",
       "      <th>101</th>\n",
       "      <th>102</th>\n",
       "      <th>103</th>\n",
       "      <th>104</th>\n",
       "      <th>105</th>\n",
       "      <th>...</th>\n",
       "      <th>yourselves</th>\n",
       "      <th>youth</th>\n",
       "      <th>zero</th>\n",
       "      <th>zip</th>\n",
       "      <th>zips</th>\n",
       "      <th>zone</th>\n",
       "      <th>zoo</th>\n",
       "      <th>zoom</th>\n",
       "      <th>zooms</th>\n",
       "      <th>movie_name</th>\n",
       "    </tr>\n",
       "  </thead>\n",
       "  <tbody>\n",
       "    <tr>\n",
       "      <th>0</th>\n",
       "      <td>0</td>\n",
       "      <td>0</td>\n",
       "      <td>0</td>\n",
       "      <td>0</td>\n",
       "      <td>0</td>\n",
       "      <td>0</td>\n",
       "      <td>0</td>\n",
       "      <td>0</td>\n",
       "      <td>0</td>\n",
       "      <td>0</td>\n",
       "      <td>...</td>\n",
       "      <td>0</td>\n",
       "      <td>14</td>\n",
       "      <td>0</td>\n",
       "      <td>0</td>\n",
       "      <td>0</td>\n",
       "      <td>0</td>\n",
       "      <td>0</td>\n",
       "      <td>0</td>\n",
       "      <td>0</td>\n",
       "      <td>The Maltese Falcon</td>\n",
       "    </tr>\n",
       "    <tr>\n",
       "      <th>1</th>\n",
       "      <td>1</td>\n",
       "      <td>0</td>\n",
       "      <td>0</td>\n",
       "      <td>0</td>\n",
       "      <td>1</td>\n",
       "      <td>0</td>\n",
       "      <td>1</td>\n",
       "      <td>0</td>\n",
       "      <td>0</td>\n",
       "      <td>0</td>\n",
       "      <td>...</td>\n",
       "      <td>0</td>\n",
       "      <td>0</td>\n",
       "      <td>0</td>\n",
       "      <td>0</td>\n",
       "      <td>0</td>\n",
       "      <td>0</td>\n",
       "      <td>0</td>\n",
       "      <td>0</td>\n",
       "      <td>0</td>\n",
       "      <td>Casablanca</td>\n",
       "    </tr>\n",
       "    <tr>\n",
       "      <th>2</th>\n",
       "      <td>2</td>\n",
       "      <td>1</td>\n",
       "      <td>1</td>\n",
       "      <td>1</td>\n",
       "      <td>0</td>\n",
       "      <td>0</td>\n",
       "      <td>0</td>\n",
       "      <td>0</td>\n",
       "      <td>0</td>\n",
       "      <td>0</td>\n",
       "      <td>...</td>\n",
       "      <td>0</td>\n",
       "      <td>1</td>\n",
       "      <td>0</td>\n",
       "      <td>0</td>\n",
       "      <td>0</td>\n",
       "      <td>0</td>\n",
       "      <td>0</td>\n",
       "      <td>0</td>\n",
       "      <td>0</td>\n",
       "      <td>The Big Sleep</td>\n",
       "    </tr>\n",
       "    <tr>\n",
       "      <th>3</th>\n",
       "      <td>3</td>\n",
       "      <td>0</td>\n",
       "      <td>0</td>\n",
       "      <td>0</td>\n",
       "      <td>1</td>\n",
       "      <td>0</td>\n",
       "      <td>0</td>\n",
       "      <td>0</td>\n",
       "      <td>0</td>\n",
       "      <td>0</td>\n",
       "      <td>...</td>\n",
       "      <td>0</td>\n",
       "      <td>0</td>\n",
       "      <td>0</td>\n",
       "      <td>0</td>\n",
       "      <td>0</td>\n",
       "      <td>0</td>\n",
       "      <td>0</td>\n",
       "      <td>0</td>\n",
       "      <td>0</td>\n",
       "      <td>Strangers on a Train</td>\n",
       "    </tr>\n",
       "    <tr>\n",
       "      <th>4</th>\n",
       "      <td>4</td>\n",
       "      <td>0</td>\n",
       "      <td>0</td>\n",
       "      <td>0</td>\n",
       "      <td>0</td>\n",
       "      <td>0</td>\n",
       "      <td>0</td>\n",
       "      <td>0</td>\n",
       "      <td>0</td>\n",
       "      <td>0</td>\n",
       "      <td>...</td>\n",
       "      <td>1</td>\n",
       "      <td>0</td>\n",
       "      <td>0</td>\n",
       "      <td>0</td>\n",
       "      <td>0</td>\n",
       "      <td>1</td>\n",
       "      <td>0</td>\n",
       "      <td>1</td>\n",
       "      <td>2</td>\n",
       "      <td>From Here To Eternity</td>\n",
       "    </tr>\n",
       "  </tbody>\n",
       "</table>\n",
       "<p>5 rows × 6689 columns</p>\n",
       "</div>"
      ],
      "text/plain": [
       "   Unnamed: 0  00  000  10  100  101  102  103  104  105  ...  yourselves  \\\n",
       "0           0   0    0   0    0    0    0    0    0    0  ...           0   \n",
       "1           1   0    0   0    1    0    1    0    0    0  ...           0   \n",
       "2           2   1    1   1    0    0    0    0    0    0  ...           0   \n",
       "3           3   0    0   0    1    0    0    0    0    0  ...           0   \n",
       "4           4   0    0   0    0    0    0    0    0    0  ...           1   \n",
       "\n",
       "   youth  zero  zip  zips  zone  zoo  zoom  zooms             movie_name  \n",
       "0     14     0    0     0     0    0     0      0     The Maltese Falcon  \n",
       "1      0     0    0     0     0    0     0      0             Casablanca  \n",
       "2      1     0    0     0     0    0     0      0          The Big Sleep  \n",
       "3      0     0    0     0     0    0     0      0   Strangers on a Train  \n",
       "4      0     0    0     0     1    0     1      2  From Here To Eternity  \n",
       "\n",
       "[5 rows x 6689 columns]"
      ]
     },
     "execution_count": 9,
     "metadata": {},
     "output_type": "execute_result"
    }
   ],
   "source": [
    "scripts_df.head()"
   ]
  },
  {
   "cell_type": "code",
   "execution_count": 10,
   "id": "2b9a3f54",
   "metadata": {},
   "outputs": [
    {
     "data": {
      "text/plain": [
       "(708, 6689)"
      ]
     },
     "execution_count": 10,
     "metadata": {},
     "output_type": "execute_result"
    }
   ],
   "source": [
    "scripts_df.shape"
   ]
  },
  {
   "cell_type": "code",
   "execution_count": 11,
   "id": "0008d193",
   "metadata": {},
   "outputs": [
    {
     "data": {
      "text/plain": [
       "0        0\n",
       "1        1\n",
       "2        2\n",
       "3        3\n",
       "4        4\n",
       "      ... \n",
       "703    703\n",
       "704    704\n",
       "705    705\n",
       "706    706\n",
       "707    707\n",
       "Name: Unnamed: 0, Length: 708, dtype: int64"
      ]
     },
     "execution_count": 11,
     "metadata": {},
     "output_type": "execute_result"
    }
   ],
   "source": [
    "scripts_df['Unnamed: 0']"
   ]
  },
  {
   "cell_type": "code",
   "execution_count": 12,
   "id": "9bfdb068",
   "metadata": {},
   "outputs": [],
   "source": [
    "scripts_df.drop('Unnamed: 0',axis = 1, inplace = True)"
   ]
  },
  {
   "cell_type": "code",
   "execution_count": 13,
   "id": "b3de74e7",
   "metadata": {},
   "outputs": [
    {
     "data": {
      "text/html": [
       "<div>\n",
       "<style scoped>\n",
       "    .dataframe tbody tr th:only-of-type {\n",
       "        vertical-align: middle;\n",
       "    }\n",
       "\n",
       "    .dataframe tbody tr th {\n",
       "        vertical-align: top;\n",
       "    }\n",
       "\n",
       "    .dataframe thead th {\n",
       "        text-align: right;\n",
       "    }\n",
       "</style>\n",
       "<table border=\"1\" class=\"dataframe\">\n",
       "  <thead>\n",
       "    <tr style=\"text-align: right;\">\n",
       "      <th></th>\n",
       "      <th>00</th>\n",
       "      <th>000</th>\n",
       "      <th>10</th>\n",
       "      <th>100</th>\n",
       "      <th>101</th>\n",
       "      <th>102</th>\n",
       "      <th>103</th>\n",
       "      <th>104</th>\n",
       "      <th>105</th>\n",
       "      <th>106</th>\n",
       "      <th>...</th>\n",
       "      <th>yourselves</th>\n",
       "      <th>youth</th>\n",
       "      <th>zero</th>\n",
       "      <th>zip</th>\n",
       "      <th>zips</th>\n",
       "      <th>zone</th>\n",
       "      <th>zoo</th>\n",
       "      <th>zoom</th>\n",
       "      <th>zooms</th>\n",
       "      <th>movie_name</th>\n",
       "    </tr>\n",
       "  </thead>\n",
       "  <tbody>\n",
       "    <tr>\n",
       "      <th>0</th>\n",
       "      <td>0</td>\n",
       "      <td>0</td>\n",
       "      <td>0</td>\n",
       "      <td>0</td>\n",
       "      <td>0</td>\n",
       "      <td>0</td>\n",
       "      <td>0</td>\n",
       "      <td>0</td>\n",
       "      <td>0</td>\n",
       "      <td>0</td>\n",
       "      <td>...</td>\n",
       "      <td>0</td>\n",
       "      <td>14</td>\n",
       "      <td>0</td>\n",
       "      <td>0</td>\n",
       "      <td>0</td>\n",
       "      <td>0</td>\n",
       "      <td>0</td>\n",
       "      <td>0</td>\n",
       "      <td>0</td>\n",
       "      <td>The Maltese Falcon</td>\n",
       "    </tr>\n",
       "    <tr>\n",
       "      <th>1</th>\n",
       "      <td>0</td>\n",
       "      <td>0</td>\n",
       "      <td>0</td>\n",
       "      <td>1</td>\n",
       "      <td>0</td>\n",
       "      <td>1</td>\n",
       "      <td>0</td>\n",
       "      <td>0</td>\n",
       "      <td>0</td>\n",
       "      <td>0</td>\n",
       "      <td>...</td>\n",
       "      <td>0</td>\n",
       "      <td>0</td>\n",
       "      <td>0</td>\n",
       "      <td>0</td>\n",
       "      <td>0</td>\n",
       "      <td>0</td>\n",
       "      <td>0</td>\n",
       "      <td>0</td>\n",
       "      <td>0</td>\n",
       "      <td>Casablanca</td>\n",
       "    </tr>\n",
       "    <tr>\n",
       "      <th>2</th>\n",
       "      <td>1</td>\n",
       "      <td>1</td>\n",
       "      <td>1</td>\n",
       "      <td>0</td>\n",
       "      <td>0</td>\n",
       "      <td>0</td>\n",
       "      <td>0</td>\n",
       "      <td>0</td>\n",
       "      <td>0</td>\n",
       "      <td>0</td>\n",
       "      <td>...</td>\n",
       "      <td>0</td>\n",
       "      <td>1</td>\n",
       "      <td>0</td>\n",
       "      <td>0</td>\n",
       "      <td>0</td>\n",
       "      <td>0</td>\n",
       "      <td>0</td>\n",
       "      <td>0</td>\n",
       "      <td>0</td>\n",
       "      <td>The Big Sleep</td>\n",
       "    </tr>\n",
       "    <tr>\n",
       "      <th>3</th>\n",
       "      <td>0</td>\n",
       "      <td>0</td>\n",
       "      <td>0</td>\n",
       "      <td>1</td>\n",
       "      <td>0</td>\n",
       "      <td>0</td>\n",
       "      <td>0</td>\n",
       "      <td>0</td>\n",
       "      <td>0</td>\n",
       "      <td>0</td>\n",
       "      <td>...</td>\n",
       "      <td>0</td>\n",
       "      <td>0</td>\n",
       "      <td>0</td>\n",
       "      <td>0</td>\n",
       "      <td>0</td>\n",
       "      <td>0</td>\n",
       "      <td>0</td>\n",
       "      <td>0</td>\n",
       "      <td>0</td>\n",
       "      <td>Strangers on a Train</td>\n",
       "    </tr>\n",
       "    <tr>\n",
       "      <th>4</th>\n",
       "      <td>0</td>\n",
       "      <td>0</td>\n",
       "      <td>0</td>\n",
       "      <td>0</td>\n",
       "      <td>0</td>\n",
       "      <td>0</td>\n",
       "      <td>0</td>\n",
       "      <td>0</td>\n",
       "      <td>0</td>\n",
       "      <td>0</td>\n",
       "      <td>...</td>\n",
       "      <td>1</td>\n",
       "      <td>0</td>\n",
       "      <td>0</td>\n",
       "      <td>0</td>\n",
       "      <td>0</td>\n",
       "      <td>1</td>\n",
       "      <td>0</td>\n",
       "      <td>1</td>\n",
       "      <td>2</td>\n",
       "      <td>From Here To Eternity</td>\n",
       "    </tr>\n",
       "  </tbody>\n",
       "</table>\n",
       "<p>5 rows × 6688 columns</p>\n",
       "</div>"
      ],
      "text/plain": [
       "   00  000  10  100  101  102  103  104  105  106  ...  yourselves  youth  \\\n",
       "0   0    0   0    0    0    0    0    0    0    0  ...           0     14   \n",
       "1   0    0   0    1    0    1    0    0    0    0  ...           0      0   \n",
       "2   1    1   1    0    0    0    0    0    0    0  ...           0      1   \n",
       "3   0    0   0    1    0    0    0    0    0    0  ...           0      0   \n",
       "4   0    0   0    0    0    0    0    0    0    0  ...           1      0   \n",
       "\n",
       "   zero  zip  zips  zone  zoo  zoom  zooms             movie_name  \n",
       "0     0    0     0     0    0     0      0     The Maltese Falcon  \n",
       "1     0    0     0     0    0     0      0             Casablanca  \n",
       "2     0    0     0     0    0     0      0          The Big Sleep  \n",
       "3     0    0     0     0    0     0      0   Strangers on a Train  \n",
       "4     0    0     0     1    0     1      2  From Here To Eternity  \n",
       "\n",
       "[5 rows x 6688 columns]"
      ]
     },
     "execution_count": 13,
     "metadata": {},
     "output_type": "execute_result"
    }
   ],
   "source": [
    "scripts_df.head()"
   ]
  },
  {
   "cell_type": "markdown",
   "id": "aa369087",
   "metadata": {},
   "source": [
    "We have more ratings than scripts: that's fine; we'll match the scripts we have."
   ]
  },
  {
   "cell_type": "code",
   "execution_count": 14,
   "id": "7b0eb053",
   "metadata": {},
   "outputs": [],
   "source": [
    "ratingsSorted = ratings_df2.sort_values('movie_title')\n"
   ]
  },
  {
   "cell_type": "code",
   "execution_count": 15,
   "id": "84f0705c",
   "metadata": {},
   "outputs": [
    {
     "data": {
      "text/html": [
       "<div>\n",
       "<style scoped>\n",
       "    .dataframe tbody tr th:only-of-type {\n",
       "        vertical-align: middle;\n",
       "    }\n",
       "\n",
       "    .dataframe tbody tr th {\n",
       "        vertical-align: top;\n",
       "    }\n",
       "\n",
       "    .dataframe thead th {\n",
       "        text-align: right;\n",
       "    }\n",
       "</style>\n",
       "<table border=\"1\" class=\"dataframe\">\n",
       "  <thead>\n",
       "    <tr style=\"text-align: right;\">\n",
       "      <th></th>\n",
       "      <th>tconst</th>\n",
       "      <th>titleType</th>\n",
       "      <th>primaryTitle</th>\n",
       "      <th>startYear</th>\n",
       "      <th>genres</th>\n",
       "      <th>movie_title</th>\n",
       "      <th>averageRating</th>\n",
       "      <th>numVotes</th>\n",
       "    </tr>\n",
       "  </thead>\n",
       "  <tbody>\n",
       "    <tr>\n",
       "      <th>1152</th>\n",
       "      <td>tt9850370</td>\n",
       "      <td>movie</td>\n",
       "      <td>#Anne Frank Parallel Stories</td>\n",
       "      <td>2019.0</td>\n",
       "      <td>Documentary,Drama,History</td>\n",
       "      <td>#Anne Frank Parallel Stories</td>\n",
       "      <td>6.6</td>\n",
       "      <td>1734.0</td>\n",
       "    </tr>\n",
       "    <tr>\n",
       "      <th>854</th>\n",
       "      <td>tt3526286</td>\n",
       "      <td>movie</td>\n",
       "      <td>#Horror</td>\n",
       "      <td>2015.0</td>\n",
       "      <td>Crime,Drama,Horror</td>\n",
       "      <td>#Horror</td>\n",
       "      <td>3.0</td>\n",
       "      <td>3903.0</td>\n",
       "    </tr>\n",
       "    <tr>\n",
       "      <th>467</th>\n",
       "      <td>tt11942126</td>\n",
       "      <td>movie</td>\n",
       "      <td>007: Shadows</td>\n",
       "      <td>2020.0</td>\n",
       "      <td>Action,Thriller</td>\n",
       "      <td>007: Shadows</td>\n",
       "      <td>8.5</td>\n",
       "      <td>23.0</td>\n",
       "    </tr>\n",
       "    <tr>\n",
       "      <th>102</th>\n",
       "      <td>tt0072263</td>\n",
       "      <td>movie</td>\n",
       "      <td>Ten Little Indians</td>\n",
       "      <td>1974.0</td>\n",
       "      <td>Crime,Mystery,Thriller</td>\n",
       "      <td>10 Little Indians</td>\n",
       "      <td>5.7</td>\n",
       "      <td>3445.0</td>\n",
       "    </tr>\n",
       "    <tr>\n",
       "      <th>685</th>\n",
       "      <td>tt1999067</td>\n",
       "      <td>movie</td>\n",
       "      <td>15: Inside the Mind of a Serial Killer</td>\n",
       "      <td>2011.0</td>\n",
       "      <td>Horror,Thriller</td>\n",
       "      <td>15: An Exploration of Human Violence</td>\n",
       "      <td>4.9</td>\n",
       "      <td>64.0</td>\n",
       "    </tr>\n",
       "  </tbody>\n",
       "</table>\n",
       "</div>"
      ],
      "text/plain": [
       "          tconst titleType                            primaryTitle  startYear  \\\n",
       "1152   tt9850370     movie            #Anne Frank Parallel Stories     2019.0   \n",
       "854    tt3526286     movie                                 #Horror     2015.0   \n",
       "467   tt11942126     movie                            007: Shadows     2020.0   \n",
       "102    tt0072263     movie                      Ten Little Indians     1974.0   \n",
       "685    tt1999067     movie  15: Inside the Mind of a Serial Killer     2011.0   \n",
       "\n",
       "                         genres                           movie_title  \\\n",
       "1152  Documentary,Drama,History          #Anne Frank Parallel Stories   \n",
       "854          Crime,Drama,Horror                               #Horror   \n",
       "467             Action,Thriller                          007: Shadows   \n",
       "102      Crime,Mystery,Thriller                     10 Little Indians   \n",
       "685             Horror,Thriller  15: An Exploration of Human Violence   \n",
       "\n",
       "      averageRating  numVotes  \n",
       "1152            6.6    1734.0  \n",
       "854             3.0    3903.0  \n",
       "467             8.5      23.0  \n",
       "102             5.7    3445.0  \n",
       "685             4.9      64.0  "
      ]
     },
     "execution_count": 15,
     "metadata": {},
     "output_type": "execute_result"
    }
   ],
   "source": [
    "ratingsSorted.head()"
   ]
  },
  {
   "cell_type": "code",
   "execution_count": 16,
   "id": "24676d52",
   "metadata": {},
   "outputs": [],
   "source": [
    "scriptsSorted = scripts_df.sort_values('movie_name')"
   ]
  },
  {
   "cell_type": "code",
   "execution_count": 17,
   "id": "27648011",
   "metadata": {},
   "outputs": [
    {
     "data": {
      "text/html": [
       "<div>\n",
       "<style scoped>\n",
       "    .dataframe tbody tr th:only-of-type {\n",
       "        vertical-align: middle;\n",
       "    }\n",
       "\n",
       "    .dataframe tbody tr th {\n",
       "        vertical-align: top;\n",
       "    }\n",
       "\n",
       "    .dataframe thead th {\n",
       "        text-align: right;\n",
       "    }\n",
       "</style>\n",
       "<table border=\"1\" class=\"dataframe\">\n",
       "  <thead>\n",
       "    <tr style=\"text-align: right;\">\n",
       "      <th></th>\n",
       "      <th>00</th>\n",
       "      <th>000</th>\n",
       "      <th>10</th>\n",
       "      <th>100</th>\n",
       "      <th>101</th>\n",
       "      <th>102</th>\n",
       "      <th>103</th>\n",
       "      <th>104</th>\n",
       "      <th>105</th>\n",
       "      <th>106</th>\n",
       "      <th>...</th>\n",
       "      <th>yourselves</th>\n",
       "      <th>youth</th>\n",
       "      <th>zero</th>\n",
       "      <th>zip</th>\n",
       "      <th>zips</th>\n",
       "      <th>zone</th>\n",
       "      <th>zoo</th>\n",
       "      <th>zoom</th>\n",
       "      <th>zooms</th>\n",
       "      <th>movie_name</th>\n",
       "    </tr>\n",
       "  </thead>\n",
       "  <tbody>\n",
       "    <tr>\n",
       "      <th>457</th>\n",
       "      <td>0</td>\n",
       "      <td>0</td>\n",
       "      <td>1</td>\n",
       "      <td>0</td>\n",
       "      <td>0</td>\n",
       "      <td>0</td>\n",
       "      <td>0</td>\n",
       "      <td>0</td>\n",
       "      <td>0</td>\n",
       "      <td>0</td>\n",
       "      <td>...</td>\n",
       "      <td>0</td>\n",
       "      <td>0</td>\n",
       "      <td>0</td>\n",
       "      <td>0</td>\n",
       "      <td>0</td>\n",
       "      <td>0</td>\n",
       "      <td>0</td>\n",
       "      <td>0</td>\n",
       "      <td>1</td>\n",
       "      <td>10 Things I Hate About You</td>\n",
       "    </tr>\n",
       "    <tr>\n",
       "      <th>155</th>\n",
       "      <td>0</td>\n",
       "      <td>0</td>\n",
       "      <td>1</td>\n",
       "      <td>0</td>\n",
       "      <td>0</td>\n",
       "      <td>0</td>\n",
       "      <td>0</td>\n",
       "      <td>0</td>\n",
       "      <td>0</td>\n",
       "      <td>0</td>\n",
       "      <td>...</td>\n",
       "      <td>0</td>\n",
       "      <td>0</td>\n",
       "      <td>0</td>\n",
       "      <td>0</td>\n",
       "      <td>0</td>\n",
       "      <td>0</td>\n",
       "      <td>0</td>\n",
       "      <td>1</td>\n",
       "      <td>0</td>\n",
       "      <td>12 And Holding</td>\n",
       "    </tr>\n",
       "    <tr>\n",
       "      <th>387</th>\n",
       "      <td>1</td>\n",
       "      <td>0</td>\n",
       "      <td>1</td>\n",
       "      <td>0</td>\n",
       "      <td>0</td>\n",
       "      <td>0</td>\n",
       "      <td>0</td>\n",
       "      <td>0</td>\n",
       "      <td>0</td>\n",
       "      <td>0</td>\n",
       "      <td>...</td>\n",
       "      <td>1</td>\n",
       "      <td>2</td>\n",
       "      <td>0</td>\n",
       "      <td>1</td>\n",
       "      <td>2</td>\n",
       "      <td>0</td>\n",
       "      <td>6</td>\n",
       "      <td>0</td>\n",
       "      <td>2</td>\n",
       "      <td>12 Monkeys</td>\n",
       "    </tr>\n",
       "    <tr>\n",
       "      <th>490</th>\n",
       "      <td>0</td>\n",
       "      <td>2</td>\n",
       "      <td>1</td>\n",
       "      <td>2</td>\n",
       "      <td>0</td>\n",
       "      <td>0</td>\n",
       "      <td>0</td>\n",
       "      <td>0</td>\n",
       "      <td>0</td>\n",
       "      <td>0</td>\n",
       "      <td>...</td>\n",
       "      <td>0</td>\n",
       "      <td>0</td>\n",
       "      <td>2</td>\n",
       "      <td>1</td>\n",
       "      <td>0</td>\n",
       "      <td>2</td>\n",
       "      <td>0</td>\n",
       "      <td>0</td>\n",
       "      <td>0</td>\n",
       "      <td>13 Days</td>\n",
       "    </tr>\n",
       "    <tr>\n",
       "      <th>94</th>\n",
       "      <td>0</td>\n",
       "      <td>0</td>\n",
       "      <td>1</td>\n",
       "      <td>0</td>\n",
       "      <td>0</td>\n",
       "      <td>0</td>\n",
       "      <td>0</td>\n",
       "      <td>0</td>\n",
       "      <td>0</td>\n",
       "      <td>0</td>\n",
       "      <td>...</td>\n",
       "      <td>0</td>\n",
       "      <td>0</td>\n",
       "      <td>0</td>\n",
       "      <td>0</td>\n",
       "      <td>0</td>\n",
       "      <td>0</td>\n",
       "      <td>1</td>\n",
       "      <td>0</td>\n",
       "      <td>2</td>\n",
       "      <td>13 Ghosts</td>\n",
       "    </tr>\n",
       "  </tbody>\n",
       "</table>\n",
       "<p>5 rows × 6688 columns</p>\n",
       "</div>"
      ],
      "text/plain": [
       "     00  000  10  100  101  102  103  104  105  106  ...  yourselves  youth  \\\n",
       "457   0    0   1    0    0    0    0    0    0    0  ...           0      0   \n",
       "155   0    0   1    0    0    0    0    0    0    0  ...           0      0   \n",
       "387   1    0   1    0    0    0    0    0    0    0  ...           1      2   \n",
       "490   0    2   1    2    0    0    0    0    0    0  ...           0      0   \n",
       "94    0    0   1    0    0    0    0    0    0    0  ...           0      0   \n",
       "\n",
       "     zero  zip  zips  zone  zoo  zoom  zooms                  movie_name  \n",
       "457     0    0     0     0    0     0      1  10 Things I Hate About You  \n",
       "155     0    0     0     0    0     1      0              12 And Holding  \n",
       "387     0    1     2     0    6     0      2                  12 Monkeys  \n",
       "490     2    1     0     2    0     0      0                     13 Days  \n",
       "94      0    0     0     0    1     0      2                   13 Ghosts  \n",
       "\n",
       "[5 rows x 6688 columns]"
      ]
     },
     "execution_count": 17,
     "metadata": {},
     "output_type": "execute_result"
    }
   ],
   "source": [
    "scriptsSorted.head()"
   ]
  },
  {
   "cell_type": "markdown",
   "id": "264ee8cb",
   "metadata": {},
   "source": [
    "The ratings movie titles and the scripts movie titles don't match up exactly, so we have to do fuzzy matching."
   ]
  },
  {
   "cell_type": "code",
   "execution_count": 18,
   "id": "9a59d7ca",
   "metadata": {},
   "outputs": [],
   "source": [
    "# https://www.datacamp.com/tutorial/fuzzy-string-python\n",
    "from thefuzz import process\n",
    "from thefuzz import fuzz\n",
    "\n",
    "scripts_df[\"movie_name\"] = scripts_df[\"movie_name\"].apply(\n",
    "  lambda x: process.extractOne(x, ratings_df2['movie_title'], scorer=fuzz.partial_ratio)[0]\n",
    ")"
   ]
  },
  {
   "cell_type": "markdown",
   "id": "cb90c298",
   "metadata": {},
   "source": [
    "Now we can merge the ratings and the scripts. We'll do a left merge with ratings as the left table, so we don't having any ratings without scripts"
   ]
  },
  {
   "cell_type": "code",
   "execution_count": 19,
   "id": "d1fb1c2f",
   "metadata": {},
   "outputs": [],
   "source": [
    "ratingsScripts = pd.merge(scripts_df,ratings_df2,how = 'left',left_on='movie_name', right_on='movie_title')"
   ]
  },
  {
   "cell_type": "code",
   "execution_count": 20,
   "id": "6d4d5f05",
   "metadata": {},
   "outputs": [
    {
     "data": {
      "text/html": [
       "<div>\n",
       "<style scoped>\n",
       "    .dataframe tbody tr th:only-of-type {\n",
       "        vertical-align: middle;\n",
       "    }\n",
       "\n",
       "    .dataframe tbody tr th {\n",
       "        vertical-align: top;\n",
       "    }\n",
       "\n",
       "    .dataframe thead th {\n",
       "        text-align: right;\n",
       "    }\n",
       "</style>\n",
       "<table border=\"1\" class=\"dataframe\">\n",
       "  <thead>\n",
       "    <tr style=\"text-align: right;\">\n",
       "      <th></th>\n",
       "      <th>00</th>\n",
       "      <th>000</th>\n",
       "      <th>10</th>\n",
       "      <th>100</th>\n",
       "      <th>101</th>\n",
       "      <th>102</th>\n",
       "      <th>103</th>\n",
       "      <th>104</th>\n",
       "      <th>105</th>\n",
       "      <th>106</th>\n",
       "      <th>...</th>\n",
       "      <th>zooms</th>\n",
       "      <th>movie_name</th>\n",
       "      <th>tconst</th>\n",
       "      <th>titleType</th>\n",
       "      <th>primaryTitle</th>\n",
       "      <th>startYear</th>\n",
       "      <th>genres</th>\n",
       "      <th>movie_title</th>\n",
       "      <th>averageRating</th>\n",
       "      <th>numVotes</th>\n",
       "    </tr>\n",
       "  </thead>\n",
       "  <tbody>\n",
       "    <tr>\n",
       "      <th>0</th>\n",
       "      <td>0</td>\n",
       "      <td>0</td>\n",
       "      <td>0</td>\n",
       "      <td>0</td>\n",
       "      <td>0</td>\n",
       "      <td>0</td>\n",
       "      <td>0</td>\n",
       "      <td>0</td>\n",
       "      <td>0</td>\n",
       "      <td>0</td>\n",
       "      <td>...</td>\n",
       "      <td>0</td>\n",
       "      <td>The Image</td>\n",
       "      <td>tt0073589</td>\n",
       "      <td>movie</td>\n",
       "      <td>The Image</td>\n",
       "      <td>1975.0</td>\n",
       "      <td>Adult,Drama</td>\n",
       "      <td>The Image</td>\n",
       "      <td>6.2</td>\n",
       "      <td>1885.0</td>\n",
       "    </tr>\n",
       "    <tr>\n",
       "      <th>1</th>\n",
       "      <td>0</td>\n",
       "      <td>0</td>\n",
       "      <td>0</td>\n",
       "      <td>1</td>\n",
       "      <td>0</td>\n",
       "      <td>1</td>\n",
       "      <td>0</td>\n",
       "      <td>0</td>\n",
       "      <td>0</td>\n",
       "      <td>0</td>\n",
       "      <td>...</td>\n",
       "      <td>0</td>\n",
       "      <td>Blackbear</td>\n",
       "      <td>tt4824256</td>\n",
       "      <td>movie</td>\n",
       "      <td>Blackbear</td>\n",
       "      <td>2019.0</td>\n",
       "      <td>Drama,Sport</td>\n",
       "      <td>Blackbear</td>\n",
       "      <td>4.3</td>\n",
       "      <td>815.0</td>\n",
       "    </tr>\n",
       "    <tr>\n",
       "      <th>2</th>\n",
       "      <td>1</td>\n",
       "      <td>1</td>\n",
       "      <td>1</td>\n",
       "      <td>0</td>\n",
       "      <td>0</td>\n",
       "      <td>0</td>\n",
       "      <td>0</td>\n",
       "      <td>0</td>\n",
       "      <td>0</td>\n",
       "      <td>0</td>\n",
       "      <td>...</td>\n",
       "      <td>0</td>\n",
       "      <td>The Birds</td>\n",
       "      <td>tt0056869</td>\n",
       "      <td>movie</td>\n",
       "      <td>The Birds</td>\n",
       "      <td>1963.0</td>\n",
       "      <td>Drama,Horror,Mystery</td>\n",
       "      <td>The Birds</td>\n",
       "      <td>7.6</td>\n",
       "      <td>201200.0</td>\n",
       "    </tr>\n",
       "    <tr>\n",
       "      <th>3</th>\n",
       "      <td>0</td>\n",
       "      <td>0</td>\n",
       "      <td>0</td>\n",
       "      <td>1</td>\n",
       "      <td>0</td>\n",
       "      <td>0</td>\n",
       "      <td>0</td>\n",
       "      <td>0</td>\n",
       "      <td>0</td>\n",
       "      <td>0</td>\n",
       "      <td>...</td>\n",
       "      <td>0</td>\n",
       "      <td>Stray</td>\n",
       "      <td>tt6294226</td>\n",
       "      <td>movie</td>\n",
       "      <td>Stray</td>\n",
       "      <td>2019.0</td>\n",
       "      <td>Action,Crime,Fantasy</td>\n",
       "      <td>Stray</td>\n",
       "      <td>4.8</td>\n",
       "      <td>908.0</td>\n",
       "    </tr>\n",
       "    <tr>\n",
       "      <th>4</th>\n",
       "      <td>0</td>\n",
       "      <td>0</td>\n",
       "      <td>0</td>\n",
       "      <td>0</td>\n",
       "      <td>0</td>\n",
       "      <td>0</td>\n",
       "      <td>0</td>\n",
       "      <td>0</td>\n",
       "      <td>0</td>\n",
       "      <td>0</td>\n",
       "      <td>...</td>\n",
       "      <td>2</td>\n",
       "      <td>It</td>\n",
       "      <td>tt1396484</td>\n",
       "      <td>movie</td>\n",
       "      <td>It</td>\n",
       "      <td>2017.0</td>\n",
       "      <td>Horror</td>\n",
       "      <td>It</td>\n",
       "      <td>7.3</td>\n",
       "      <td>591697.0</td>\n",
       "    </tr>\n",
       "  </tbody>\n",
       "</table>\n",
       "<p>5 rows × 6696 columns</p>\n",
       "</div>"
      ],
      "text/plain": [
       "   00  000  10  100  101  102  103  104  105  106  ...  zooms  movie_name  \\\n",
       "0   0    0   0    0    0    0    0    0    0    0  ...      0   The Image   \n",
       "1   0    0   0    1    0    1    0    0    0    0  ...      0   Blackbear   \n",
       "2   1    1   1    0    0    0    0    0    0    0  ...      0   The Birds   \n",
       "3   0    0   0    1    0    0    0    0    0    0  ...      0       Stray   \n",
       "4   0    0   0    0    0    0    0    0    0    0  ...      2          It   \n",
       "\n",
       "      tconst  titleType  primaryTitle  startYear                genres  \\\n",
       "0  tt0073589      movie     The Image     1975.0           Adult,Drama   \n",
       "1  tt4824256      movie     Blackbear     2019.0           Drama,Sport   \n",
       "2  tt0056869      movie     The Birds     1963.0  Drama,Horror,Mystery   \n",
       "3  tt6294226      movie         Stray     2019.0  Action,Crime,Fantasy   \n",
       "4  tt1396484      movie            It     2017.0                Horror   \n",
       "\n",
       "   movie_title  averageRating  numVotes  \n",
       "0    The Image            6.2    1885.0  \n",
       "1    Blackbear            4.3     815.0  \n",
       "2    The Birds            7.6  201200.0  \n",
       "3        Stray            4.8     908.0  \n",
       "4           It            7.3  591697.0  \n",
       "\n",
       "[5 rows x 6696 columns]"
      ]
     },
     "execution_count": 20,
     "metadata": {},
     "output_type": "execute_result"
    }
   ],
   "source": [
    "ratingsScripts.head()"
   ]
  },
  {
   "cell_type": "code",
   "execution_count": 21,
   "id": "b042bf83",
   "metadata": {},
   "outputs": [
    {
     "data": {
      "text/plain": [
       "(722, 6696)"
      ]
     },
     "execution_count": 21,
     "metadata": {},
     "output_type": "execute_result"
    }
   ],
   "source": [
    "ratingsScripts.shape"
   ]
  },
  {
   "cell_type": "markdown",
   "id": "10548a68",
   "metadata": {},
   "source": [
    "Set up the dataframe to do machine learning on, by dropping the unnecessary columns"
   ]
  },
  {
   "cell_type": "code",
   "execution_count": 22,
   "id": "a2684f68",
   "metadata": {},
   "outputs": [],
   "source": [
    "ratingsScriptsML = ratingsScripts.drop(['movie_name','tconst','titleType','primaryTitle','startYear','genres','movie_title','numVotes'], axis=1)"
   ]
  },
  {
   "cell_type": "code",
   "execution_count": 23,
   "id": "ce514bb8",
   "metadata": {},
   "outputs": [
    {
     "data": {
      "text/html": [
       "<div>\n",
       "<style scoped>\n",
       "    .dataframe tbody tr th:only-of-type {\n",
       "        vertical-align: middle;\n",
       "    }\n",
       "\n",
       "    .dataframe tbody tr th {\n",
       "        vertical-align: top;\n",
       "    }\n",
       "\n",
       "    .dataframe thead th {\n",
       "        text-align: right;\n",
       "    }\n",
       "</style>\n",
       "<table border=\"1\" class=\"dataframe\">\n",
       "  <thead>\n",
       "    <tr style=\"text-align: right;\">\n",
       "      <th></th>\n",
       "      <th>00</th>\n",
       "      <th>000</th>\n",
       "      <th>10</th>\n",
       "      <th>100</th>\n",
       "      <th>101</th>\n",
       "      <th>102</th>\n",
       "      <th>103</th>\n",
       "      <th>104</th>\n",
       "      <th>105</th>\n",
       "      <th>106</th>\n",
       "      <th>...</th>\n",
       "      <th>yourselves</th>\n",
       "      <th>youth</th>\n",
       "      <th>zero</th>\n",
       "      <th>zip</th>\n",
       "      <th>zips</th>\n",
       "      <th>zone</th>\n",
       "      <th>zoo</th>\n",
       "      <th>zoom</th>\n",
       "      <th>zooms</th>\n",
       "      <th>averageRating</th>\n",
       "    </tr>\n",
       "  </thead>\n",
       "  <tbody>\n",
       "    <tr>\n",
       "      <th>0</th>\n",
       "      <td>0</td>\n",
       "      <td>0</td>\n",
       "      <td>0</td>\n",
       "      <td>0</td>\n",
       "      <td>0</td>\n",
       "      <td>0</td>\n",
       "      <td>0</td>\n",
       "      <td>0</td>\n",
       "      <td>0</td>\n",
       "      <td>0</td>\n",
       "      <td>...</td>\n",
       "      <td>0</td>\n",
       "      <td>14</td>\n",
       "      <td>0</td>\n",
       "      <td>0</td>\n",
       "      <td>0</td>\n",
       "      <td>0</td>\n",
       "      <td>0</td>\n",
       "      <td>0</td>\n",
       "      <td>0</td>\n",
       "      <td>6.2</td>\n",
       "    </tr>\n",
       "    <tr>\n",
       "      <th>1</th>\n",
       "      <td>0</td>\n",
       "      <td>0</td>\n",
       "      <td>0</td>\n",
       "      <td>1</td>\n",
       "      <td>0</td>\n",
       "      <td>1</td>\n",
       "      <td>0</td>\n",
       "      <td>0</td>\n",
       "      <td>0</td>\n",
       "      <td>0</td>\n",
       "      <td>...</td>\n",
       "      <td>0</td>\n",
       "      <td>0</td>\n",
       "      <td>0</td>\n",
       "      <td>0</td>\n",
       "      <td>0</td>\n",
       "      <td>0</td>\n",
       "      <td>0</td>\n",
       "      <td>0</td>\n",
       "      <td>0</td>\n",
       "      <td>4.3</td>\n",
       "    </tr>\n",
       "    <tr>\n",
       "      <th>2</th>\n",
       "      <td>1</td>\n",
       "      <td>1</td>\n",
       "      <td>1</td>\n",
       "      <td>0</td>\n",
       "      <td>0</td>\n",
       "      <td>0</td>\n",
       "      <td>0</td>\n",
       "      <td>0</td>\n",
       "      <td>0</td>\n",
       "      <td>0</td>\n",
       "      <td>...</td>\n",
       "      <td>0</td>\n",
       "      <td>1</td>\n",
       "      <td>0</td>\n",
       "      <td>0</td>\n",
       "      <td>0</td>\n",
       "      <td>0</td>\n",
       "      <td>0</td>\n",
       "      <td>0</td>\n",
       "      <td>0</td>\n",
       "      <td>7.6</td>\n",
       "    </tr>\n",
       "    <tr>\n",
       "      <th>3</th>\n",
       "      <td>0</td>\n",
       "      <td>0</td>\n",
       "      <td>0</td>\n",
       "      <td>1</td>\n",
       "      <td>0</td>\n",
       "      <td>0</td>\n",
       "      <td>0</td>\n",
       "      <td>0</td>\n",
       "      <td>0</td>\n",
       "      <td>0</td>\n",
       "      <td>...</td>\n",
       "      <td>0</td>\n",
       "      <td>0</td>\n",
       "      <td>0</td>\n",
       "      <td>0</td>\n",
       "      <td>0</td>\n",
       "      <td>0</td>\n",
       "      <td>0</td>\n",
       "      <td>0</td>\n",
       "      <td>0</td>\n",
       "      <td>4.8</td>\n",
       "    </tr>\n",
       "    <tr>\n",
       "      <th>4</th>\n",
       "      <td>0</td>\n",
       "      <td>0</td>\n",
       "      <td>0</td>\n",
       "      <td>0</td>\n",
       "      <td>0</td>\n",
       "      <td>0</td>\n",
       "      <td>0</td>\n",
       "      <td>0</td>\n",
       "      <td>0</td>\n",
       "      <td>0</td>\n",
       "      <td>...</td>\n",
       "      <td>1</td>\n",
       "      <td>0</td>\n",
       "      <td>0</td>\n",
       "      <td>0</td>\n",
       "      <td>0</td>\n",
       "      <td>1</td>\n",
       "      <td>0</td>\n",
       "      <td>1</td>\n",
       "      <td>2</td>\n",
       "      <td>7.3</td>\n",
       "    </tr>\n",
       "  </tbody>\n",
       "</table>\n",
       "<p>5 rows × 6688 columns</p>\n",
       "</div>"
      ],
      "text/plain": [
       "   00  000  10  100  101  102  103  104  105  106  ...  yourselves  youth  \\\n",
       "0   0    0   0    0    0    0    0    0    0    0  ...           0     14   \n",
       "1   0    0   0    1    0    1    0    0    0    0  ...           0      0   \n",
       "2   1    1   1    0    0    0    0    0    0    0  ...           0      1   \n",
       "3   0    0   0    1    0    0    0    0    0    0  ...           0      0   \n",
       "4   0    0   0    0    0    0    0    0    0    0  ...           1      0   \n",
       "\n",
       "   zero  zip  zips  zone  zoo  zoom  zooms  averageRating  \n",
       "0     0    0     0     0    0     0      0            6.2  \n",
       "1     0    0     0     0    0     0      0            4.3  \n",
       "2     0    0     0     0    0     0      0            7.6  \n",
       "3     0    0     0     0    0     0      0            4.8  \n",
       "4     0    0     0     1    0     1      2            7.3  \n",
       "\n",
       "[5 rows x 6688 columns]"
      ]
     },
     "execution_count": 23,
     "metadata": {},
     "output_type": "execute_result"
    }
   ],
   "source": [
    "ratingsScriptsML.head()"
   ]
  },
  {
   "cell_type": "code",
   "execution_count": 24,
   "id": "3c2ae21e",
   "metadata": {},
   "outputs": [],
   "source": [
    "ratingsScriptsML.to_csv('ratingsAndBagOfWords.csv')"
   ]
  },
  {
   "cell_type": "markdown",
   "id": "648b56a9",
   "metadata": {},
   "source": [
    "Look at the correlation of the individual words to the ratings."
   ]
  },
  {
   "cell_type": "code",
   "execution_count": 25,
   "id": "ec215b6c",
   "metadata": {},
   "outputs": [],
   "source": [
    "import matplotlib.pyplot as plt\n",
    "\n",
    "\n",
    "matrix = ratingsScriptsML.corr().round(2)"
   ]
  },
  {
   "cell_type": "code",
   "execution_count": 28,
   "id": "999683df",
   "metadata": {},
   "outputs": [
    {
     "data": {
      "image/png": "[encoded data removed]",
      "text/plain": [
       "<Figure size 480x480 with 2 Axes>"
      ]
     },
     "metadata": {},
     "output_type": "display_data"
    }
   ],
   "source": [
    "plt.matshow(matrix)\n",
    "plt.colorbar()\n",
    "plt.show()"
   ]
  },
  {
   "cell_type": "code",
   "execution_count": 31,
   "id": "071e0712",
   "metadata": {},
   "outputs": [
    {
     "data": {
      "text/plain": [
       "(6688, 6688)"
      ]
     },
     "execution_count": 31,
     "metadata": {},
     "output_type": "execute_result"
    }
   ],
   "source": [
    "matrix.shape"
   ]
  },
  {
   "cell_type": "markdown",
   "id": "5a3f88a3",
   "metadata": {},
   "source": [
    "Get the correlations with the ratings by taking the last row."
   ]
  },
  {
   "cell_type": "code",
   "execution_count": 34,
   "id": "a1af42b2",
   "metadata": {},
   "outputs": [],
   "source": [
    "ratingsCorr=matrix.iloc[-1,:]"
   ]
  },
  {
   "cell_type": "code",
   "execution_count": 55,
   "id": "4d288fb2",
   "metadata": {},
   "outputs": [
    {
     "data": {
      "text/plain": [
       "[0.16, 0.14, 0.14, 0.14, 0.14, 0.14, 0.13, 0.13, 0.13, 0.13]"
      ]
     },
     "execution_count": 55,
     "metadata": {},
     "output_type": "execute_result"
    }
   ],
   "source": [
    "ratingsCorr=abs(ratingsCorr)\n",
    "ratingsCorr=ratingsCorr[0:-1]\n",
    "n=sorted(ratingsCorr,reverse = True)\n",
    "n[0:10]"
   ]
  },
  {
   "cell_type": "markdown",
   "id": "e7b5c402",
   "metadata": {},
   "source": [
    "The highest correlation between ratings and features isn't very high."
   ]
  },
  {
   "cell_type": "markdown",
   "id": "43fa2562",
   "metadata": {},
   "source": [
    "We have too many features for the number of scripts we have. We'll use SVD to reduce them, as it's recommended for sparse data-sets as explained here: https://scikit-learn.org/stable/modules/generated/sklearn.decomposition.TruncatedSVD.html "
   ]
  },
  {
   "cell_type": "markdown",
   "id": "0f5d4714",
   "metadata": {},
   "source": [
    "Separate out the features and the predicted variable "
   ]
  },
  {
   "cell_type": "code",
   "execution_count": 40,
   "id": "c1351f3f",
   "metadata": {},
   "outputs": [],
   "source": [
    "X = ratingsScriptsML.drop('averageRating', axis= 1)\n",
    "y = ratingsScriptsML['averageRating']"
   ]
  },
  {
   "cell_type": "markdown",
   "id": "b32ca3ad",
   "metadata": {},
   "source": [
    "Use 27 features because that's around the square root of the number of scripts we have."
   ]
  },
  {
   "cell_type": "code",
   "execution_count": 45,
   "id": "84e5a5e8",
   "metadata": {},
   "outputs": [],
   "source": [
    "from sklearn.decomposition import TruncatedSVD\n",
    "\n",
    "svd = TruncatedSVD(n_components = 27, random_state = 42)\n",
    "X_transformed = svd.fit_transform(X)"
   ]
  },
  {
   "cell_type": "code",
   "execution_count": 46,
   "id": "55bff021",
   "metadata": {},
   "outputs": [
    {
     "data": {
      "text/plain": [
       "(722, 27)"
      ]
     },
     "execution_count": 46,
     "metadata": {},
     "output_type": "execute_result"
    }
   ],
   "source": [
    "X_transformed.shape"
   ]
  },
  {
   "cell_type": "code",
   "execution_count": 50,
   "id": "bc76cd5b",
   "metadata": {},
   "outputs": [
    {
     "data": {
      "text/plain": [
       "(722, 28)"
      ]
     },
     "execution_count": 50,
     "metadata": {},
     "output_type": "execute_result"
    }
   ],
   "source": [
    "X_transformed = pd.DataFrame(X_transformed)\n",
    "\n",
    "ratingsScriptsTransformed = pd.concat([X_transformed,y], axis = 'columns')\n",
    "\n",
    "ratingsScriptsTransformed.shape"
   ]
  },
  {
   "cell_type": "code",
   "execution_count": 52,
   "id": "2512446d",
   "metadata": {},
   "outputs": [
    {
     "data": {
      "image/png": "[encoded data removed]",
      "text/plain": [
       "<Figure size 480x480 with 2 Axes>"
      ]
     },
     "metadata": {},
     "output_type": "display_data"
    }
   ],
   "source": [
    "matrix2 = ratingsScriptsTransformed.corr().round(2)\n",
    "plt.matshow(matrix2)\n",
    "plt.colorbar()\n",
    "plt.show()"
   ]
  },
  {
   "cell_type": "code",
   "execution_count": 56,
   "id": "c815f691",
   "metadata": {},
   "outputs": [
    {
     "data": {
      "text/plain": [
       "[0.07, 0.07, 0.06, 0.05, 0.05, 0.05, 0.04, 0.04, 0.04, 0.04]"
      ]
     },
     "execution_count": 56,
     "metadata": {},
     "output_type": "execute_result"
    }
   ],
   "source": [
    "ratingsCorr2=matrix2.iloc[-1,:]\n",
    "ratingsCorr2=abs(ratingsCorr2)\n",
    "ratingsCorr2=ratingsCorr2[0:-1]\n",
    "n=sorted(ratingsCorr2,reverse = True)\n",
    "n[0:10]"
   ]
  },
  {
   "cell_type": "markdown",
   "id": "e7ea9c0c",
   "metadata": {},
   "source": [
    "The correlation for the SVD features is even smaller than the raw features. However, we do need to shrink our number of features. We don't want to use PCA because that expects a dense matrix, and we have a sparse one. We also don't want to use LDA as LDA is for classification, and this is a regression problem. We'll stick with SVD for our features. "
   ]
  },
  {
   "cell_type": "markdown",
   "id": "c2604d1f",
   "metadata": {},
   "source": [
    "Let's examine the ratings."
   ]
  },
  {
   "cell_type": "code",
   "execution_count": 61,
   "id": "3974ba10",
   "metadata": {},
   "outputs": [
    {
     "data": {
      "text/plain": [
       "count    722.000000\n",
       "mean       6.080332\n",
       "std        1.370150\n",
       "min        1.600000\n",
       "25%        5.000000\n",
       "50%        6.200000\n",
       "75%        7.200000\n",
       "max        9.400000\n",
       "Name: averageRating, dtype: float64"
      ]
     },
     "execution_count": 61,
     "metadata": {},
     "output_type": "execute_result"
    }
   ],
   "source": [
    "y.describe()"
   ]
  },
  {
   "cell_type": "code",
   "execution_count": 58,
   "id": "cb1ed344",
   "metadata": {},
   "outputs": [
    {
     "data": {
      "image/png": "[encoded data removed]",
      "text/plain": [
       "<Figure size 640x480 with 1 Axes>"
      ]
     },
     "metadata": {},
     "output_type": "display_data"
    }
   ],
   "source": [
    "y.hist(bins = 10)\n",
    "plt.show()"
   ]
  },
  {
   "cell_type": "markdown",
   "id": "96744b72",
   "metadata": {},
   "source": [
    "Save the original ratings and scripts dataframe."
   ]
  },
  {
   "cell_type": "code",
   "execution_count": 43,
   "id": "c5f73ec7",
   "metadata": {},
   "outputs": [],
   "source": [
    "ratingsScripts.to_csv('ratingsAndScriptsBagOfWords.csv')"
   ]
  },
  {
   "cell_type": "markdown",
   "id": "c3342627",
   "metadata": {},
   "source": [
    "We're not going to save X and y; we're going to split the data into test and training data, and fit SVD only on the training data. Something to look forward to in the modeling section!"
   ]
  }
 ],
 "metadata": {
  "kernelspec": {
   "display_name": "Python 3 (ipykernel)",
   "language": "python",
   "name": "python3"
  },
  "language_info": {
   "codemirror_mode": {
    "name": "ipython",
    "version": 3
   },
   "file_extension": ".py",
   "mimetype": "text/x-python",
   "name": "python",
   "nbconvert_exporter": "python",
   "pygments_lexer": "ipython3",
   "version": "3.11.5"
  }
 },
 "nbformat": 4,
 "nbformat_minor": 5
}
