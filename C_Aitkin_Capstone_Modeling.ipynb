{
 "cells": [
  {
   "cell_type": "markdown",
   "id": "6e000765",
   "metadata": {},
   "source": [
    "# Modeling\n",
    "\n",
    "So far... we have just over 700 scripts devolved into bag-of-words, along with ratings (from 10 to 100, as integers). Let's start modeling! \n",
    "\n",
    "We'll read in the datafile, create a training and a testing set, and then try some models. First we'll do a simple model that just predicts the mean of the ratings; then we'll try a random forest, linear regression, and gradient boosting."
   ]
  },
  {
   "cell_type": "markdown",
   "id": "1429edfd",
   "metadata": {},
   "source": [
    "We'll start by loading the data from the csv file, dividing into X (features) and y (ratings), and creating a training set and a testing set."
   ]
  },
  {
   "cell_type": "code",
   "execution_count": 1,
   "id": "a6d8cf93",
   "metadata": {},
   "outputs": [],
   "source": [
    "import pandas as pd\n",
    "from sklearn.model_selection import train_test_split\n",
    "\n",
    "ratingsScriptsML = pd.read_csv('ratingsAndScriptsPreprocessed.csv')"
   ]
  },
  {
   "cell_type": "code",
   "execution_count": 2,
   "id": "ba3c7e5d",
   "metadata": {},
   "outputs": [
    {
     "data": {
      "text/html": [
       "<div>\n",
       "<style scoped>\n",
       "    .dataframe tbody tr th:only-of-type {\n",
       "        vertical-align: middle;\n",
       "    }\n",
       "\n",
       "    .dataframe tbody tr th {\n",
       "        vertical-align: top;\n",
       "    }\n",
       "\n",
       "    .dataframe thead th {\n",
       "        text-align: right;\n",
       "    }\n",
       "</style>\n",
       "<table border=\"1\" class=\"dataframe\">\n",
       "  <thead>\n",
       "    <tr style=\"text-align: right;\">\n",
       "      <th></th>\n",
       "      <th>Unnamed: 0</th>\n",
       "      <th>19</th>\n",
       "      <th>avoid</th>\n",
       "      <th>buddy</th>\n",
       "      <th>buildings</th>\n",
       "      <th>dimly</th>\n",
       "      <th>discovery</th>\n",
       "      <th>families</th>\n",
       "      <th>gotten</th>\n",
       "      <th>ledge</th>\n",
       "      <th>...</th>\n",
       "      <th>genre_adventure</th>\n",
       "      <th>genre_animation</th>\n",
       "      <th>genre_documentary</th>\n",
       "      <th>genre_drama</th>\n",
       "      <th>genre_horror</th>\n",
       "      <th>genre_music</th>\n",
       "      <th>genre_musical</th>\n",
       "      <th>genre_thriller</th>\n",
       "      <th>genre_western</th>\n",
       "      <th>averageRating</th>\n",
       "    </tr>\n",
       "  </thead>\n",
       "  <tbody>\n",
       "    <tr>\n",
       "      <th>0</th>\n",
       "      <td>0</td>\n",
       "      <td>0</td>\n",
       "      <td>2</td>\n",
       "      <td>0</td>\n",
       "      <td>1</td>\n",
       "      <td>0</td>\n",
       "      <td>0</td>\n",
       "      <td>0</td>\n",
       "      <td>1</td>\n",
       "      <td>1</td>\n",
       "      <td>...</td>\n",
       "      <td>0</td>\n",
       "      <td>0</td>\n",
       "      <td>0</td>\n",
       "      <td>1</td>\n",
       "      <td>0</td>\n",
       "      <td>0</td>\n",
       "      <td>0</td>\n",
       "      <td>0</td>\n",
       "      <td>0</td>\n",
       "      <td>62</td>\n",
       "    </tr>\n",
       "    <tr>\n",
       "      <th>1</th>\n",
       "      <td>1</td>\n",
       "      <td>0</td>\n",
       "      <td>1</td>\n",
       "      <td>0</td>\n",
       "      <td>1</td>\n",
       "      <td>0</td>\n",
       "      <td>0</td>\n",
       "      <td>0</td>\n",
       "      <td>0</td>\n",
       "      <td>0</td>\n",
       "      <td>...</td>\n",
       "      <td>0</td>\n",
       "      <td>0</td>\n",
       "      <td>0</td>\n",
       "      <td>1</td>\n",
       "      <td>0</td>\n",
       "      <td>0</td>\n",
       "      <td>0</td>\n",
       "      <td>0</td>\n",
       "      <td>0</td>\n",
       "      <td>43</td>\n",
       "    </tr>\n",
       "    <tr>\n",
       "      <th>2</th>\n",
       "      <td>2</td>\n",
       "      <td>0</td>\n",
       "      <td>0</td>\n",
       "      <td>1</td>\n",
       "      <td>0</td>\n",
       "      <td>2</td>\n",
       "      <td>0</td>\n",
       "      <td>0</td>\n",
       "      <td>0</td>\n",
       "      <td>0</td>\n",
       "      <td>...</td>\n",
       "      <td>0</td>\n",
       "      <td>0</td>\n",
       "      <td>0</td>\n",
       "      <td>1</td>\n",
       "      <td>1</td>\n",
       "      <td>0</td>\n",
       "      <td>0</td>\n",
       "      <td>1</td>\n",
       "      <td>0</td>\n",
       "      <td>55</td>\n",
       "    </tr>\n",
       "    <tr>\n",
       "      <th>3</th>\n",
       "      <td>3</td>\n",
       "      <td>0</td>\n",
       "      <td>0</td>\n",
       "      <td>0</td>\n",
       "      <td>0</td>\n",
       "      <td>1</td>\n",
       "      <td>0</td>\n",
       "      <td>0</td>\n",
       "      <td>0</td>\n",
       "      <td>2</td>\n",
       "      <td>...</td>\n",
       "      <td>0</td>\n",
       "      <td>0</td>\n",
       "      <td>0</td>\n",
       "      <td>0</td>\n",
       "      <td>0</td>\n",
       "      <td>0</td>\n",
       "      <td>0</td>\n",
       "      <td>0</td>\n",
       "      <td>0</td>\n",
       "      <td>48</td>\n",
       "    </tr>\n",
       "    <tr>\n",
       "      <th>4</th>\n",
       "      <td>4</td>\n",
       "      <td>0</td>\n",
       "      <td>1</td>\n",
       "      <td>1</td>\n",
       "      <td>1</td>\n",
       "      <td>1</td>\n",
       "      <td>0</td>\n",
       "      <td>0</td>\n",
       "      <td>1</td>\n",
       "      <td>0</td>\n",
       "      <td>...</td>\n",
       "      <td>0</td>\n",
       "      <td>0</td>\n",
       "      <td>0</td>\n",
       "      <td>0</td>\n",
       "      <td>0</td>\n",
       "      <td>0</td>\n",
       "      <td>0</td>\n",
       "      <td>0</td>\n",
       "      <td>0</td>\n",
       "      <td>73</td>\n",
       "    </tr>\n",
       "  </tbody>\n",
       "</table>\n",
       "<p>5 rows × 29 columns</p>\n",
       "</div>"
      ],
      "text/plain": [
       "   Unnamed: 0  19  avoid  buddy  buildings  dimly  discovery  families  \\\n",
       "0           0   0      2      0          1      0          0         0   \n",
       "1           1   0      1      0          1      0          0         0   \n",
       "2           2   0      0      1          0      2          0         0   \n",
       "3           3   0      0      0          0      1          0         0   \n",
       "4           4   0      1      1          1      1          0         0   \n",
       "\n",
       "   gotten  ledge  ...  genre_adventure  genre_animation  genre_documentary  \\\n",
       "0       1      1  ...                0                0                  0   \n",
       "1       0      0  ...                0                0                  0   \n",
       "2       0      0  ...                0                0                  0   \n",
       "3       0      2  ...                0                0                  0   \n",
       "4       1      0  ...                0                0                  0   \n",
       "\n",
       "   genre_drama  genre_horror  genre_music  genre_musical  genre_thriller  \\\n",
       "0            1             0            0              0               0   \n",
       "1            1             0            0              0               0   \n",
       "2            1             1            0              0               1   \n",
       "3            0             0            0              0               0   \n",
       "4            0             0            0              0               0   \n",
       "\n",
       "   genre_western  averageRating  \n",
       "0              0             62  \n",
       "1              0             43  \n",
       "2              0             55  \n",
       "3              0             48  \n",
       "4              0             73  \n",
       "\n",
       "[5 rows x 29 columns]"
      ]
     },
     "execution_count": 2,
     "metadata": {},
     "output_type": "execute_result"
    }
   ],
   "source": [
    "ratingsScriptsML.head()"
   ]
  },
  {
   "cell_type": "code",
   "execution_count": 2,
   "id": "0d878601",
   "metadata": {},
   "outputs": [],
   "source": [
    "ratingsScriptsML.drop('Unnamed: 0',axis = 1, inplace = True)"
   ]
  },
  {
   "cell_type": "code",
   "execution_count": 4,
   "id": "00f12b23",
   "metadata": {},
   "outputs": [
    {
     "data": {
      "text/html": [
       "<div>\n",
       "<style scoped>\n",
       "    .dataframe tbody tr th:only-of-type {\n",
       "        vertical-align: middle;\n",
       "    }\n",
       "\n",
       "    .dataframe tbody tr th {\n",
       "        vertical-align: top;\n",
       "    }\n",
       "\n",
       "    .dataframe thead th {\n",
       "        text-align: right;\n",
       "    }\n",
       "</style>\n",
       "<table border=\"1\" class=\"dataframe\">\n",
       "  <thead>\n",
       "    <tr style=\"text-align: right;\">\n",
       "      <th></th>\n",
       "      <th>19</th>\n",
       "      <th>avoid</th>\n",
       "      <th>buddy</th>\n",
       "      <th>buildings</th>\n",
       "      <th>dimly</th>\n",
       "      <th>discovery</th>\n",
       "      <th>families</th>\n",
       "      <th>gotten</th>\n",
       "      <th>ledge</th>\n",
       "      <th>northern</th>\n",
       "      <th>...</th>\n",
       "      <th>genre_adventure</th>\n",
       "      <th>genre_animation</th>\n",
       "      <th>genre_documentary</th>\n",
       "      <th>genre_drama</th>\n",
       "      <th>genre_horror</th>\n",
       "      <th>genre_music</th>\n",
       "      <th>genre_musical</th>\n",
       "      <th>genre_thriller</th>\n",
       "      <th>genre_western</th>\n",
       "      <th>averageRating</th>\n",
       "    </tr>\n",
       "  </thead>\n",
       "  <tbody>\n",
       "    <tr>\n",
       "      <th>0</th>\n",
       "      <td>0</td>\n",
       "      <td>2</td>\n",
       "      <td>0</td>\n",
       "      <td>1</td>\n",
       "      <td>0</td>\n",
       "      <td>0</td>\n",
       "      <td>0</td>\n",
       "      <td>1</td>\n",
       "      <td>1</td>\n",
       "      <td>0</td>\n",
       "      <td>...</td>\n",
       "      <td>0</td>\n",
       "      <td>0</td>\n",
       "      <td>0</td>\n",
       "      <td>1</td>\n",
       "      <td>0</td>\n",
       "      <td>0</td>\n",
       "      <td>0</td>\n",
       "      <td>0</td>\n",
       "      <td>0</td>\n",
       "      <td>62</td>\n",
       "    </tr>\n",
       "    <tr>\n",
       "      <th>1</th>\n",
       "      <td>0</td>\n",
       "      <td>1</td>\n",
       "      <td>0</td>\n",
       "      <td>1</td>\n",
       "      <td>0</td>\n",
       "      <td>0</td>\n",
       "      <td>0</td>\n",
       "      <td>0</td>\n",
       "      <td>0</td>\n",
       "      <td>0</td>\n",
       "      <td>...</td>\n",
       "      <td>0</td>\n",
       "      <td>0</td>\n",
       "      <td>0</td>\n",
       "      <td>1</td>\n",
       "      <td>0</td>\n",
       "      <td>0</td>\n",
       "      <td>0</td>\n",
       "      <td>0</td>\n",
       "      <td>0</td>\n",
       "      <td>43</td>\n",
       "    </tr>\n",
       "    <tr>\n",
       "      <th>2</th>\n",
       "      <td>0</td>\n",
       "      <td>0</td>\n",
       "      <td>1</td>\n",
       "      <td>0</td>\n",
       "      <td>2</td>\n",
       "      <td>0</td>\n",
       "      <td>0</td>\n",
       "      <td>0</td>\n",
       "      <td>0</td>\n",
       "      <td>0</td>\n",
       "      <td>...</td>\n",
       "      <td>0</td>\n",
       "      <td>0</td>\n",
       "      <td>0</td>\n",
       "      <td>1</td>\n",
       "      <td>1</td>\n",
       "      <td>0</td>\n",
       "      <td>0</td>\n",
       "      <td>1</td>\n",
       "      <td>0</td>\n",
       "      <td>55</td>\n",
       "    </tr>\n",
       "    <tr>\n",
       "      <th>3</th>\n",
       "      <td>0</td>\n",
       "      <td>0</td>\n",
       "      <td>0</td>\n",
       "      <td>0</td>\n",
       "      <td>1</td>\n",
       "      <td>0</td>\n",
       "      <td>0</td>\n",
       "      <td>0</td>\n",
       "      <td>2</td>\n",
       "      <td>0</td>\n",
       "      <td>...</td>\n",
       "      <td>0</td>\n",
       "      <td>0</td>\n",
       "      <td>0</td>\n",
       "      <td>0</td>\n",
       "      <td>0</td>\n",
       "      <td>0</td>\n",
       "      <td>0</td>\n",
       "      <td>0</td>\n",
       "      <td>0</td>\n",
       "      <td>48</td>\n",
       "    </tr>\n",
       "    <tr>\n",
       "      <th>4</th>\n",
       "      <td>0</td>\n",
       "      <td>1</td>\n",
       "      <td>1</td>\n",
       "      <td>1</td>\n",
       "      <td>1</td>\n",
       "      <td>0</td>\n",
       "      <td>0</td>\n",
       "      <td>1</td>\n",
       "      <td>0</td>\n",
       "      <td>0</td>\n",
       "      <td>...</td>\n",
       "      <td>0</td>\n",
       "      <td>0</td>\n",
       "      <td>0</td>\n",
       "      <td>0</td>\n",
       "      <td>0</td>\n",
       "      <td>0</td>\n",
       "      <td>0</td>\n",
       "      <td>0</td>\n",
       "      <td>0</td>\n",
       "      <td>73</td>\n",
       "    </tr>\n",
       "  </tbody>\n",
       "</table>\n",
       "<p>5 rows × 28 columns</p>\n",
       "</div>"
      ],
      "text/plain": [
       "   19  avoid  buddy  buildings  dimly  discovery  families  gotten  ledge  \\\n",
       "0   0      2      0          1      0          0         0       1      1   \n",
       "1   0      1      0          1      0          0         0       0      0   \n",
       "2   0      0      1          0      2          0         0       0      0   \n",
       "3   0      0      0          0      1          0         0       0      2   \n",
       "4   0      1      1          1      1          0         0       1      0   \n",
       "\n",
       "   northern  ...  genre_adventure  genre_animation  genre_documentary  \\\n",
       "0         0  ...                0                0                  0   \n",
       "1         0  ...                0                0                  0   \n",
       "2         0  ...                0                0                  0   \n",
       "3         0  ...                0                0                  0   \n",
       "4         0  ...                0                0                  0   \n",
       "\n",
       "   genre_drama  genre_horror  genre_music  genre_musical  genre_thriller  \\\n",
       "0            1             0            0              0               0   \n",
       "1            1             0            0              0               0   \n",
       "2            1             1            0              0               1   \n",
       "3            0             0            0              0               0   \n",
       "4            0             0            0              0               0   \n",
       "\n",
       "   genre_western  averageRating  \n",
       "0              0             62  \n",
       "1              0             43  \n",
       "2              0             55  \n",
       "3              0             48  \n",
       "4              0             73  \n",
       "\n",
       "[5 rows x 28 columns]"
      ]
     },
     "execution_count": 4,
     "metadata": {},
     "output_type": "execute_result"
    }
   ],
   "source": [
    "ratingsScriptsML.head()"
   ]
  },
  {
   "cell_type": "markdown",
   "id": "478343b8",
   "metadata": {},
   "source": [
    "Set up the predicting variables and the predicted variable. Also split the data into a training and a test set."
   ]
  },
  {
   "cell_type": "code",
   "execution_count": 6,
   "id": "290c92ff",
   "metadata": {},
   "outputs": [],
   "source": [
    "X = ratingsScriptsML.drop('averageRating', axis= 1)\n",
    "y = ratingsScriptsML['averageRating']\n",
    "\n",
    "X_tr, X_te, y_tr, y_te = train_test_split(X,y,test_size = .2, random_state = 42)"
   ]
  },
  {
   "cell_type": "code",
   "execution_count": 3,
   "id": "c500b9ca",
   "metadata": {},
   "outputs": [],
   "source": [
    "from sklearn.linear_model import LinearRegression\n",
    "from sklearn.ensemble import RandomForestClassifier"
   ]
  },
  {
   "cell_type": "markdown",
   "id": "da20389d",
   "metadata": {},
   "source": [
    "Create a validation set to leave the testing to last"
   ]
  },
  {
   "cell_type": "code",
   "execution_count": 7,
   "id": "b871bbef",
   "metadata": {},
   "outputs": [],
   "source": [
    "X_train, X_val, y_train, y_val = train_test_split(X_tr,y_tr,test_size = .2, random_state = 42)"
   ]
  },
  {
   "cell_type": "markdown",
   "id": "310b3d17",
   "metadata": {},
   "source": [
    "First let's try a very simple model"
   ]
  },
  {
   "cell_type": "code",
   "execution_count": 8,
   "id": "ec598670",
   "metadata": {},
   "outputs": [],
   "source": [
    "import numpy as np\n",
    "\n",
    "y_val_mean = [round(np.mean(y_train),0)] * len(y_val)"
   ]
  },
  {
   "cell_type": "code",
   "execution_count": 10,
   "id": "176d4d84",
   "metadata": {},
   "outputs": [
    {
     "data": {
      "text/plain": [
       "[60.0, 60.0, 60.0, 60.0, 60.0]"
      ]
     },
     "execution_count": 10,
     "metadata": {},
     "output_type": "execute_result"
    }
   ],
   "source": [
    "y_val_mean[0:5]"
   ]
  },
  {
   "cell_type": "code",
   "execution_count": 9,
   "id": "2dc589f8",
   "metadata": {},
   "outputs": [],
   "source": [
    "def rmse(predictions, targets):\n",
    "    return np.sqrt(((predictions - targets) ** 2).mean())"
   ]
  },
  {
   "cell_type": "code",
   "execution_count": 12,
   "id": "28cc2661",
   "metadata": {},
   "outputs": [
    {
     "name": "stdout",
     "output_type": "stream",
     "text": [
      "Simple Average: Root Mean Squared Error = 13.923\n"
     ]
    }
   ],
   "source": [
    "rm = rmse(y_val, y_val_mean)\n",
    "\n",
    "print('Simple Average: Root Mean Squared Error = %.3f' % (rm))\n"
   ]
  },
  {
   "cell_type": "markdown",
   "id": "208ca05f",
   "metadata": {},
   "source": [
    "Hm, that's pretty good already, but we do have room for improvement."
   ]
  },
  {
   "cell_type": "markdown",
   "id": "810ab3c9",
   "metadata": {},
   "source": [
    "Let's try a random forest. "
   ]
  },
  {
   "cell_type": "code",
   "execution_count": 13,
   "id": "f1d5ec01",
   "metadata": {},
   "outputs": [],
   "source": [
    "def rfc_and_print_scores(X_tra, y_tra, X_va, y_va, n_estimators, max_depth,criterion):\n",
    "    clf = RandomForestClassifier(n_estimators=n_estimators, max_depth = max_depth,criterion=criterion, random_state = 42,n_jobs=-1)\n",
    "    model_res = clf.fit(X_tra, y_tra)\n",
    "    y_pred = model_res.predict(X_va)\n",
    "\n",
    "    rm = rmse(y_va, y_pred)\n",
    "\n",
    "    print('Random Forest: RMSE=%.3f' % (rm))"
   ]
  },
  {
   "cell_type": "code",
   "execution_count": 14,
   "id": "a660563d",
   "metadata": {},
   "outputs": [
    {
     "name": "stdout",
     "output_type": "stream",
     "text": [
      "Random Forest: RMSE=14.853\n"
     ]
    }
   ],
   "source": [
    "rfc_and_print_scores(X_train, y_train, X_val, y_val,300,None,'gini')"
   ]
  },
  {
   "cell_type": "markdown",
   "id": "ed392048",
   "metadata": {},
   "source": [
    "Our score has gotten worse."
   ]
  },
  {
   "cell_type": "markdown",
   "id": "ad0b503c",
   "metadata": {},
   "source": [
    "Let's see what happens when we change the number of estimators - we don't have a lot of scripts"
   ]
  },
  {
   "cell_type": "code",
   "execution_count": 15,
   "id": "4f33fe7d",
   "metadata": {},
   "outputs": [
    {
     "name": "stdout",
     "output_type": "stream",
     "text": [
      "Random Forest: RMSE=15.637\n"
     ]
    }
   ],
   "source": [
    "rfc_and_print_scores(X_train, y_train, X_val, y_val,150,None,'gini')"
   ]
  },
  {
   "cell_type": "markdown",
   "id": "674208a9",
   "metadata": {},
   "source": [
    "That's worse. What if we drop the number of estimators more?"
   ]
  },
  {
   "cell_type": "code",
   "execution_count": 16,
   "id": "04da107e",
   "metadata": {},
   "outputs": [
    {
     "name": "stdout",
     "output_type": "stream",
     "text": [
      "Random Forest: RMSE=15.388\n"
     ]
    }
   ],
   "source": [
    "rfc_and_print_scores(X_train, y_train, X_val, y_val,100,None,'gini')  "
   ]
  },
  {
   "cell_type": "markdown",
   "id": "9c0615ac",
   "metadata": {},
   "source": [
    "It gets slightly better, but not better than the simple model."
   ]
  },
  {
   "cell_type": "markdown",
   "id": "abc9b317",
   "metadata": {},
   "source": [
    "What about linear regression?"
   ]
  },
  {
   "cell_type": "code",
   "execution_count": 17,
   "id": "662acb47",
   "metadata": {},
   "outputs": [
    {
     "name": "stdout",
     "output_type": "stream",
     "text": [
      "Linear Regression: RMSE=12.040\n"
     ]
    }
   ],
   "source": [
    "lr = LinearRegression()\n",
    "\n",
    "lr.fit(X_train,y_train)\n",
    "\n",
    "y_pred_lr = lr.predict(X_val)\n",
    "\n",
    "rm = rmse(y_val, y_pred_lr)\n",
    "\n",
    "print('Linear Regression: RMSE=%.3f' % (rm))"
   ]
  },
  {
   "cell_type": "markdown",
   "id": "e82b9b9f",
   "metadata": {},
   "source": [
    "Better than the simple model!"
   ]
  },
  {
   "cell_type": "markdown",
   "id": "b9396a25",
   "metadata": {},
   "source": [
    "We can try gradient boosting"
   ]
  },
  {
   "cell_type": "code",
   "execution_count": 18,
   "id": "f03c0c53",
   "metadata": {},
   "outputs": [],
   "source": [
    "from sklearn.ensemble import GradientBoostingClassifier"
   ]
  },
  {
   "cell_type": "code",
   "execution_count": 19,
   "id": "f51a048a",
   "metadata": {},
   "outputs": [],
   "source": [
    "def gbc_and_print_scores(X_tra, y_tra, X_va, y_va, n_e, l_r, m_f, m_d):\n",
    "    gb = GradientBoostingClassifier(n_estimators=n_e, learning_rate = l_r, max_features=m_f, max_depth = m_d, random_state = 42)\n",
    "\n",
    "    model_grad = gb.fit(X_tra, y_tra)\n",
    "    y_pred = model_grad.predict(X_va)\n",
    "\n",
    "    rm = rmse(y_va, y_pred)\n",
    "\n",
    "    print('Gradient Booster: RMSE=%.3f' % (rm))"
   ]
  },
  {
   "cell_type": "code",
   "execution_count": 20,
   "id": "3aaf25ca",
   "metadata": {},
   "outputs": [
    {
     "name": "stdout",
     "output_type": "stream",
     "text": [
      "Gradient Booster: RMSE=15.991\n",
      "Learning rate:  0.05\n",
      "\n",
      "Gradient Booster: RMSE=16.914\n",
      "Learning rate:  0.1\n",
      "\n",
      "Gradient Booster: RMSE=29.333\n",
      "Learning rate:  0.25\n",
      "\n",
      "Gradient Booster: RMSE=21.714\n",
      "Learning rate:  0.5\n",
      "\n",
      "Gradient Booster: RMSE=20.580\n",
      "Learning rate:  0.75\n",
      "\n",
      "Gradient Booster: RMSE=26.359\n",
      "Learning rate:  1\n",
      "\n"
     ]
    }
   ],
   "source": [
    "learning_rates = [0.05, 0.1, 0.25, 0.5, 0.75, 1]\n",
    "for learning_rate in learning_rates:\n",
    "    gbc_and_print_scores(X_train, y_train, X_val, y_val,300,learning_rate,2,2)\n",
    "\n",
    "    print(\"Learning rate: \", learning_rate)\n",
    "    print()"
   ]
  },
  {
   "cell_type": "markdown",
   "id": "2faee3a1",
   "metadata": {},
   "source": [
    "The random forest and linear regression performed better."
   ]
  },
  {
   "cell_type": "markdown",
   "id": "277b47a7",
   "metadata": {},
   "source": [
    "Let's make sure we have the best random forest."
   ]
  },
  {
   "cell_type": "code",
   "execution_count": 21,
   "id": "0409e744",
   "metadata": {},
   "outputs": [
    {
     "name": "stdout",
     "output_type": "stream",
     "text": [
      "Number of trees:  70\n",
      "Random Forest: RMSE=15.398\n",
      "\n",
      "Number of trees:  80\n",
      "Random Forest: RMSE=15.523\n",
      "\n",
      "Number of trees:  90\n",
      "Random Forest: RMSE=15.519\n",
      "\n",
      "Number of trees:  100\n",
      "Random Forest: RMSE=15.388\n",
      "\n",
      "Number of trees:  110\n",
      "Random Forest: RMSE=15.852\n",
      "\n",
      "Number of trees:  120\n",
      "Random Forest: RMSE=15.156\n",
      "\n"
     ]
    }
   ],
   "source": [
    "num_trees_list = [70, 80, 90, 100, 110, 120]\n",
    "for tree in num_trees_list:\n",
    "    print('Number of trees: ', tree)\n",
    "    rfc_and_print_scores(X_train, y_train, X_val, y_val,tree,None,'gini')\n",
    "    print()\n",
    "    #130, 140, 150, 160, 170"
   ]
  },
  {
   "cell_type": "markdown",
   "id": "8dbbd5d7",
   "metadata": {},
   "source": [
    "Looks like 120 trees are the best, although it's not doing as well as linear regression."
   ]
  },
  {
   "cell_type": "markdown",
   "id": "b70c6bdf",
   "metadata": {},
   "source": [
    "Let's tune another hyper-parameter, max_depth"
   ]
  },
  {
   "cell_type": "code",
   "execution_count": 22,
   "id": "5ccdb9a4",
   "metadata": {},
   "outputs": [
    {
     "name": "stdout",
     "output_type": "stream",
     "text": [
      "Max depth:  2\n",
      "Random Forest: RMSE=17.335\n",
      "Max depth:  5\n",
      "Random Forest: RMSE=15.187\n",
      "Max depth:  10\n",
      "Random Forest: RMSE=15.644\n",
      "Max depth:  15\n",
      "Random Forest: RMSE=15.715\n",
      "Max depth:  None\n",
      "Random Forest: RMSE=15.156\n"
     ]
    }
   ],
   "source": [
    "max_depths = [2, 5, 10, 15, None]\n",
    "for depth in max_depths:\n",
    "    print('Max depth: ', depth)\n",
    "    rfc_and_print_scores(X_train, y_train, X_val, y_val,120,depth,'gini')"
   ]
  },
  {
   "cell_type": "markdown",
   "id": "1119f2aa",
   "metadata": {},
   "source": [
    "Looks like not limiting the depth of the trees gives us slightly better results than any other depth."
   ]
  },
  {
   "cell_type": "markdown",
   "id": "194dc98d",
   "metadata": {},
   "source": [
    "Let's check the criterion, given our other hyperparameters."
   ]
  },
  {
   "cell_type": "code",
   "execution_count": 23,
   "id": "a3441b7e",
   "metadata": {},
   "outputs": [
    {
     "name": "stdout",
     "output_type": "stream",
     "text": [
      "Criterion:  gini\n",
      "Random Forest: RMSE=15.156\n",
      "Criterion:  entropy\n",
      "Random Forest: RMSE=15.864\n",
      "Criterion:  log_loss\n",
      "Random Forest: RMSE=15.864\n"
     ]
    }
   ],
   "source": [
    "crits = ['gini', 'entropy', 'log_loss']\n",
    "for crit in crits:\n",
    "    print('Criterion: ', crit)\n",
    "    rfc_and_print_scores(X_train, y_train, X_val, y_val,120,None,crit)"
   ]
  },
  {
   "cell_type": "markdown",
   "id": "f9a4e4d4",
   "metadata": {},
   "source": [
    "The default 'gini' score is the best, but it's still not better than linear regression or the simple model."
   ]
  },
  {
   "cell_type": "markdown",
   "id": "91e774cb",
   "metadata": {},
   "source": [
    "So the best parameters for the random forest are:<br>\n",
    "-120 trees<br>\n",
    "-a max-depth of None<br>\n",
    "-'gini' criterion"
   ]
  },
  {
   "cell_type": "markdown",
   "id": "8156d33c",
   "metadata": {},
   "source": [
    "Let's tune the gradient booster and see if it gets better. We've already found that a learning rate of 0.05 gives the \"best\" result of an RMSE of 15.991."
   ]
  },
  {
   "cell_type": "code",
   "execution_count": 24,
   "id": "548b0ee8",
   "metadata": {},
   "outputs": [
    {
     "name": "stdout",
     "output_type": "stream",
     "text": [
      "Gradient Booster: RMSE=16.666\n",
      "Number of estimators:  50\n",
      "\n",
      "Gradient Booster: RMSE=16.639\n",
      "Number of estimators:  100\n",
      "\n",
      "Gradient Booster: RMSE=16.045\n",
      "Number of estimators:  150\n",
      "\n",
      "Gradient Booster: RMSE=16.105\n",
      "Number of estimators:  200\n",
      "\n",
      "Gradient Booster: RMSE=15.875\n",
      "Number of estimators:  250\n",
      "\n",
      "Gradient Booster: RMSE=15.991\n",
      "Number of estimators:  300\n",
      "\n"
     ]
    }
   ],
   "source": [
    "num_ests = [50,100,150,200,250,300]\n",
    "for num_est in num_ests:\n",
    "    gbc_and_print_scores(X_train, y_train, X_val, y_val,num_est,0.05,2,2)\n",
    "\n",
    "    print(\"Number of estimators: \", num_est)\n",
    "    print()"
   ]
  },
  {
   "cell_type": "markdown",
   "id": "1866bfc8",
   "metadata": {},
   "source": [
    "So 250 estimators is slightly better. Let's tune max features next."
   ]
  },
  {
   "cell_type": "code",
   "execution_count": 25,
   "id": "51cc7e6c",
   "metadata": {},
   "outputs": [
    {
     "name": "stdout",
     "output_type": "stream",
     "text": [
      "Gradient Booster: RMSE=15.985\n",
      "Max features:  0.5\n",
      "\n",
      "Gradient Booster: RMSE=16.624\n",
      "Max features:  1\n",
      "\n",
      "Gradient Booster: RMSE=15.875\n",
      "Max features:  2\n",
      "\n",
      "Gradient Booster: RMSE=15.812\n",
      "Max features:  5\n",
      "\n",
      "Gradient Booster: RMSE=15.761\n",
      "Max features:  10\n",
      "\n"
     ]
    }
   ],
   "source": [
    "max_features = [0.5,1,2,5,10]\n",
    "for max_f in max_features:\n",
    "    gbc_and_print_scores(X_train, y_train, X_val, y_val,250,0.05,max_f,2)\n",
    "\n",
    "    print(\"Max features: \", max_f)\n",
    "    print()"
   ]
  },
  {
   "cell_type": "markdown",
   "id": "5d3a7b76",
   "metadata": {},
   "source": [
    "A max of 10 features is the a little better. Finally, we'll test max depth."
   ]
  },
  {
   "cell_type": "code",
   "execution_count": 26,
   "id": "1160a97e",
   "metadata": {},
   "outputs": [
    {
     "name": "stdout",
     "output_type": "stream",
     "text": [
      "Gradient Booster: RMSE=18.460\n",
      "Max depths:  1\n",
      "\n",
      "Gradient Booster: RMSE=15.761\n",
      "Max depths:  2\n",
      "\n",
      "Gradient Booster: RMSE=16.710\n",
      "Max depths:  5\n",
      "\n",
      "Gradient Booster: RMSE=16.128\n",
      "Max depths:  10\n",
      "\n"
     ]
    }
   ],
   "source": [
    "max_depths = [1,2,5,10]\n",
    "for max_d in max_depths:\n",
    "    gbc_and_print_scores(X_train, y_train, X_val, y_val,250,0.05,10,max_d)\n",
    "\n",
    "    print(\"Max depths: \", max_d)\n",
    "    print()"
   ]
  },
  {
   "cell_type": "markdown",
   "id": "5862acc2",
   "metadata": {},
   "source": [
    "The best we can do with a gradient booster is an RMSE of 15.761."
   ]
  },
  {
   "cell_type": "markdown",
   "id": "08ee0731",
   "metadata": {},
   "source": [
    "A summary of RMSE results:\n",
    "\n",
    "Simple model: 13.923 <br>\n",
    "Gradient booster: 15.761<br>\n",
    "Random forest: 15.156<br>\n",
    "Linear regression: 12.040"
   ]
  },
  {
   "cell_type": "markdown",
   "id": "4abe3a0c",
   "metadata": {},
   "source": [
    "Linear regression is our winning model!"
   ]
  },
  {
   "cell_type": "markdown",
   "id": "b9f98909",
   "metadata": {},
   "source": [
    "But we don't know if we have the right number of features. Let's test those."
   ]
  },
  {
   "cell_type": "markdown",
   "id": "b13739fe",
   "metadata": {},
   "source": [
    "We need to import all the features and ratings, and run through testing the number of features."
   ]
  },
  {
   "cell_type": "code",
   "execution_count": 10,
   "id": "e3b4592d",
   "metadata": {},
   "outputs": [
    {
     "data": {
      "text/html": [
       "<div>\n",
       "<style scoped>\n",
       "    .dataframe tbody tr th:only-of-type {\n",
       "        vertical-align: middle;\n",
       "    }\n",
       "\n",
       "    .dataframe tbody tr th {\n",
       "        vertical-align: top;\n",
       "    }\n",
       "\n",
       "    .dataframe thead th {\n",
       "        text-align: right;\n",
       "    }\n",
       "</style>\n",
       "<table border=\"1\" class=\"dataframe\">\n",
       "  <thead>\n",
       "    <tr style=\"text-align: right;\">\n",
       "      <th></th>\n",
       "      <th>00</th>\n",
       "      <th>000</th>\n",
       "      <th>10</th>\n",
       "      <th>100</th>\n",
       "      <th>101</th>\n",
       "      <th>102</th>\n",
       "      <th>103</th>\n",
       "      <th>104</th>\n",
       "      <th>105</th>\n",
       "      <th>106</th>\n",
       "      <th>...</th>\n",
       "      <th>genre_mystery</th>\n",
       "      <th>genre_news</th>\n",
       "      <th>genre_noir</th>\n",
       "      <th>genre_romance</th>\n",
       "      <th>genre_sci</th>\n",
       "      <th>genre_sport</th>\n",
       "      <th>genre_thriller</th>\n",
       "      <th>genre_war</th>\n",
       "      <th>genre_western</th>\n",
       "      <th>averageRating</th>\n",
       "    </tr>\n",
       "  </thead>\n",
       "  <tbody>\n",
       "    <tr>\n",
       "      <th>0</th>\n",
       "      <td>0</td>\n",
       "      <td>0</td>\n",
       "      <td>0</td>\n",
       "      <td>0</td>\n",
       "      <td>0</td>\n",
       "      <td>0</td>\n",
       "      <td>0</td>\n",
       "      <td>0</td>\n",
       "      <td>0</td>\n",
       "      <td>0</td>\n",
       "      <td>...</td>\n",
       "      <td>0</td>\n",
       "      <td>0</td>\n",
       "      <td>0</td>\n",
       "      <td>0</td>\n",
       "      <td>0</td>\n",
       "      <td>0</td>\n",
       "      <td>0</td>\n",
       "      <td>0</td>\n",
       "      <td>0</td>\n",
       "      <td>6.2</td>\n",
       "    </tr>\n",
       "    <tr>\n",
       "      <th>1</th>\n",
       "      <td>0</td>\n",
       "      <td>0</td>\n",
       "      <td>0</td>\n",
       "      <td>1</td>\n",
       "      <td>0</td>\n",
       "      <td>1</td>\n",
       "      <td>0</td>\n",
       "      <td>0</td>\n",
       "      <td>0</td>\n",
       "      <td>0</td>\n",
       "      <td>...</td>\n",
       "      <td>0</td>\n",
       "      <td>0</td>\n",
       "      <td>0</td>\n",
       "      <td>0</td>\n",
       "      <td>0</td>\n",
       "      <td>1</td>\n",
       "      <td>0</td>\n",
       "      <td>0</td>\n",
       "      <td>0</td>\n",
       "      <td>4.3</td>\n",
       "    </tr>\n",
       "    <tr>\n",
       "      <th>2</th>\n",
       "      <td>1</td>\n",
       "      <td>1</td>\n",
       "      <td>1</td>\n",
       "      <td>0</td>\n",
       "      <td>0</td>\n",
       "      <td>0</td>\n",
       "      <td>0</td>\n",
       "      <td>0</td>\n",
       "      <td>0</td>\n",
       "      <td>0</td>\n",
       "      <td>...</td>\n",
       "      <td>0</td>\n",
       "      <td>0</td>\n",
       "      <td>0</td>\n",
       "      <td>0</td>\n",
       "      <td>0</td>\n",
       "      <td>0</td>\n",
       "      <td>1</td>\n",
       "      <td>0</td>\n",
       "      <td>0</td>\n",
       "      <td>5.5</td>\n",
       "    </tr>\n",
       "    <tr>\n",
       "      <th>3</th>\n",
       "      <td>0</td>\n",
       "      <td>0</td>\n",
       "      <td>0</td>\n",
       "      <td>1</td>\n",
       "      <td>0</td>\n",
       "      <td>0</td>\n",
       "      <td>0</td>\n",
       "      <td>0</td>\n",
       "      <td>0</td>\n",
       "      <td>0</td>\n",
       "      <td>...</td>\n",
       "      <td>0</td>\n",
       "      <td>0</td>\n",
       "      <td>0</td>\n",
       "      <td>0</td>\n",
       "      <td>0</td>\n",
       "      <td>0</td>\n",
       "      <td>0</td>\n",
       "      <td>0</td>\n",
       "      <td>0</td>\n",
       "      <td>4.8</td>\n",
       "    </tr>\n",
       "    <tr>\n",
       "      <th>4</th>\n",
       "      <td>0</td>\n",
       "      <td>0</td>\n",
       "      <td>0</td>\n",
       "      <td>0</td>\n",
       "      <td>0</td>\n",
       "      <td>0</td>\n",
       "      <td>0</td>\n",
       "      <td>0</td>\n",
       "      <td>0</td>\n",
       "      <td>0</td>\n",
       "      <td>...</td>\n",
       "      <td>0</td>\n",
       "      <td>0</td>\n",
       "      <td>0</td>\n",
       "      <td>1</td>\n",
       "      <td>0</td>\n",
       "      <td>0</td>\n",
       "      <td>0</td>\n",
       "      <td>0</td>\n",
       "      <td>0</td>\n",
       "      <td>7.3</td>\n",
       "    </tr>\n",
       "  </tbody>\n",
       "</table>\n",
       "<p>5 rows × 6714 columns</p>\n",
       "</div>"
      ],
      "text/plain": [
       "   00  000  10  100  101  102  103  104  105  106  ...  genre_mystery  \\\n",
       "0   0    0   0    0    0    0    0    0    0    0  ...              0   \n",
       "1   0    0   0    1    0    1    0    0    0    0  ...              0   \n",
       "2   1    1   1    0    0    0    0    0    0    0  ...              0   \n",
       "3   0    0   0    1    0    0    0    0    0    0  ...              0   \n",
       "4   0    0   0    0    0    0    0    0    0    0  ...              0   \n",
       "\n",
       "   genre_news  genre_noir  genre_romance  genre_sci  genre_sport  \\\n",
       "0           0           0              0          0            0   \n",
       "1           0           0              0          0            1   \n",
       "2           0           0              0          0            0   \n",
       "3           0           0              0          0            0   \n",
       "4           0           0              1          0            0   \n",
       "\n",
       "   genre_thriller  genre_war  genre_western  averageRating  \n",
       "0               0          0              0            6.2  \n",
       "1               0          0              0            4.3  \n",
       "2               1          0              0            5.5  \n",
       "3               0          0              0            4.8  \n",
       "4               0          0              0            7.3  \n",
       "\n",
       "[5 rows x 6714 columns]"
      ]
     },
     "execution_count": 10,
     "metadata": {},
     "output_type": "execute_result"
    }
   ],
   "source": [
    "ratingsScriptsMLfull = pd.read_csv('ratingsAndBagOfWords.csv')\n",
    "ratingsScriptsMLfull.drop('Unnamed: 0',axis = 1, inplace = True)\n",
    "ratingsScriptsMLfull.head()"
   ]
  },
  {
   "cell_type": "markdown",
   "id": "3cbe98e1",
   "metadata": {},
   "source": [
    "We also need to set the ratings as integers again."
   ]
  },
  {
   "cell_type": "code",
   "execution_count": 11,
   "id": "fe2b8d84",
   "metadata": {},
   "outputs": [
    {
     "data": {
      "text/html": [
       "<div>\n",
       "<style scoped>\n",
       "    .dataframe tbody tr th:only-of-type {\n",
       "        vertical-align: middle;\n",
       "    }\n",
       "\n",
       "    .dataframe tbody tr th {\n",
       "        vertical-align: top;\n",
       "    }\n",
       "\n",
       "    .dataframe thead th {\n",
       "        text-align: right;\n",
       "    }\n",
       "</style>\n",
       "<table border=\"1\" class=\"dataframe\">\n",
       "  <thead>\n",
       "    <tr style=\"text-align: right;\">\n",
       "      <th></th>\n",
       "      <th>avgRating</th>\n",
       "    </tr>\n",
       "  </thead>\n",
       "  <tbody>\n",
       "    <tr>\n",
       "      <th>0</th>\n",
       "      <td>62</td>\n",
       "    </tr>\n",
       "    <tr>\n",
       "      <th>1</th>\n",
       "      <td>43</td>\n",
       "    </tr>\n",
       "    <tr>\n",
       "      <th>2</th>\n",
       "      <td>55</td>\n",
       "    </tr>\n",
       "    <tr>\n",
       "      <th>3</th>\n",
       "      <td>48</td>\n",
       "    </tr>\n",
       "    <tr>\n",
       "      <th>4</th>\n",
       "      <td>73</td>\n",
       "    </tr>\n",
       "  </tbody>\n",
       "</table>\n",
       "</div>"
      ],
      "text/plain": [
       "   avgRating\n",
       "0         62\n",
       "1         43\n",
       "2         55\n",
       "3         48\n",
       "4         73"
      ]
     },
     "execution_count": 11,
     "metadata": {},
     "output_type": "execute_result"
    }
   ],
   "source": [
    "ratingsFull = ratingsScriptsMLfull['averageRating']*10\n",
    "ratingsFull = ratingsFull.astype(int)\n",
    "ratingsDFfull = pd.DataFrame({'avgRating':ratingsFull})\n",
    "ratingsDFfull.head()"
   ]
  },
  {
   "cell_type": "code",
   "execution_count": 12,
   "id": "6c8b6154",
   "metadata": {},
   "outputs": [],
   "source": [
    "ratingsScriptsMLfull2 =ratingsScriptsMLfull.drop('averageRating', axis= 1)"
   ]
  },
  {
   "cell_type": "code",
   "execution_count": 13,
   "id": "1886f69e",
   "metadata": {},
   "outputs": [],
   "source": [
    "from sklearn.feature_selection import SelectKBest\n",
    "from sklearn.feature_selection import f_regression"
   ]
  },
  {
   "cell_type": "markdown",
   "id": "ef7c8676",
   "metadata": {},
   "source": [
    "Let's write a couple of functions. The first one will select the features and output the transformed dataframe. The second will test the linear regression model and output the root mean squared error."
   ]
  },
  {
   "cell_type": "code",
   "execution_count": 14,
   "id": "56bab931",
   "metadata": {},
   "outputs": [],
   "source": [
    "def selectFeatures(X,y,features):\n",
    "    fs = SelectKBest(score_func=f_regression, k=features)\n",
    "    # apply feature selection\n",
    "    transformedDF = fs.fit_transform(X, y)\n",
    "    return transformedDF\n",
    "    "
   ]
  },
  {
   "cell_type": "code",
   "execution_count": 18,
   "id": "c912b96e",
   "metadata": {},
   "outputs": [],
   "source": [
    "def lr_test_the_features(X,ye,features):\n",
    "    X_tr, X_te, y_tr, y_te = train_test_split(X,ye,test_size = .2, random_state = 42)\n",
    "    X_train, X_val, y_train, y_val = train_test_split(X_tr,y_tr,test_size = .2, random_state = 42)\n",
    "    lr = LinearRegression()\n",
    "    lr.fit(X_train,y_train)\n",
    "    y_pred_lr = lr.predict(X_val)\n",
    "    rm = rmse(y_val, y_pred_lr)\n",
    "    #print('Number of features: %.0f' % (features))\n",
    "    #print('Linear Regression: RMSE=%.3f' % (rm))\n",
    "    #print()\n",
    "    return rm"
   ]
  },
  {
   "cell_type": "markdown",
   "id": "7e415b01",
   "metadata": {},
   "source": [
    "Now that we have those functions, test the number of features and save all the RMSE for plotting."
   ]
  },
  {
   "cell_type": "code",
   "execution_count": 20,
   "id": "2c45db04",
   "metadata": {},
   "outputs": [],
   "source": [
    "features = np.arange(5,100,5)\n",
    "rmse_list = []\n",
    "for feature in features:\n",
    "    x_pruned = selectFeatures(ratingsScriptsMLfull2,y,feature)\n",
    "    rme_temp = lr_test_the_features(x_pruned,y,feature)\n",
    "    rmse_list.append(rme_temp)"
   ]
  },
  {
   "cell_type": "markdown",
   "id": "30304cce",
   "metadata": {},
   "source": [
    "Plot the RMSE against the number of features."
   ]
  },
  {
   "cell_type": "code",
   "execution_count": 48,
   "id": "b8461ef5",
   "metadata": {},
   "outputs": [
    {
     "data": {
      "image/png": "[encoded data removed]",
      "text/plain": [
       "<Figure size 640x480 with 1 Axes>"
      ]
     },
     "metadata": {},
     "output_type": "display_data"
    },
    {
     "data": {
      "text/plain": [
       "<Figure size 640x480 with 0 Axes>"
      ]
     },
     "metadata": {},
     "output_type": "display_data"
    }
   ],
   "source": [
    "import matplotlib.pyplot as plt\n",
    "plt.scatter(features,rmse_list)\n",
    "plt.xlabel('Number of features')\n",
    "plt.ylabel('RMSE')\n",
    "plt.title('RMSE by Number of Features')\n",
    "plt.show()\n",
    "plt.savefig('RMSEfeatures.png', bbox_inches='tight')"
   ]
  },
  {
   "cell_type": "markdown",
   "id": "0bbe4646",
   "metadata": {},
   "source": [
    "Looks like 20 features is ideal! \n",
    "\n",
    "Now that we have that, let's test the test data on our linear regression. We have to create that test data again, as it was created anew each time we ran our feature selection. We also want to run our feature selector again outside of the function so that we can access the features that are best."
   ]
  },
  {
   "cell_type": "code",
   "execution_count": 32,
   "id": "046265b6",
   "metadata": {},
   "outputs": [
    {
     "name": "stdout",
     "output_type": "stream",
     "text": [
      "Linear Regression with 20 features, test data: RMSE=14.038\n"
     ]
    }
   ],
   "source": [
    "fs = SelectKBest(score_func=f_regression, k=20)\n",
    "\n",
    "X_tr, X_te, y_tr, y_te = train_test_split(ratingsScriptsMLfull2,y,test_size = .2, random_state = 42)\n",
    "X_best = fs.fit_transform(X_tr, y_tr)\n",
    "X_te_best = fs.transform(X_te)\n",
    "lr = LinearRegression()\n",
    "lr.fit(X_best,y_tr)\n",
    "y_pred_final = lr.predict(X_te_best)\n",
    "rm = rmse(y_te, y_pred_final)\n",
    "print('Linear Regression with 20 features, test data: RMSE=%.3f' % (rm))"
   ]
  },
  {
   "cell_type": "markdown",
   "id": "1bc6aa05",
   "metadata": {},
   "source": [
    "Let's get the features that are in the model and make some graphs."
   ]
  },
  {
   "cell_type": "code",
   "execution_count": 33,
   "id": "cd226b56",
   "metadata": {},
   "outputs": [
    {
     "name": "stdout",
     "output_type": "stream",
     "text": [
      "['19' 'bartender' 'dimly' 'error' 'groggy' 'introduce' 'meaning' 'michael'\n",
      " 'slightest' 'tables' 'thrill' 'watched' 'genre_adventure'\n",
      " 'genre_animation' 'genre_drama' 'genre_horror' 'genre_music'\n",
      " 'genre_musical' 'genre_thriller' 'genre_western']\n"
     ]
    }
   ],
   "source": [
    "terms = fs.get_feature_names_out()\n",
    "print(terms)"
   ]
  },
  {
   "cell_type": "code",
   "execution_count": 37,
   "id": "c18bf8c3",
   "metadata": {},
   "outputs": [
    {
     "data": {
      "image/png": "[encoded data removed]",
      "text/plain": [
       "<Figure size 640x480 with 1 Axes>"
      ]
     },
     "metadata": {},
     "output_type": "display_data"
    }
   ],
   "source": [
    "plt.bar(terms,lr.coef_)\n",
    "plt.xticks(rotation = 90)\n",
    "plt.xlabel('Feature Names')\n",
    "plt.ylabel('Linear Regression Coefficient')\n",
    "plt.title('Coefficients of Features')\n",
    "plt.show()"
   ]
  },
  {
   "cell_type": "code",
   "execution_count": 45,
   "id": "16dfea45",
   "metadata": {},
   "outputs": [],
   "source": [
    "coef_and_name = pd.DataFrame({'terms':terms,'coeffs':lr.coef_})\n",
    "can_sorted = coef_and_name.sort_values('coeffs')"
   ]
  },
  {
   "cell_type": "code",
   "execution_count": 47,
   "id": "fb3413f2",
   "metadata": {},
   "outputs": [
    {
     "data": {
      "image/png": "[encoded data removed]",
      "text/plain": [
       "<Figure size 640x480 with 1 Axes>"
      ]
     },
     "metadata": {},
     "output_type": "display_data"
    },
    {
     "data": {
      "text/plain": [
       "<Figure size 640x480 with 0 Axes>"
      ]
     },
     "metadata": {},
     "output_type": "display_data"
    }
   ],
   "source": [
    "plt.bar(can_sorted['terms'],can_sorted['coeffs'])\n",
    "plt.xticks(rotation = 90)\n",
    "plt.xlabel('Feature Names')\n",
    "plt.ylabel('Linear Regression Coefficient')\n",
    "plt.title('Coefficients of Features')\n",
    "plt.show()\n",
    "plt.savefig('coeffs.png', bbox_inches='tight')"
   ]
  },
  {
   "cell_type": "code",
   "execution_count": null,
   "id": "a01a0c99",
   "metadata": {},
   "outputs": [],
   "source": []
  }
 ],
 "metadata": {
  "kernelspec": {
   "display_name": "Python 3 (ipykernel)",
   "language": "python",
   "name": "python3"
  },
  "language_info": {
   "codemirror_mode": {
    "name": "ipython",
    "version": 3
   },
   "file_extension": ".py",
   "mimetype": "text/x-python",
   "name": "python",
   "nbconvert_exporter": "python",
   "pygments_lexer": "ipython3",
   "version": "3.11.5"
  }
 },
 "nbformat": 4,
 "nbformat_minor": 5
}
