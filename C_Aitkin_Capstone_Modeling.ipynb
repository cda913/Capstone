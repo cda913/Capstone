{
 "cells": [
  {
   "cell_type": "markdown",
   "id": "6e000765",
   "metadata": {},
   "source": [
    "# Modeling\n",
    "\n",
    "So far... we have just under 700 scripts devolved into bag-of-words, along with ratings (from 1 to 10). Let's start modeling! \n",
    "\n",
    "We'll read in the datafile, create a training and a testing set, reduce dimensionality (fitting on the training set only to reduce data leakage), and then try some models. First we'll do a simple model that just predicts the mean of the ratings; then we'll try a random forest, linear regression, and gradient boosting."
   ]
  },
  {
   "cell_type": "markdown",
   "id": "1429edfd",
   "metadata": {},
   "source": [
    "We'll start by loading the data from the csv file, dividing into X (features) and y (ratings), and creating a training set and a testing set."
   ]
  },
  {
   "cell_type": "code",
   "execution_count": 1,
   "id": "a6d8cf93",
   "metadata": {},
   "outputs": [],
   "source": [
    "import pandas as pd\n",
    "from sklearn.model_selection import train_test_split\n",
    "\n",
    "ratingsScriptsML = pd.read_csv('ratingsAndBagOfWords.csv')"
   ]
  },
  {
   "cell_type": "code",
   "execution_count": 2,
   "id": "ba3c7e5d",
   "metadata": {},
   "outputs": [
    {
     "data": {
      "text/html": [
       "<div>\n",
       "<style scoped>\n",
       "    .dataframe tbody tr th:only-of-type {\n",
       "        vertical-align: middle;\n",
       "    }\n",
       "\n",
       "    .dataframe tbody tr th {\n",
       "        vertical-align: top;\n",
       "    }\n",
       "\n",
       "    .dataframe thead th {\n",
       "        text-align: right;\n",
       "    }\n",
       "</style>\n",
       "<table border=\"1\" class=\"dataframe\">\n",
       "  <thead>\n",
       "    <tr style=\"text-align: right;\">\n",
       "      <th></th>\n",
       "      <th>Unnamed: 0</th>\n",
       "      <th>00</th>\n",
       "      <th>000</th>\n",
       "      <th>10</th>\n",
       "      <th>100</th>\n",
       "      <th>101</th>\n",
       "      <th>102</th>\n",
       "      <th>103</th>\n",
       "      <th>104</th>\n",
       "      <th>105</th>\n",
       "      <th>...</th>\n",
       "      <th>yourselves</th>\n",
       "      <th>youth</th>\n",
       "      <th>zero</th>\n",
       "      <th>zip</th>\n",
       "      <th>zips</th>\n",
       "      <th>zone</th>\n",
       "      <th>zoo</th>\n",
       "      <th>zoom</th>\n",
       "      <th>zooms</th>\n",
       "      <th>averageRating</th>\n",
       "    </tr>\n",
       "  </thead>\n",
       "  <tbody>\n",
       "    <tr>\n",
       "      <th>0</th>\n",
       "      <td>0</td>\n",
       "      <td>0</td>\n",
       "      <td>0</td>\n",
       "      <td>0</td>\n",
       "      <td>0</td>\n",
       "      <td>0</td>\n",
       "      <td>0</td>\n",
       "      <td>0</td>\n",
       "      <td>0</td>\n",
       "      <td>0</td>\n",
       "      <td>...</td>\n",
       "      <td>0</td>\n",
       "      <td>14</td>\n",
       "      <td>0</td>\n",
       "      <td>0</td>\n",
       "      <td>0</td>\n",
       "      <td>0</td>\n",
       "      <td>0</td>\n",
       "      <td>0</td>\n",
       "      <td>0</td>\n",
       "      <td>6.2</td>\n",
       "    </tr>\n",
       "    <tr>\n",
       "      <th>1</th>\n",
       "      <td>1</td>\n",
       "      <td>0</td>\n",
       "      <td>0</td>\n",
       "      <td>0</td>\n",
       "      <td>1</td>\n",
       "      <td>0</td>\n",
       "      <td>1</td>\n",
       "      <td>0</td>\n",
       "      <td>0</td>\n",
       "      <td>0</td>\n",
       "      <td>...</td>\n",
       "      <td>0</td>\n",
       "      <td>0</td>\n",
       "      <td>0</td>\n",
       "      <td>0</td>\n",
       "      <td>0</td>\n",
       "      <td>0</td>\n",
       "      <td>0</td>\n",
       "      <td>0</td>\n",
       "      <td>0</td>\n",
       "      <td>4.3</td>\n",
       "    </tr>\n",
       "    <tr>\n",
       "      <th>2</th>\n",
       "      <td>2</td>\n",
       "      <td>1</td>\n",
       "      <td>1</td>\n",
       "      <td>1</td>\n",
       "      <td>0</td>\n",
       "      <td>0</td>\n",
       "      <td>0</td>\n",
       "      <td>0</td>\n",
       "      <td>0</td>\n",
       "      <td>0</td>\n",
       "      <td>...</td>\n",
       "      <td>0</td>\n",
       "      <td>1</td>\n",
       "      <td>0</td>\n",
       "      <td>0</td>\n",
       "      <td>0</td>\n",
       "      <td>0</td>\n",
       "      <td>0</td>\n",
       "      <td>0</td>\n",
       "      <td>0</td>\n",
       "      <td>7.6</td>\n",
       "    </tr>\n",
       "    <tr>\n",
       "      <th>3</th>\n",
       "      <td>3</td>\n",
       "      <td>0</td>\n",
       "      <td>0</td>\n",
       "      <td>0</td>\n",
       "      <td>1</td>\n",
       "      <td>0</td>\n",
       "      <td>0</td>\n",
       "      <td>0</td>\n",
       "      <td>0</td>\n",
       "      <td>0</td>\n",
       "      <td>...</td>\n",
       "      <td>0</td>\n",
       "      <td>0</td>\n",
       "      <td>0</td>\n",
       "      <td>0</td>\n",
       "      <td>0</td>\n",
       "      <td>0</td>\n",
       "      <td>0</td>\n",
       "      <td>0</td>\n",
       "      <td>0</td>\n",
       "      <td>4.8</td>\n",
       "    </tr>\n",
       "    <tr>\n",
       "      <th>4</th>\n",
       "      <td>4</td>\n",
       "      <td>0</td>\n",
       "      <td>0</td>\n",
       "      <td>0</td>\n",
       "      <td>0</td>\n",
       "      <td>0</td>\n",
       "      <td>0</td>\n",
       "      <td>0</td>\n",
       "      <td>0</td>\n",
       "      <td>0</td>\n",
       "      <td>...</td>\n",
       "      <td>1</td>\n",
       "      <td>0</td>\n",
       "      <td>0</td>\n",
       "      <td>0</td>\n",
       "      <td>0</td>\n",
       "      <td>1</td>\n",
       "      <td>0</td>\n",
       "      <td>1</td>\n",
       "      <td>2</td>\n",
       "      <td>7.3</td>\n",
       "    </tr>\n",
       "  </tbody>\n",
       "</table>\n",
       "<p>5 rows × 6689 columns</p>\n",
       "</div>"
      ],
      "text/plain": [
       "   Unnamed: 0  00  000  10  100  101  102  103  104  105  ...  yourselves  \\\n",
       "0           0   0    0   0    0    0    0    0    0    0  ...           0   \n",
       "1           1   0    0   0    1    0    1    0    0    0  ...           0   \n",
       "2           2   1    1   1    0    0    0    0    0    0  ...           0   \n",
       "3           3   0    0   0    1    0    0    0    0    0  ...           0   \n",
       "4           4   0    0   0    0    0    0    0    0    0  ...           1   \n",
       "\n",
       "   youth  zero  zip  zips  zone  zoo  zoom  zooms  averageRating  \n",
       "0     14     0    0     0     0    0     0      0            6.2  \n",
       "1      0     0    0     0     0    0     0      0            4.3  \n",
       "2      1     0    0     0     0    0     0      0            7.6  \n",
       "3      0     0    0     0     0    0     0      0            4.8  \n",
       "4      0     0    0     0     1    0     1      2            7.3  \n",
       "\n",
       "[5 rows x 6689 columns]"
      ]
     },
     "execution_count": 2,
     "metadata": {},
     "output_type": "execute_result"
    }
   ],
   "source": [
    "ratingsScriptsML.head()"
   ]
  },
  {
   "cell_type": "code",
   "execution_count": 3,
   "id": "0d878601",
   "metadata": {},
   "outputs": [],
   "source": [
    "ratingsScriptsML.drop('Unnamed: 0',axis = 1, inplace = True)"
   ]
  },
  {
   "cell_type": "code",
   "execution_count": 4,
   "id": "00f12b23",
   "metadata": {},
   "outputs": [
    {
     "data": {
      "text/html": [
       "<div>\n",
       "<style scoped>\n",
       "    .dataframe tbody tr th:only-of-type {\n",
       "        vertical-align: middle;\n",
       "    }\n",
       "\n",
       "    .dataframe tbody tr th {\n",
       "        vertical-align: top;\n",
       "    }\n",
       "\n",
       "    .dataframe thead th {\n",
       "        text-align: right;\n",
       "    }\n",
       "</style>\n",
       "<table border=\"1\" class=\"dataframe\">\n",
       "  <thead>\n",
       "    <tr style=\"text-align: right;\">\n",
       "      <th></th>\n",
       "      <th>00</th>\n",
       "      <th>000</th>\n",
       "      <th>10</th>\n",
       "      <th>100</th>\n",
       "      <th>101</th>\n",
       "      <th>102</th>\n",
       "      <th>103</th>\n",
       "      <th>104</th>\n",
       "      <th>105</th>\n",
       "      <th>106</th>\n",
       "      <th>...</th>\n",
       "      <th>yourselves</th>\n",
       "      <th>youth</th>\n",
       "      <th>zero</th>\n",
       "      <th>zip</th>\n",
       "      <th>zips</th>\n",
       "      <th>zone</th>\n",
       "      <th>zoo</th>\n",
       "      <th>zoom</th>\n",
       "      <th>zooms</th>\n",
       "      <th>averageRating</th>\n",
       "    </tr>\n",
       "  </thead>\n",
       "  <tbody>\n",
       "    <tr>\n",
       "      <th>0</th>\n",
       "      <td>0</td>\n",
       "      <td>0</td>\n",
       "      <td>0</td>\n",
       "      <td>0</td>\n",
       "      <td>0</td>\n",
       "      <td>0</td>\n",
       "      <td>0</td>\n",
       "      <td>0</td>\n",
       "      <td>0</td>\n",
       "      <td>0</td>\n",
       "      <td>...</td>\n",
       "      <td>0</td>\n",
       "      <td>14</td>\n",
       "      <td>0</td>\n",
       "      <td>0</td>\n",
       "      <td>0</td>\n",
       "      <td>0</td>\n",
       "      <td>0</td>\n",
       "      <td>0</td>\n",
       "      <td>0</td>\n",
       "      <td>6.2</td>\n",
       "    </tr>\n",
       "    <tr>\n",
       "      <th>1</th>\n",
       "      <td>0</td>\n",
       "      <td>0</td>\n",
       "      <td>0</td>\n",
       "      <td>1</td>\n",
       "      <td>0</td>\n",
       "      <td>1</td>\n",
       "      <td>0</td>\n",
       "      <td>0</td>\n",
       "      <td>0</td>\n",
       "      <td>0</td>\n",
       "      <td>...</td>\n",
       "      <td>0</td>\n",
       "      <td>0</td>\n",
       "      <td>0</td>\n",
       "      <td>0</td>\n",
       "      <td>0</td>\n",
       "      <td>0</td>\n",
       "      <td>0</td>\n",
       "      <td>0</td>\n",
       "      <td>0</td>\n",
       "      <td>4.3</td>\n",
       "    </tr>\n",
       "    <tr>\n",
       "      <th>2</th>\n",
       "      <td>1</td>\n",
       "      <td>1</td>\n",
       "      <td>1</td>\n",
       "      <td>0</td>\n",
       "      <td>0</td>\n",
       "      <td>0</td>\n",
       "      <td>0</td>\n",
       "      <td>0</td>\n",
       "      <td>0</td>\n",
       "      <td>0</td>\n",
       "      <td>...</td>\n",
       "      <td>0</td>\n",
       "      <td>1</td>\n",
       "      <td>0</td>\n",
       "      <td>0</td>\n",
       "      <td>0</td>\n",
       "      <td>0</td>\n",
       "      <td>0</td>\n",
       "      <td>0</td>\n",
       "      <td>0</td>\n",
       "      <td>7.6</td>\n",
       "    </tr>\n",
       "    <tr>\n",
       "      <th>3</th>\n",
       "      <td>0</td>\n",
       "      <td>0</td>\n",
       "      <td>0</td>\n",
       "      <td>1</td>\n",
       "      <td>0</td>\n",
       "      <td>0</td>\n",
       "      <td>0</td>\n",
       "      <td>0</td>\n",
       "      <td>0</td>\n",
       "      <td>0</td>\n",
       "      <td>...</td>\n",
       "      <td>0</td>\n",
       "      <td>0</td>\n",
       "      <td>0</td>\n",
       "      <td>0</td>\n",
       "      <td>0</td>\n",
       "      <td>0</td>\n",
       "      <td>0</td>\n",
       "      <td>0</td>\n",
       "      <td>0</td>\n",
       "      <td>4.8</td>\n",
       "    </tr>\n",
       "    <tr>\n",
       "      <th>4</th>\n",
       "      <td>0</td>\n",
       "      <td>0</td>\n",
       "      <td>0</td>\n",
       "      <td>0</td>\n",
       "      <td>0</td>\n",
       "      <td>0</td>\n",
       "      <td>0</td>\n",
       "      <td>0</td>\n",
       "      <td>0</td>\n",
       "      <td>0</td>\n",
       "      <td>...</td>\n",
       "      <td>1</td>\n",
       "      <td>0</td>\n",
       "      <td>0</td>\n",
       "      <td>0</td>\n",
       "      <td>0</td>\n",
       "      <td>1</td>\n",
       "      <td>0</td>\n",
       "      <td>1</td>\n",
       "      <td>2</td>\n",
       "      <td>7.3</td>\n",
       "    </tr>\n",
       "  </tbody>\n",
       "</table>\n",
       "<p>5 rows × 6688 columns</p>\n",
       "</div>"
      ],
      "text/plain": [
       "   00  000  10  100  101  102  103  104  105  106  ...  yourselves  youth  \\\n",
       "0   0    0   0    0    0    0    0    0    0    0  ...           0     14   \n",
       "1   0    0   0    1    0    1    0    0    0    0  ...           0      0   \n",
       "2   1    1   1    0    0    0    0    0    0    0  ...           0      1   \n",
       "3   0    0   0    1    0    0    0    0    0    0  ...           0      0   \n",
       "4   0    0   0    0    0    0    0    0    0    0  ...           1      0   \n",
       "\n",
       "   zero  zip  zips  zone  zoo  zoom  zooms  averageRating  \n",
       "0     0    0     0     0    0     0      0            6.2  \n",
       "1     0    0     0     0    0     0      0            4.3  \n",
       "2     0    0     0     0    0     0      0            7.6  \n",
       "3     0    0     0     0    0     0      0            4.8  \n",
       "4     0    0     0     1    0     1      2            7.3  \n",
       "\n",
       "[5 rows x 6688 columns]"
      ]
     },
     "execution_count": 4,
     "metadata": {},
     "output_type": "execute_result"
    }
   ],
   "source": [
    "ratingsScriptsML.head()"
   ]
  },
  {
   "cell_type": "markdown",
   "id": "478343b8",
   "metadata": {},
   "source": [
    "Our dependent variable - ratings - is a continuous variable. For the random forest, we need integers. Since the ratings as given are rounded to the tenths place, we'll multiply them by 10. This way, our ratings will be integers; they'll range from 10 to almost 100."
   ]
  },
  {
   "cell_type": "code",
   "execution_count": 5,
   "id": "290c92ff",
   "metadata": {},
   "outputs": [],
   "source": [
    "X = ratingsScriptsML.drop('averageRating', axis= 1)\n",
    "y = ratingsScriptsML['averageRating']\n",
    "\n",
    "y = y*10\n",
    "y = y.astype(int)\n",
    "\n",
    "X_tr, X_te, y_tr, y_te = train_test_split(X,y,test_size = .2, random_state = 42)"
   ]
  },
  {
   "cell_type": "markdown",
   "id": "c4016727",
   "metadata": {},
   "source": [
    "We reduced the matrix in EDA to see how correlated the SVD features were with the average rating, but we didn't save the reduced matrix. We didn't save it so we could train it on just the training data, not the whole dataset. It's time to reduce our matrix again with SVD!"
   ]
  },
  {
   "cell_type": "code",
   "execution_count": 6,
   "id": "86da3c8e",
   "metadata": {},
   "outputs": [],
   "source": [
    "from sklearn.decomposition import TruncatedSVD\n",
    "\n",
    "svd = TruncatedSVD(n_components = 27, random_state = 42)\n",
    "svd.fit(X_tr) # make sure only fit to the training set\n",
    "X_tr_transformed = svd.transform(X_tr)\n",
    "X_te_transformed = svd.transform(X_te)"
   ]
  },
  {
   "cell_type": "code",
   "execution_count": 7,
   "id": "c500b9ca",
   "metadata": {},
   "outputs": [],
   "source": [
    "from sklearn.metrics import precision_recall_curve\n",
    "from sklearn.metrics import f1_score\n",
    "from sklearn.metrics import auc\n",
    "from sklearn.linear_model import LinearRegression\n",
    "from sklearn.metrics import classification_report,confusion_matrix,roc_curve,roc_auc_score\n",
    "from sklearn.metrics import accuracy_score,log_loss\n",
    "from matplotlib import pyplot\n",
    "from sklearn.ensemble import RandomForestClassifier"
   ]
  },
  {
   "cell_type": "markdown",
   "id": "da20389d",
   "metadata": {},
   "source": [
    "Create a validation set to leave the testing to last"
   ]
  },
  {
   "cell_type": "code",
   "execution_count": 8,
   "id": "b871bbef",
   "metadata": {},
   "outputs": [],
   "source": [
    "X_train, X_val, y_train, y_val = train_test_split(X_tr_transformed,y_tr,test_size = .2, random_state = 42)"
   ]
  },
  {
   "cell_type": "markdown",
   "id": "310b3d17",
   "metadata": {},
   "source": [
    "First let's try a very simple model"
   ]
  },
  {
   "cell_type": "code",
   "execution_count": 11,
   "id": "ec598670",
   "metadata": {},
   "outputs": [],
   "source": [
    "import numpy as np\n",
    "\n",
    "y_val_mean = [round(np.mean(y_train),0)] * len(y_val)"
   ]
  },
  {
   "cell_type": "code",
   "execution_count": 12,
   "id": "176d4d84",
   "metadata": {},
   "outputs": [
    {
     "data": {
      "text/plain": [
       "[60.0, 60.0, 60.0, 60.0, 60.0]"
      ]
     },
     "execution_count": 12,
     "metadata": {},
     "output_type": "execute_result"
    }
   ],
   "source": [
    "y_val_mean[0:5]"
   ]
  },
  {
   "cell_type": "code",
   "execution_count": 13,
   "id": "2dc589f8",
   "metadata": {},
   "outputs": [],
   "source": [
    "def rmse(predictions, targets):\n",
    "    return np.sqrt(((predictions - targets) ** 2).mean())"
   ]
  },
  {
   "cell_type": "code",
   "execution_count": 14,
   "id": "28cc2661",
   "metadata": {},
   "outputs": [
    {
     "name": "stdout",
     "output_type": "stream",
     "text": [
      "Simple Average: Root Mean Squared Error = 13.823\n"
     ]
    }
   ],
   "source": [
    "rm = rmse(y_val, y_val_mean)\n",
    "\n",
    "print('Simple Average: Root Mean Squared Error = %.3f' % (rm))\n"
   ]
  },
  {
   "cell_type": "markdown",
   "id": "208ca05f",
   "metadata": {},
   "source": [
    "Hm, that's pretty good already, but we do have room for improvement."
   ]
  },
  {
   "cell_type": "markdown",
   "id": "810ab3c9",
   "metadata": {},
   "source": [
    "Let's try a random forest. "
   ]
  },
  {
   "cell_type": "code",
   "execution_count": 15,
   "id": "f1d5ec01",
   "metadata": {},
   "outputs": [],
   "source": [
    "def rfc_and_print_scores(X_tra, y_tra, X_va, y_va, n_estimators, max_depth,criterion):\n",
    "    clf = RandomForestClassifier(n_estimators=n_estimators, max_depth = max_depth,criterion=criterion, random_state = 1,n_jobs=-1)\n",
    "    model_res = clf.fit(X_tra, y_tra)\n",
    "    y_pred = model_res.predict(X_va)\n",
    "\n",
    "    rm = rmse(y_va, y_pred)\n",
    "\n",
    "    print('Random Forest: RMSE=%.3f' % (rm))"
   ]
  },
  {
   "cell_type": "code",
   "execution_count": 16,
   "id": "a660563d",
   "metadata": {},
   "outputs": [
    {
     "name": "stdout",
     "output_type": "stream",
     "text": [
      "Random Forest: RMSE=17.240\n"
     ]
    }
   ],
   "source": [
    "rfc_and_print_scores(X_train, y_train, X_val, y_val,300,None,'gini')"
   ]
  },
  {
   "cell_type": "markdown",
   "id": "ed392048",
   "metadata": {},
   "source": [
    "Our score has gotten worse."
   ]
  },
  {
   "cell_type": "markdown",
   "id": "ad0b503c",
   "metadata": {},
   "source": [
    "Let's see what happens when we change the number of estimators - we don't have a lot of scripts"
   ]
  },
  {
   "cell_type": "code",
   "execution_count": 18,
   "id": "4f33fe7d",
   "metadata": {},
   "outputs": [
    {
     "name": "stdout",
     "output_type": "stream",
     "text": [
      "Random Forest: RMSE=17.251\n"
     ]
    }
   ],
   "source": [
    "rfc_and_print_scores(X_train, y_train, X_val, y_val,150,None,'gini')"
   ]
  },
  {
   "cell_type": "markdown",
   "id": "674208a9",
   "metadata": {},
   "source": [
    "That's nearly the same. What if we drop the number of estimators more?"
   ]
  },
  {
   "cell_type": "code",
   "execution_count": 20,
   "id": "04da107e",
   "metadata": {},
   "outputs": [
    {
     "name": "stdout",
     "output_type": "stream",
     "text": [
      "Random Forest: RMSE=16.953\n"
     ]
    }
   ],
   "source": [
    "rfc_and_print_scores(X_train, y_train, X_val, y_val,100,None,'gini')  "
   ]
  },
  {
   "cell_type": "markdown",
   "id": "9c0615ac",
   "metadata": {},
   "source": [
    "It gets slightly better, but not better than the simple model."
   ]
  },
  {
   "cell_type": "markdown",
   "id": "abc9b317",
   "metadata": {},
   "source": [
    "What about linear regression?"
   ]
  },
  {
   "cell_type": "code",
   "execution_count": 21,
   "id": "662acb47",
   "metadata": {},
   "outputs": [
    {
     "name": "stdout",
     "output_type": "stream",
     "text": [
      "Linear Regression: RMSE=14.114\n"
     ]
    }
   ],
   "source": [
    "lr = LinearRegression()\n",
    "\n",
    "lr.fit(X_train,y_train)\n",
    "\n",
    "y_pred_lr = lr.predict(X_val)\n",
    "\n",
    "rm = rmse(y_val, y_pred_lr)\n",
    "\n",
    "print('Linear Regression: RMSE=%.3f' % (rm))"
   ]
  },
  {
   "cell_type": "markdown",
   "id": "e82b9b9f",
   "metadata": {},
   "source": [
    "Better than the random forest, but not as good as the simple model"
   ]
  },
  {
   "cell_type": "markdown",
   "id": "b9396a25",
   "metadata": {},
   "source": [
    "We can try gradient boosting"
   ]
  },
  {
   "cell_type": "code",
   "execution_count": 22,
   "id": "f03c0c53",
   "metadata": {},
   "outputs": [],
   "source": [
    "from sklearn.ensemble import GradientBoostingClassifier"
   ]
  },
  {
   "cell_type": "code",
   "execution_count": 46,
   "id": "f51a048a",
   "metadata": {},
   "outputs": [],
   "source": [
    "def gbc_and_print_scores(X_tra, y_tra, X_va, y_va, n_e, l_r, m_f, m_d):\n",
    "    gb = GradientBoostingClassifier(n_estimators=n_e, learning_rate = l_r, max_features=m_f, max_depth = m_d, random_state = 0)\n",
    "\n",
    "    model_grad = gb.fit(X_tra, y_tra)\n",
    "    y_pred = model_grad.predict(X_va)\n",
    "\n",
    "    rm = rmse(y_va, y_pred)\n",
    "\n",
    "    print('Gradient Booster: RMSE=%.3f' % (rm))"
   ]
  },
  {
   "cell_type": "code",
   "execution_count": 47,
   "id": "3aaf25ca",
   "metadata": {},
   "outputs": [
    {
     "name": "stdout",
     "output_type": "stream",
     "text": [
      "Gradient Booster: RMSE=17.605\n",
      "Learning rate:  0.05\n",
      "\n",
      "Gradient Booster: RMSE=16.641\n",
      "Learning rate:  0.1\n",
      "\n",
      "Gradient Booster: RMSE=18.710\n",
      "Learning rate:  0.25\n",
      "\n",
      "Gradient Booster: RMSE=20.090\n",
      "Learning rate:  0.5\n",
      "\n",
      "Gradient Booster: RMSE=20.341\n",
      "Learning rate:  0.75\n",
      "\n",
      "Gradient Booster: RMSE=27.173\n",
      "Learning rate:  1\n",
      "\n"
     ]
    }
   ],
   "source": [
    "learning_rates = [0.05, 0.1, 0.25, 0.5, 0.75, 1]\n",
    "for learning_rate in learning_rates:\n",
    "    gbc_and_print_scores(X_train, y_train, X_val, y_val,300,learning_rate,2,2)\n",
    "\n",
    "    print(\"Learning rate: \", learning_rate)\n",
    "    print()"
   ]
  },
  {
   "cell_type": "markdown",
   "id": "2faee3a1",
   "metadata": {},
   "source": [
    "The random forest and linear regression performed better, but none of the models so far performed as well as a simple model of using the mean to predict the rating."
   ]
  },
  {
   "cell_type": "markdown",
   "id": "277b47a7",
   "metadata": {},
   "source": [
    "Let's make sure we have the best random forest."
   ]
  },
  {
   "cell_type": "code",
   "execution_count": 37,
   "id": "0409e744",
   "metadata": {},
   "outputs": [
    {
     "name": "stdout",
     "output_type": "stream",
     "text": [
      "Number of trees:  70\n",
      "Random Forest: RMSE=17.419\n",
      "\n",
      "Number of trees:  80\n",
      "Random Forest: RMSE=17.463\n",
      "\n",
      "Number of trees:  90\n",
      "Random Forest: RMSE=17.018\n",
      "\n",
      "Number of trees:  100\n",
      "Random Forest: RMSE=16.953\n",
      "\n",
      "Number of trees:  110\n",
      "Random Forest: RMSE=17.158\n",
      "\n",
      "Number of trees:  120\n",
      "Random Forest: RMSE=17.245\n",
      "\n"
     ]
    }
   ],
   "source": [
    "num_trees_list = [70, 80, 90, 100, 110, 120]\n",
    "for tree in num_trees_list:\n",
    "    print('Number of trees: ', tree)\n",
    "    rfc_and_print_scores(X_train, y_train, X_val, y_val,tree,None,'gini')\n",
    "    print()\n",
    "    #130, 140, 150, 160, 170"
   ]
  },
  {
   "cell_type": "markdown",
   "id": "8dbbd5d7",
   "metadata": {},
   "source": [
    "Looks like 100 trees are the best."
   ]
  },
  {
   "cell_type": "markdown",
   "id": "b70c6bdf",
   "metadata": {},
   "source": [
    "Let's tune another hyper-parameter, max_depth"
   ]
  },
  {
   "cell_type": "code",
   "execution_count": 40,
   "id": "5ccdb9a4",
   "metadata": {},
   "outputs": [
    {
     "name": "stdout",
     "output_type": "stream",
     "text": [
      "Max depth:  2\n",
      "Random Forest: RMSE=16.740\n",
      "Max depth:  5\n",
      "Random Forest: RMSE=16.740\n",
      "Max depth:  10\n",
      "Random Forest: RMSE=18.160\n",
      "Max depth:  15\n",
      "Random Forest: RMSE=17.016\n",
      "Max depth:  None\n",
      "Random Forest: RMSE=16.953\n"
     ]
    }
   ],
   "source": [
    "max_depths = [2, 5, 10, 15, None]\n",
    "for depth in max_depths:\n",
    "    print('Max depth: ', depth)\n",
    "    rfc_and_print_scores(X_train, y_train, X_val, y_val,100,depth,'gini')"
   ]
  },
  {
   "cell_type": "markdown",
   "id": "1119f2aa",
   "metadata": {},
   "source": [
    "Looks like limiting the depth of the trees to 5 gives us slightly better results."
   ]
  },
  {
   "cell_type": "markdown",
   "id": "194dc98d",
   "metadata": {},
   "source": [
    "Let's check the criterion, given our other hyperparameters."
   ]
  },
  {
   "cell_type": "code",
   "execution_count": 41,
   "id": "a3441b7e",
   "metadata": {},
   "outputs": [
    {
     "name": "stdout",
     "output_type": "stream",
     "text": [
      "Criterion:  gini\n",
      "Random Forest: RMSE=16.740\n",
      "Criterion:  entropy\n",
      "Random Forest: RMSE=16.921\n",
      "Criterion:  log_loss\n",
      "Random Forest: RMSE=16.921\n"
     ]
    }
   ],
   "source": [
    "crits = ['gini', 'entropy', 'log_loss']\n",
    "for crit in crits:\n",
    "    print('Criterion: ', crit)\n",
    "    rfc_and_print_scores(X_train, y_train, X_val, y_val,100,5,crit)"
   ]
  },
  {
   "cell_type": "markdown",
   "id": "f9a4e4d4",
   "metadata": {},
   "source": [
    "The default 'gini' score is the best, but it's still not better than linear regression or the simple model."
   ]
  },
  {
   "cell_type": "markdown",
   "id": "91e774cb",
   "metadata": {},
   "source": [
    "So the best parameters for the random forest are:<br>\n",
    "-100 trees<br>\n",
    "-a max-depth of 5<br>\n",
    "-'gini' criterion"
   ]
  },
  {
   "cell_type": "markdown",
   "id": "8156d33c",
   "metadata": {},
   "source": [
    "Let's tune the gradient booster and see if it gets better. We've already found that a learning rate of 0.1 gives the \"best\" result of an RMSE of 16.641"
   ]
  },
  {
   "cell_type": "code",
   "execution_count": 48,
   "id": "548b0ee8",
   "metadata": {},
   "outputs": [
    {
     "name": "stdout",
     "output_type": "stream",
     "text": [
      "Gradient Booster: RMSE=17.576\n",
      "Number of estimators:  50\n",
      "\n",
      "Gradient Booster: RMSE=17.654\n",
      "Number of estimators:  100\n",
      "\n",
      "Gradient Booster: RMSE=16.805\n",
      "Number of estimators:  150\n",
      "\n",
      "Gradient Booster: RMSE=16.943\n",
      "Number of estimators:  200\n",
      "\n",
      "Gradient Booster: RMSE=16.214\n",
      "Number of estimators:  250\n",
      "\n",
      "Gradient Booster: RMSE=16.641\n",
      "Number of estimators:  300\n",
      "\n"
     ]
    }
   ],
   "source": [
    "num_ests = [50,100,150,200,250,300]\n",
    "for num_est in num_ests:\n",
    "    gbc_and_print_scores(X_train, y_train, X_val, y_val,num_est,0.1,2,2)\n",
    "\n",
    "    print(\"Number of estimators: \", num_est)\n",
    "    print()"
   ]
  },
  {
   "cell_type": "markdown",
   "id": "1866bfc8",
   "metadata": {},
   "source": [
    "So 250 estimators is slightly better. Let's tune max features next."
   ]
  },
  {
   "cell_type": "code",
   "execution_count": 50,
   "id": "51cc7e6c",
   "metadata": {},
   "outputs": [
    {
     "name": "stdout",
     "output_type": "stream",
     "text": [
      "Gradient Booster: RMSE=17.415\n",
      "Max features:  0.5\n",
      "\n",
      "Gradient Booster: RMSE=16.992\n",
      "Max features:  1\n",
      "\n",
      "Gradient Booster: RMSE=16.214\n",
      "Max features:  2\n",
      "\n",
      "Gradient Booster: RMSE=26.073\n",
      "Max features:  5\n",
      "\n",
      "Gradient Booster: RMSE=20.288\n",
      "Max features:  10\n",
      "\n"
     ]
    }
   ],
   "source": [
    "max_features = [0.5,1,2,5,10]\n",
    "for max_f in max_features:\n",
    "    gbc_and_print_scores(X_train, y_train, X_val, y_val,250,0.1,max_f,2)\n",
    "\n",
    "    print(\"Max features: \", max_f)\n",
    "    print()"
   ]
  },
  {
   "cell_type": "markdown",
   "id": "5d3a7b76",
   "metadata": {},
   "source": [
    "A max of 2 features is the best. Finally, we'll test max depth."
   ]
  },
  {
   "cell_type": "code",
   "execution_count": 51,
   "id": "1160a97e",
   "metadata": {},
   "outputs": [
    {
     "name": "stdout",
     "output_type": "stream",
     "text": [
      "Gradient Booster: RMSE=17.556\n",
      "Max depths:  1\n",
      "\n",
      "Gradient Booster: RMSE=16.214\n",
      "Max depths:  2\n",
      "\n",
      "Gradient Booster: RMSE=17.366\n",
      "Max depths:  5\n",
      "\n",
      "Gradient Booster: RMSE=17.745\n",
      "Max depths:  10\n",
      "\n"
     ]
    }
   ],
   "source": [
    "max_depths = [1,2,5,10]\n",
    "for max_d in max_depths:\n",
    "    gbc_and_print_scores(X_train, y_train, X_val, y_val,250,0.1,2,max_d)\n",
    "\n",
    "    print(\"Max depths: \", max_d)\n",
    "    print()"
   ]
  },
  {
   "cell_type": "markdown",
   "id": "5862acc2",
   "metadata": {},
   "source": [
    "So the best we can do with a gradient booster is an RMSE of 16.214"
   ]
  },
  {
   "cell_type": "markdown",
   "id": "cd302309",
   "metadata": {},
   "source": [
    "Let's try a polynomial regression. \n",
    "\n",
    "We need to transform the X data further, so we'll also need to split our training data into a training and validation set again."
   ]
  },
  {
   "cell_type": "code",
   "execution_count": 34,
   "id": "a5f4b39d",
   "metadata": {},
   "outputs": [],
   "source": [
    "from sklearn.preprocessing import PolynomialFeatures\n",
    "poly_transform = PolynomialFeatures(degree=2, include_bias=False)\n",
    "X_poly_train = poly_transform.fit_transform(X_tr_transformed)\n",
    "X_poly_test = poly_transform.transform(X_te_transformed)\n",
    "\n",
    "\n",
    "X_poly_train, X_poly_val, y_poly_train, y_poly_val = train_test_split(X_poly_train,y_tr,test_size = .2, random_state = 42)"
   ]
  },
  {
   "cell_type": "code",
   "execution_count": 36,
   "id": "526ac112",
   "metadata": {},
   "outputs": [
    {
     "name": "stdout",
     "output_type": "stream",
     "text": [
      "Polynomial Regression: RMSE=121058.951\n"
     ]
    }
   ],
   "source": [
    "lr_poly = LinearRegression()\n",
    "\n",
    "lr_poly.fit(X_poly_train, y_poly_train)\n",
    "\n",
    "y_poly_pred_lr = lr_poly.predict(X_poly_val)\n",
    "\n",
    "rm = rmse(y_poly_val, y_poly_pred_lr)\n",
    "\n",
    "print('Polynomial Regression: RMSE=%.3f' % (rm))\n"
   ]
  },
  {
   "cell_type": "markdown",
   "id": "617a2c42",
   "metadata": {},
   "source": [
    "This model does much worse than the others tried so far."
   ]
  },
  {
   "cell_type": "markdown",
   "id": "190ee11e",
   "metadata": {},
   "source": [
    "We used 27 features in the SVD, because that's about the square root of the number of movies we have. However, there's also a suggestion that there should be 10 times the observations as number of features, so let's try refitting the SVD for 7 features."
   ]
  },
  {
   "cell_type": "code",
   "execution_count": 42,
   "id": "a44939d9",
   "metadata": {},
   "outputs": [],
   "source": [
    "svd7 = TruncatedSVD(n_components = 7, random_state = 42)\n",
    "svd7.fit(X_tr) # make sure only fit to the training set\n",
    "X_tr7_transformed = svd7.transform(X_tr)\n",
    "X_te7_transformed = svd7.transform(X_te)"
   ]
  },
  {
   "cell_type": "code",
   "execution_count": 43,
   "id": "7179132a",
   "metadata": {},
   "outputs": [],
   "source": [
    "X7_train, X7_val, y7_train, y7_val = train_test_split(X_tr7_transformed,y_tr,test_size = .2, random_state = 42)"
   ]
  },
  {
   "cell_type": "markdown",
   "id": "c29a17a9",
   "metadata": {},
   "source": [
    "Our simple model, using the mean of the ratings to predict the ratings, won't change due to the change in features. As a reminder, that has a RMSE of 13.823. \n",
    "\n",
    "Let's try our optimal random forest, which had RMSE=16.740."
   ]
  },
  {
   "cell_type": "code",
   "execution_count": 44,
   "id": "29c2716c",
   "metadata": {},
   "outputs": [
    {
     "name": "stdout",
     "output_type": "stream",
     "text": [
      "Random Forest: RMSE=16.854\n"
     ]
    }
   ],
   "source": [
    "rfc_and_print_scores(X7_train, y7_train, X7_val, y7_val,100,5,'gini')"
   ]
  },
  {
   "cell_type": "markdown",
   "id": "6b72203b",
   "metadata": {},
   "source": [
    "The RMSE for the optimal random forest with 7 features is slightly worse. Let's try linear regression, which had a RMSE of 14.114."
   ]
  },
  {
   "cell_type": "code",
   "execution_count": 45,
   "id": "64dd564d",
   "metadata": {},
   "outputs": [
    {
     "name": "stdout",
     "output_type": "stream",
     "text": [
      "Linear Regression: RMSE=13.917\n"
     ]
    }
   ],
   "source": [
    "lr7 = LinearRegression()\n",
    "\n",
    "lr7.fit(X7_train,y7_train)\n",
    "\n",
    "y7_pred_lr = lr7.predict(X7_val)\n",
    "\n",
    "rm = rmse(y7_val, y7_pred_lr)\n",
    "\n",
    "print('Linear Regression: RMSE=%.3f' % (rm))"
   ]
  },
  {
   "cell_type": "markdown",
   "id": "9558a713",
   "metadata": {},
   "source": [
    "This is better."
   ]
  },
  {
   "cell_type": "markdown",
   "id": "bf2e7f47",
   "metadata": {},
   "source": [
    "Let's try the optimal gradient booster (which, recall, was not very good)."
   ]
  },
  {
   "cell_type": "code",
   "execution_count": 52,
   "id": "3b729db5",
   "metadata": {},
   "outputs": [
    {
     "name": "stdout",
     "output_type": "stream",
     "text": [
      "Gradient Booster: RMSE=16.878\n"
     ]
    }
   ],
   "source": [
    "gbc_and_print_scores(X7_train, y7_train, X7_val, y7_val,250,0.1,2,2)"
   ]
  },
  {
   "cell_type": "markdown",
   "id": "9ee5b1e8",
   "metadata": {},
   "source": [
    "Still not very good."
   ]
  },
  {
   "cell_type": "code",
   "execution_count": null,
   "id": "1f8e1f84",
   "metadata": {},
   "outputs": [],
   "source": []
  }
 ],
 "metadata": {
  "kernelspec": {
   "display_name": "Python 3 (ipykernel)",
   "language": "python",
   "name": "python3"
  },
  "language_info": {
   "codemirror_mode": {
    "name": "ipython",
    "version": 3
   },
   "file_extension": ".py",
   "mimetype": "text/x-python",
   "name": "python",
   "nbconvert_exporter": "python",
   "pygments_lexer": "ipython3",
   "version": "3.11.5"
  }
 },
 "nbformat": 4,
 "nbformat_minor": 5
}
